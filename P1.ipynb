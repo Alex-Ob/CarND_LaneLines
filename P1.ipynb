{
 "cells": [
  {
   "cell_type": "markdown",
   "metadata": {},
   "source": [
    "# Self-Driving Car Engineer Nanodegree\n",
    "\n",
    "\n",
    "## Project: **Finding Lane Lines on the Road** \n",
    "***\n",
    "In this project, you will use the tools you learned about in the lesson to identify lane lines on the road.  You can develop your pipeline on a series of individual images, and later apply the result to a video stream (really just a series of images). Check out the video clip \"raw-lines-example.mp4\" (also contained in this repository) to see what the output should look like after using the helper functions below. \n",
    "\n",
    "Once you have a result that looks roughly like \"raw-lines-example.mp4\", you'll need to get creative and try to average and/or extrapolate the line segments you've detected to map out the full extent of the lane lines.  You can see an example of the result you're going for in the video \"P1_example.mp4\".  Ultimately, you would like to draw just one line for the left side of the lane, and one for the right.\n",
    "\n",
    "In addition to implementing code, there is a brief writeup to complete. The writeup should be completed in a separate file, which can be either a markdown file or a pdf document. There is a [write up template](https://github.com/udacity/CarND-LaneLines-P1/blob/master/writeup_template.md) that can be used to guide the writing process. Completing both the code in the Ipython notebook and the writeup template will cover all of the [rubric points](https://review.udacity.com/#!/rubrics/322/view) for this project.\n",
    "\n",
    "---\n",
    "Let's have a look at our first image called 'test_images/solidWhiteRight.jpg'.  Run the 2 cells below (hit Shift-Enter or the \"play\" button above) to display the image.\n",
    "\n",
    "**Note: If, at any point, you encounter frozen display windows or other confounding issues, you can always start again with a clean slate by going to the \"Kernel\" menu above and selecting \"Restart & Clear Output\".**\n",
    "\n",
    "---"
   ]
  },
  {
   "cell_type": "markdown",
   "metadata": {},
   "source": [
    "**The tools you have are color selection, region of interest selection, grayscaling, Gaussian smoothing, Canny Edge Detection and Hough Tranform line detection.  You  are also free to explore and try other techniques that were not presented in the lesson.  Your goal is piece together a pipeline to detect the line segments in the image, then average/extrapolate them and draw them onto the image for display (as below).  Once you have a working pipeline, try it out on the video stream below.**\n",
    "\n",
    "---\n",
    "\n",
    "<figure>\n",
    " <img src=\"examples/line-segments-example.jpg\" width=\"380\" alt=\"Combined Image\" />\n",
    " <figcaption>\n",
    " <p></p> \n",
    " <p style=\"text-align: center;\"> Your output should look something like this (above) after detecting line segments using the helper functions below </p> \n",
    " </figcaption>\n",
    "</figure>\n",
    " <p></p> \n",
    "<figure>\n",
    " <img src=\"examples/laneLines_thirdPass.jpg\" width=\"380\" alt=\"Combined Image\" />\n",
    " <figcaption>\n",
    " <p></p> \n",
    " <p style=\"text-align: center;\"> Your goal is to connect/average/extrapolate line segments to get output like this</p> \n",
    " </figcaption>\n",
    "</figure>"
   ]
  },
  {
   "cell_type": "markdown",
   "metadata": {},
   "source": [
    "**Run the cell below to import some packages.  If you get an `import error` for a package you've already installed, try changing your kernel (select the Kernel menu above --> Change Kernel).  Still have problems?  Try relaunching Jupyter Notebook from the terminal prompt.  Also, consult the forums for more troubleshooting tips.**  "
   ]
  },
  {
   "cell_type": "markdown",
   "metadata": {},
   "source": [
    "## Import Packages"
   ]
  },
  {
   "cell_type": "code",
   "execution_count": 1,
   "metadata": {},
   "outputs": [
    {
     "name": "stdout",
     "output_type": "stream",
     "text": [
      "Windows\n"
     ]
    }
   ],
   "source": [
    "#importing some useful packages\n",
    "import matplotlib.pyplot as plt\n",
    "import matplotlib.image as mpimg\n",
    "import numpy as np\n",
    "import math\n",
    "import cv2\n",
    "import sys\n",
    "import os\n",
    "from PIL import Image\n",
    "import platform\n",
    "\n",
    "%matplotlib inline\n",
    "\n",
    "current_OS = platform.system()\n",
    "if current_OS == \"Linux\":\n",
    "    print(\"Linux\")\n",
    "elif current_OS == \"Windows\":\n",
    "    print(\"Windows\")\n",
    "else:\n",
    "    print(\"But what?\")\n",
    "    exit(-1)\n",
    "    \n"
   ]
  },
  {
   "cell_type": "markdown",
   "metadata": {},
   "source": [
    "## Read in an Image"
   ]
  },
  {
   "cell_type": "code",
   "execution_count": 2,
   "metadata": {},
   "outputs": [],
   "source": [
    "def read_image(image_file):\n",
    "#reading in an image\n",
    "    image = mpimg.imread(image_file)\n",
    "\n",
    "    # Need for my imread() settings\n",
    "    # image = (np.uint8)(image * 255)\n",
    "    # print(image.dtype)\n",
    "\n",
    "    print('This image is:', type(image), 'with dimensions:', image.shape)\n",
    "    plt.imshow(image)  \n",
    "    # if you wanted to show a single color channel image called 'gray',\n",
    "    # for example, call as plt.imshow(gray, cmap='gray')"
   ]
  },
  {
   "cell_type": "markdown",
   "metadata": {},
   "source": [
    "## Ideas for Lane Detection Pipeline"
   ]
  },
  {
   "cell_type": "markdown",
   "metadata": {},
   "source": [
    "**Some OpenCV functions (beyond those introduced in the lesson) that might be useful for this project are:**\n",
    "\n",
    "`cv2.inRange()` for color selection  \n",
    "`cv2.fillPoly()` for regions selection  \n",
    "`cv2.line()` to draw lines on an image given endpoints  \n",
    "`cv2.addWeighted()` to coadd / overlay two images\n",
    "`cv2.cvtColor()` to grayscale or change color\n",
    "`cv2.imwrite()` to output images to file  \n",
    "`cv2.bitwise_and()` to apply a mask to an image\n",
    "\n",
    "**Check out the OpenCV documentation to learn about these and discover even more awesome functionality!**"
   ]
  },
  {
   "cell_type": "markdown",
   "metadata": {},
   "source": [
    "## Helper Functions"
   ]
  },
  {
   "cell_type": "markdown",
   "metadata": {},
   "source": [
    "Below are some helper functions to help get you started. They should look familiar from the lesson!"
   ]
  },
  {
   "cell_type": "code",
   "execution_count": 3,
   "metadata": {},
   "outputs": [],
   "source": [
    "import math\n",
    "\n",
    "def grayscale(img):\n",
    "    \"\"\"Applies the Grayscale transform\n",
    "    This will return an image with only one color channel\n",
    "    but NOTE: to see the returned image as grayscale\n",
    "    (assuming your grayscaled image is called 'gray')\n",
    "    you should call plt.imshow(gray, cmap='gray')\"\"\"\n",
    "    \n",
    "    return cv2.cvtColor(img, cv2.COLOR_RGB2GRAY)\n",
    "    # Or use BGR2GRAY if you read an image with cv2.imread()\n",
    "    # return cv2.cvtColor(img, cv2.COLOR_BGR2GRAY)\n",
    "    \n",
    "def canny(img, low_threshold, high_threshold):\n",
    "    \"\"\"Applies the Canny transform\"\"\"\n",
    "    \n",
    "    return cv2.Canny(img, low_threshold, high_threshold)\n",
    "\n",
    "def gaussian_blur(img, kernel_size):\n",
    "    \"\"\"Applies a Gaussian Noise kernel\"\"\"\n",
    "    \n",
    "    return cv2.GaussianBlur(img, (kernel_size, kernel_size), 0)\n",
    "\n",
    "def GetMaskByPoly(img, vertices):\n",
    "    \"\"\"\n",
    "    Applies an image mask.\n",
    "    Only keeps the region of the image defined by the polygon\n",
    "    formed from `vertices`. The rest of the image is set to black.\n",
    "    `vertices` should be a numpy array of integer points.\n",
    "    \"\"\"\n",
    "    \n",
    "    #defining a blank mask to start with\n",
    "    mask = np.zeros_like(img)\n",
    "    \n",
    "    #defining a 3 channel or 1 channel color to fill the mask with depending on the input image\n",
    "    if len(img.shape) > 2:\n",
    "        channel_count = img.shape[2]  # i.e. 3 or 4 depending on your image\n",
    "        ignore_mask_color = (255,) * channel_count\n",
    "    else:\n",
    "        ignore_mask_color = 255\n",
    "        \n",
    "    #filling pixels inside the polygon defined by \"vertices\" with the fill color    \n",
    "    cv2.fillPoly(mask, vertices, ignore_mask_color)\n",
    "    \n",
    "    #returning the image only where mask pixels are nonzero\n",
    "    #masked_image = cv2.bitwise_and(img, mask)\n",
    "    return mask\n",
    "    \n",
    "def GetMaskByColor(img, Color):\n",
    "    \"\"\"\n",
    "    Applies an image mask.\n",
    "    Only keeps the region of the image which is satisfied of color threshold.\n",
    "    The rest of the image is set to black.\n",
    "    `vertices` should be a numpy array of integer points.\n",
    "    \"\"\"\n",
    "    \n",
    "    color_thresholds = (img[:,:,0] < Color[0]) \\\n",
    "            | (img[:,:,1] < Color[1]) \\\n",
    "            | (img[:,:,2] < Color[2])\n",
    "    mask = np.zeros_like(img) # + [255,255,255]\n",
    "    mask[color_thresholds] = [0,0,0]\n",
    "    mask[~color_thresholds] = [255,255,255]\n",
    "    return mask\n",
    "\n",
    "\n",
    "def draw_lines(img, lines, color=[255, 0, 0], thickness=2):\n",
    "    \"\"\"\n",
    "    NOTE: this is the function you might want to use as a starting point once you want to \n",
    "    average/extrapolate the line segments you detect to map out the full\n",
    "    extent of the lane (going from the result shown in raw-lines-example.mp4\n",
    "    to that shown in P1_example.mp4).  \n",
    "    \n",
    "    Think about things like separating line segments by their \n",
    "    slope ((y2-y1)/(x2-x1)) to decide which segments are part of the left\n",
    "    line vs. the right line.  Then, you can average the position of each of \n",
    "    the lines and extrapolate to the top and bottom of the lane.\n",
    "    \n",
    "    This function draws `lines` with `color` and `thickness`.    \n",
    "    Lines are drawn on the image inplace (mutates the image).\n",
    "    If you want to make the lines semi-transparent, think about combining\n",
    "    this function with the weighted_img() function below\n",
    "    \"\"\"\n",
    "    for line in lines:\n",
    "        for x1,y1,x2,y2 in line:\n",
    "            cv2.line(img, (x1, y1), (x2, y2), color, thickness)\n",
    "\n",
    "def hough_lines(img, rho, theta, threshold, min_line_len, max_line_gap):\n",
    "    \"\"\"\n",
    "    `img` should be the output of a Canny transform.\n",
    "        \n",
    "    Returns an image with hough lines drawn.\n",
    "    \"\"\"\n",
    "    lines = cv2.HoughLinesP(img, rho, theta, threshold, np.array([]), minLineLength=min_line_len, maxLineGap=max_line_gap)\n",
    "    line_img = np.zeros((img.shape[0], img.shape[1], 3), dtype=np.uint8)\n",
    "    draw_lines(line_img, lines)\n",
    "    return line_img\n",
    "\n",
    "# Python 3 has support for cool math symbols.\n",
    "\n",
    "def weighted_img(img, initial_img, α=0.8, β=1., γ=0.):\n",
    "    \"\"\"\n",
    "    `img` is the output of the hough_lines(), An image with lines drawn on it.\n",
    "    Should be a blank image (all black) with lines drawn on it.\n",
    "    \n",
    "    `initial_img` should be the image before any processing.\n",
    "    \n",
    "    The result image is computed as follows:\n",
    "    \n",
    "    initial_img * α + img * β + γ\n",
    "    NOTE: initial_img and img must be the same shape!\n",
    "    \"\"\"\n",
    "    return cv2.addWeighted(initial_img, α, img, β, γ)"
   ]
  },
  {
   "cell_type": "code",
   "execution_count": 14,
   "metadata": {},
   "outputs": [],
   "source": [
    "## Test Images\n",
    "\n",
    "# Build your pipeline to work on the images in the directory \"test_images\"  \n",
    "# **You should make sure your pipeline works well on these images before you try the videos.**"
   ]
  },
  {
   "cell_type": "code",
   "execution_count": 4,
   "metadata": {},
   "outputs": [],
   "source": [
    "def CheckImages():\n",
    "    \"\"\"\n",
    "    Function checks all files in test_images/ and shows they as image\n",
    "    \"\"\"\n",
    "    \n",
    "    CurrentDir = \"test_images/\"\n",
    "    names = os.listdir(CurrentDir)\n",
    "\n",
    "    for filename in names:\n",
    "        #FullFilename = CurrentDir+filename\n",
    "        FullFilename = os.path.join(CurrentDir, filename)\n",
    "        print(FullFilename)\n",
    "        \n",
    "        image = mpimg.imread(FullFilename)\n",
    "        plt.imshow(image)\n",
    "        plt.pause(1)\n"
   ]
  },
  {
   "cell_type": "code",
   "execution_count": 5,
   "metadata": {},
   "outputs": [],
   "source": [
    "def ExtractTwoSides(line_segments, xcenter):\n",
    "    '''\n",
    "    Function tryes to group input line segments onto 2 clusters (L/R)\n",
    "    and substitutes they to 2 single lines\n",
    "    '''\n",
    "    \n",
    "    print(line_segments.dtype)\n",
    "    #Select segments\n",
    "    left_lines = np.empty_like(line_segments)\n",
    "    right_lines = np.empty_like(line_segments)\n",
    "\n",
    "    left_counter = 0\n",
    "    right_counter = 0\n",
    "\n",
    "    #left_lines = []\n",
    "    #right_lines = []\n",
    "\n",
    "    min_length = 4      #min segment len = 4 pixels\n",
    "    min_length2 = min_length ** 2\n",
    "    min_slope = 1/4     #minimal segment slope\n",
    "\n",
    "#    imz = np.zeros((540,960,3),dtype=np.uint8)\n",
    "#    draw_lines(imz, line_segments)\n",
    "#    plt.imshow(imz)\n",
    "#    plt.pause(1)\n",
    "\n",
    "    counter = 0\n",
    "    \n",
    "    for line in line_segments:\n",
    "\n",
    "        counter += 1\n",
    "        line0 = line[0]\n",
    "        \n",
    "        dx = line0[2] - line0[0]\n",
    "        dy = line0[3] - line0[1]\n",
    "\n",
    "        #Reject lines with small slope\n",
    "        if abs(dy)*3 < abs(dx):\n",
    "            continue\n",
    "        \n",
    "        #orients segments from up to down\n",
    "        if dy < 0:\n",
    "            dy = -dy\n",
    "            point1 = line0[:2].copy()\n",
    "            line0[:2] = line0[2:]\n",
    "            line0[2:] = point1\n",
    "            #print('Exchanged: ',line0)\n",
    "\n",
    "\n",
    "        length2 = dx**2 + dy**2\n",
    "        if length2 < min_length2:\n",
    "            continue\n",
    "\n",
    "        length = math.sqrt(length2)\n",
    "        if abs(dx)/length > min_slope:   #line almost vertical\n",
    "            if line0[2] < xcenter:  #Left segment?\n",
    "                left_lines[left_counter,0,:] = line0\n",
    "                left_counter += 1\n",
    "            else:\n",
    "                right_lines[right_counter,0,:] = line0\n",
    "                right_counter += 1\n",
    "        else:\n",
    "            if dx < 0:              #Left segment?\n",
    "                left_lines[left_counter,:,:] = line0\n",
    "                left_counter += 1\n",
    "            elif dx > 0:            #Rightt segment?\n",
    "                right_lines[right_counter,:,:] = line0\n",
    "                right_counter += 1\n",
    "\n",
    "    #Now there remains 2 groups of lines        \n",
    "    left_lines.resize(left_counter,1,4)\n",
    "    right_lines.resize(right_counter,1,4)\n",
    "\n",
    "    n = left_lines.shape[0]\n",
    "    if n:\n",
    "        left_y1s = left_lines[:,0,1]\n",
    "        left_top_point = left_y1s.argmin()\n",
    "        left_y2s = left_lines[:,0,3]\n",
    "        left_bott_point = left_y2s.argmax()\n",
    "\n",
    "        left_seg = np.zeros((1,1,4), dtype=left_lines.dtype)\n",
    "        left_seg[0,0,:2] = left_lines[left_top_point,0,:2]\n",
    "        left_seg[0,0,2:] = left_lines[left_bott_point,0,2:]\n",
    "        \n",
    "        # averaging\n",
    "#        lines_center_x = mean(left_lines[:,0,0] + left_lines[:,0,2]) / 2\n",
    "#        lines_center_y = mean(left_lines[:,0,1] + left_lines[:,0,2]) / 2\n",
    "#        lines_dx = (left_lines[:,0,2] - left_lines[:,0,0])\n",
    "#        lines_dy = (left_lines[:,0,3] - left_lines[:,0,1])\n",
    "#        mean_slope = mean(lines_dx / lines_dy)\n",
    "        \n",
    "    else:\n",
    "        left_seg = np.array([], dtype=np.int32)\n",
    "\n",
    "    n = right_lines.shape[0]\n",
    "    if n:\n",
    "        right_y1s = right_lines[:,0,1]\n",
    "        right_top_point = right_y1s.argmin()\n",
    "        right_y2s = right_lines[:,0,3]\n",
    "        right_bott_point = right_y2s.argmax()\n",
    "\n",
    "        right_seg = np.zeros((1,1,4), dtype=right_lines.dtype)\n",
    "        right_seg[0,0,:2] = right_lines[right_top_point,0,:2]\n",
    "        right_seg[0,0,2:] = right_lines[right_bott_point,0,2:]\n",
    "    else:\n",
    "        right_seg = np.array([], dtype=np.int32)\n",
    "\n",
    "    return (left_seg, right_seg)\n",
    "\n",
    "\n",
    "## Build a Lane Finding Pipeline\n",
    "def FindLinesOnFrame(image, ShowFlag = False):\n",
    "    \"\"\"\n",
    "    Function detects road lines on the picture and returns these segments\n",
    "    \"\"\"\n",
    "    \n",
    "    ysize = image.shape[0]\n",
    "    xsize = image.shape[1]\n",
    "\n",
    "    # ############ Color & Region selection\n",
    "    color_select = np.copy(image)\n",
    "    region_select = np.copy(image)\n",
    "    \n",
    "    #gray = cv2.cvtColor(image, cv2.COLOR_RGB2GRAY) #grayscale conversion\n",
    "    gray = grayscale(image)\n",
    "\n",
    "    #Color masking\n",
    "    red_threshold = 120\n",
    "    green_threshold = 120\n",
    "    blue_threshold = 10\n",
    "    rgb_threshold = [red_threshold, green_threshold, blue_threshold]\n",
    "\n",
    "    ColorMask = GetMaskByColor(image, rgb_threshold)\n",
    "\n",
    "    Ymid = round(ysize*0.6)\n",
    "    A = [0, ysize-1]\n",
    "    B = [round(xsize*0.5), Ymid]\n",
    "    C = [round(xsize*0.55), Ymid]\n",
    "    D = [xsize, ysize]\n",
    "\n",
    "    ROI = np.array( [[A,B,C,D]], dtype=np.int32 )\n",
    "    \n",
    "    #ROI mask\n",
    "    RegionMask = GetMaskByPoly(image, ROI)\n",
    "    \n",
    "    #ROI & Color mask\n",
    "    ColorRegionMask = cv2.bitwise_and(RegionMask, ColorMask)\n",
    "    \n",
    "    MaskedImg = cv2.bitwise_and(ColorRegionMask, image)\n",
    "    \n",
    "    # Edges finding, given parameters from test Quiz\n",
    "    kernel_size = 5\n",
    "    low_threshold = 50\n",
    "    high_threshold = 150\n",
    "\n",
    "    blur_gray = cv2.GaussianBlur(gray,(kernel_size, kernel_size), 0)\n",
    "    edges = cv2.Canny(blur_gray, low_threshold, high_threshold)\n",
    "\n",
    "    edges3 = np.dstack((edges, edges, edges))\n",
    "\n",
    "    # Mask edges\n",
    "    masked_edges = cv2.bitwise_and(ColorRegionMask, edges3)\n",
    "    \n",
    "    # Define the Hough transform parameters\n",
    "    rho = 2\n",
    "    theta = np.pi/180\n",
    "    threshold = 15\n",
    "    min_line_length = 40\n",
    "    max_line_gap = 20\n",
    "\n",
    "    road_lines = cv2.HoughLinesP(masked_edges[:,:,0], rho, theta, threshold, np.array([]),\n",
    "                            min_line_length, max_line_gap)\n",
    "    \n",
    "# Extend lines segments\n",
    "    xcenter = image.shape[1] // 2\n",
    "    left_line, right_line = ExtractTwoSides(road_lines, xcenter)\n",
    "    \n",
    "#Extrapolate lines to ROI margins\n",
    "    Ytop = ROI[0,1,1]\n",
    "    Ybott = ROI[0,3,1]\n",
    "    \n",
    "    #The left line, if exists\n",
    "    if left_line.shape[0]:\n",
    "        x1 = left_line[0,0,0]\n",
    "        y1 = left_line[0,0,1]\n",
    "\n",
    "        x2 = left_line[0,0,2]\n",
    "        y2 = left_line[0,0,3]\n",
    "        \n",
    "        dx = x2 - x1\n",
    "        dy = y2 - y1\n",
    "        \n",
    "        if dx == 0:\n",
    "            left_line[0,0,1] = Ytop\n",
    "            left_line[0,0,3] = Ybott\n",
    "        else:\n",
    "            #calculate crosspoints with ROI\n",
    "\n",
    "            #left_top\n",
    "            dx1 = dx / dy * (y2 - Ytop)\n",
    "            left_line[0,0,0] = x2 - dx1\n",
    "            left_line[0,0,1] = Ytop\n",
    "\n",
    "            #left_bott\n",
    "            dx2 = dx / dy * (Ybott - y1)\n",
    "            left_line[0,0,2] = x1 + dx2\n",
    "            left_line[0,0,3] = Ybott\n",
    "\n",
    "    #The right line, if exists\n",
    "    if right_line.shape[0]:\n",
    "        x1 = right_line[0,0,0]\n",
    "        y1 = right_line[0,0,1]\n",
    "\n",
    "        x2 = right_line[0,0,2]\n",
    "        y2 = right_line[0,0,3]\n",
    "        \n",
    "        dx = x2 - x1\n",
    "        dy = y2 - y1\n",
    "        \n",
    "        if dx == 0:\n",
    "            right_line[0,0,1] = Ytop\n",
    "            right_line[0,0,3] = Ybott\n",
    "        else:\n",
    "            #calculate crosspoints with ROI\n",
    "            dx1 = dx / dy * (y2 - Ytop)\n",
    "            right_line[0,0,0] = x2 - dx1\n",
    "            right_line[0,0,1] = Ytop\n",
    "\n",
    "            #right_bott\n",
    "            dx2 = dx / dy * (Ybott - y1)\n",
    "            right_line[0,0,2] = x1 + dx2\n",
    "            right_line[0,0,3] = Ybott\n",
    "\n",
    "    \n",
    "    if ShowFlag:\n",
    "    # Drawing the results\n",
    "        # Draw the lines on the edge image\n",
    "        line_image = np.copy(image)*0 #creating a blank to draw lines on\n",
    "        draw_lines(line_image, left_line,[0,255,0])\n",
    "        draw_lines(line_image, right_line,[0,0,255])\n",
    "\n",
    "        combo = cv2.addWeighted(masked_edges, 0.8, line_image, 1, 0) \n",
    "    \n",
    "        #1st plot\n",
    "        #Original\n",
    "        imageROI = np.copy(image)\n",
    "        cv2.polylines(imageROI,ROI,True,[255,0,0],2)\n",
    "    \n",
    "        plt.subplot(2,2,1)\n",
    "        plt.imshow(imageROI)\n",
    "        plt.title('Original image')\n",
    "        plt.tick_params(axis='both', labelsize=0, length = 0)\n",
    "\n",
    "        plt.subplot(2,2,2)\n",
    "        plt.imshow(RegionMask)\n",
    "        plt.title('Region Mask')\n",
    "        plt.tick_params(axis='both', labelsize=0, length = 0)\n",
    "\n",
    "        #Color mask\n",
    "        plt.subplot(2,2,3)\n",
    "        plt.imshow(ColorMask)\n",
    "        plt.title('Color Mask')\n",
    "        plt.tick_params(axis='both', labelsize=0, length = 0)\n",
    "    \n",
    "        plt.subplot(2,2,4)\n",
    "        plt.imshow(MaskedImg)\n",
    "        plt.title('Color&Region Masked')\n",
    "        tick_params(axis='both', labelsize=0, length = 0)\n",
    "        plt.pause(3)\n",
    "\n",
    "    #2nd plot\n",
    "        plt.subplot(2,2,1)\n",
    "        plt.imshow(image)\n",
    "        plt.title('Original')\n",
    "        plt.tick_params(axis='both', labelsize=0, length = 0)\n",
    "\n",
    "    #Add ROI shape\n",
    "        cv2.polylines(edges3,ROI,True,[255,0,0],10)\n",
    "    \n",
    "        plt.subplot(2,2,2)\n",
    "        plt.imshow(edges3)\n",
    "        plt.title('Raw edges')\n",
    "        plt.tick_params(axis='both', labelsize=0, length = 0)\n",
    "\n",
    "        plt.subplot(2,2,3)\n",
    "        plt.imshow(masked_edges)\n",
    "        plt.title('Masked edges')\n",
    "        plt.tick_params(axis='both', labelsize=0, length = 0)\n",
    "\n",
    "        plt.subplot(2,2,4)\n",
    "        plt.imshow(combo)\n",
    "        plt.title('Lines')\n",
    "        plt.tick_params(axis='both', labelsize=0, length = 0)\n",
    "    \n",
    "    return left_line, right_line"
   ]
  },
  {
   "cell_type": "markdown",
   "metadata": {},
   "source": [
    "Build the pipeline and run your solution on all test_images. Make copies into the `test_images_output` directory, and you can use the images in your writeup report.\n",
    "\n",
    "Try tuning the various parameters, especially the low and high Canny thresholds as well as the Hough lines parameters."
   ]
  },
  {
   "cell_type": "code",
   "execution_count": 6,
   "metadata": {},
   "outputs": [],
   "source": [
    "# TODO: Build your pipeline that will draw lane lines on the test_images\n",
    "# then save them to the test_images_output directory.\n",
    "\n",
    "def overprint_lines(image, lines):\n",
    "\n",
    "    line_image = np.copy(image)*0 #creating a blank to draw lines on\n",
    "    draw_lines(line_image, lines)\n",
    "    combo = cv2.addWeighted(image, 0.8, line_image, 1, 0)\n",
    "    return combo\n",
    "\n",
    "\n",
    "def Process_Images():\n",
    "    CurrentDir = \"test_images\"\n",
    "    OutputDir = \"test_images_output\"\n",
    "\n",
    "    names = os.listdir(CurrentDir)\n",
    "    for filename in names:\n",
    "        print(filename)\n",
    "\n",
    "    if not os.path.exists(OutputDir):\n",
    "        os.makedirs(OutputDir)\n",
    "\n",
    "    for filename in names:\n",
    "        FullFilename = os.path.join(CurrentDir, filename)\n",
    "        print(FullFilename)\n",
    "        image = mpimg.imread(FullFilename)\n",
    "\n",
    "        left_line, right_line = FindLinesOnFrame(image)\n",
    "\n",
    "        if left_line.shape[0] or right_line.shape[0]:\n",
    "            if left_line.shape[0] and right_line.shape[0]:\n",
    "                road_lines = np.append(left_line, right_line, axis=1)\n",
    "            elif left_line.shape[0]:\n",
    "                road_lines = left_line.copy\n",
    "            else:\n",
    "                road_lines = right_line.copy\n",
    "            \n",
    "            line_image = np.zeros_like(image)\n",
    "            draw_lines(line_image, road_lines)\n",
    "\n",
    "            # Draw the lines on the edge image\n",
    "            combo = cv2.addWeighted(image, 0.8, line_image, 1, 0) \n",
    "        else:\n",
    "            combo = image\n",
    "\n",
    "        OutputName = os.path.join(OutputDir, filename)\n",
    "        plt.imsave(OutputName, combo)\n",
    "\n",
    "        plt.subplot(1,2,1)\n",
    "        plt.imshow(image)\n",
    "        plt.title(filename)\n",
    "        plt.tick_params(axis='both', labelsize=0, length = 0)\n",
    "\n",
    "        plt.subplot(1,2,2)\n",
    "        plt.imshow(combo)\n",
    "        plt.title('The same with Lines')\n",
    "        plt.tick_params(axis='both', labelsize=0, length = 0)\n",
    "\n",
    "        plt.pause(1)\n"
   ]
  },
  {
   "cell_type": "markdown",
   "metadata": {},
   "source": [
    "## Test on Videos\n",
    "\n",
    "You know what's cooler than drawing lanes over images? Drawing lanes over video!\n",
    "\n",
    "We can test our solution on two provided videos:\n",
    "\n",
    "`solidWhiteRight.mp4`\n",
    "\n",
    "`solidYellowLeft.mp4`\n",
    "\n",
    "**Note: if you get an import error when you run the next cell, try changing your kernel (select the Kernel menu above --> Change Kernel). Still have problems? Try relaunching Jupyter Notebook from the terminal prompt. Also, consult the forums for more troubleshooting tips.**\n",
    "\n",
    "**If you get an error that looks like this:**\n",
    "```\n",
    "NeedDownloadError: Need ffmpeg exe. \n",
    "You can download it by calling: \n",
    "imageio.plugins.ffmpeg.download()\n",
    "```\n",
    "**Follow the instructions in the error message and check out [this forum post](https://discussions.udacity.com/t/project-error-of-test-on-videos/274082) for more troubleshooting tips across operating systems.**"
   ]
  },
  {
   "cell_type": "code",
   "execution_count": 10,
   "metadata": {},
   "outputs": [],
   "source": [
    "def process_image(image):\n",
    "    # NOTE: The output you return should be a color image (3 channel) for processing video below\n",
    "    # TODO: put your pipeline here,\n",
    "    # you should return the final output (image where lines are drawn on lanes)\n",
    "\n",
    "    left_line, right_line = FindLinesOnFrame(image)\n",
    "    print('1 type(left_line): ', type(left_line))\n",
    "    print('1 type(right_line): ', type(right_line))\n",
    "    print('1 left_line.shape: ', left_line.shape)\n",
    "    print('1 right_line.shape: ', right_line.shape)\n",
    "    print('1 left_line.ndim: ', left_line.ndim)\n",
    "    print('1 right_line.ndim: ', right_line.ndim)\n",
    "    \n",
    "    if left_line.shape[0] or right_line.shape[0]:\n",
    "        if left_line.shape[0] and right_line.shape[0]:\n",
    "            print('2 left_line.shape: ', left_line.shape)\n",
    "            print('2 right_line.shape: ', right_line.shape)\n",
    "            road_lines = np.append(left_line, right_line, axis=1)\n",
    "            print('2 type(road_lines): ', type(road_lines))\n",
    "        elif left_line.shape[0]:\n",
    "            print('3 left_line.shape: ', left_line.shape)\n",
    "            road_lines = left_line.copy()\n",
    "        else:\n",
    "            print('4 right_line.shape: ', right_line.shape)\n",
    "            road_lines = right_line.copy()\n",
    "            print('5 type(road_lines): ', type(road_lines))\n",
    "            print('5 road_lines.shape: ', road_lines.shape)\n",
    "            \n",
    "        print('6 type(road_lines): ', type(road_lines))\n",
    "        print('6 road_lines.shape: ', road_lines.shape)\n",
    "\n",
    "        combo = overprint_lines(image, road_lines)\n",
    "    else:\n",
    "        combo = image\n",
    "    \n",
    "    return combo"
   ]
  },
  {
   "cell_type": "markdown",
   "metadata": {},
   "source": [
    "Let's try the one with the solid white lane on the right first ..."
   ]
  },
  {
   "cell_type": "code",
   "execution_count": 11,
   "metadata": {},
   "outputs": [],
   "source": [
    "def process_video(videofile):\n",
    "    # Import everything needed to edit/save/watch video clips\n",
    "    from moviepy.editor import VideoFileClip\n",
    "    from IPython.display import HTML\n",
    "    \n",
    "    video_inpath = 'test_videos'\n",
    "    video_outpath = 'test_videos_output'\n",
    "    \n",
    "    if not os.path.exists(video_outpath):\n",
    "        os.mkdir(video_outpath)\n",
    "    \n",
    "    video_input = os.path.join(video_inpath, videofile)\n",
    "    if not os.path.exists(video_input):\n",
    "        print(\"ERROR!!!\")\n",
    "        return\n",
    "    \n",
    "    video_output = os.path.join(video_outpath, videofile)\n",
    "    if os.path.exists(video_output):\n",
    "        os.remove(video_output)\n",
    "        \n",
    "    print(\"Input video: \" + video_input)\n",
    "    print(\"Output video: \" + video_output)\n",
    "\n",
    "    ## To speed up the testing process you may want to try your pipeline \n",
    "    ## on a shorter subclip of the video\n",
    "    ## To do so add .subclip(start_second,end_second) to the end of the line below\n",
    "    ## Where start_second and end_second are integer values \n",
    "    ## representing the start and end of the subclip\n",
    "    ## You may also uncomment the following line for a subclip of the first 5 seconds\n",
    "    ##clip1 = VideoFileClip(\"test_videos/solidWhiteRight.mp4\").subclip(0,5)\n",
    "    \n",
    "    video1 = VideoFileClip(video_input)\n",
    "#    This lines have to been added in case of videowriter incorrect behavior\n",
    "#    video1.reader.close()\n",
    "#    video1.audio.reader.close_proc()\n",
    "    \n",
    "    video2 = video1.fl_image(process_image) #NOTE: this function expects color images!!\n",
    "    \n",
    "    %time video2.write_videofile(video_output, audio=False)\n",
    "    #video2.write_videofile(video_output, audio=False)\n",
    "    \n",
    "    global current_OS\n",
    "    \n",
    "    if current_OS == \"Linux\":\n",
    "        HTML(\"\"\"\n",
    "        <video width=\"960\" height=\"540\" controls>\n",
    "        <source src=\"{0}\">\n",
    "        </video>\n",
    "        \"\"\".format(white_output))\n",
    "    \n",
    "    print('Done!')"
   ]
  },
  {
   "cell_type": "markdown",
   "metadata": {},
   "source": [
    "Play the video inline, or if you prefer find the video in your filesystem (should be in the same directory) and play it in your video player of choice."
   ]
  },
  {
   "cell_type": "raw",
   "metadata": {},
   "source": [
    "## Improve the draw_lines() function\n",
    "\n",
    "**At this point, if you were successful with making the pipeline and tuning parameters, you probably have the Hough line segments drawn onto the road, but what about identifying the full extent of the lane and marking it clearly as in the example video (P1_example.mp4)?  Think about defining a line to run the full length of the visible lane based on the line segments you identified with the Hough Transform. As mentioned previously, try to average and/or extrapolate the line segments you've detected to map out the full extent of the lane lines. You can see an example of the result you're going for in the video \"P1_example.mp4\".**\n",
    "\n",
    "**Go back and modify your draw_lines function accordingly and try re-running your pipeline. The new output should draw a single, solid line over the left lane line and a single, solid line over the right lane line. The lines should start from the bottom of the image and extend out to the top of the region of interest.**"
   ]
  },
  {
   "cell_type": "markdown",
   "metadata": {},
   "source": [
    "Now for the one with the solid yellow lane on the left. This one's more tricky!"
   ]
  },
  {
   "cell_type": "markdown",
   "metadata": {},
   "source": [
    "## Writeup and Submission\n",
    "\n",
    "If you're satisfied with your video outputs, it's time to make the report writeup in a pdf or markdown file. Once you have this Ipython notebook ready along with the writeup, it's time to submit for review! Here is a [link](https://github.com/udacity/CarND-LaneLines-P1/blob/master/writeup_template.md) to the writeup template file.\n"
   ]
  },
  {
   "cell_type": "raw",
   "metadata": {
    "collapsed": true
   },
   "source": [
    "## Optional Challenge\n",
    "\n",
    "Try your lane finding pipeline on the video below.  Does it still work?  Can you figure out a way to make it more robust?  If you're up for the challenge, modify your pipeline so it works with this video and submit it along with the rest of your project!"
   ]
  },
  {
   "cell_type": "code",
   "execution_count": 12,
   "metadata": {},
   "outputs": [
    {
     "name": "stdout",
     "output_type": "stream",
     "text": [
      "Input video: test_videos\\solidWhiteRight.mp4\n",
      "Output video: test_videos_output\\solidWhiteRight.mp4\n",
      "int32\n",
      "1 type(left_line):  <class 'numpy.ndarray'>\n",
      "1 type(right_line):  <class 'numpy.ndarray'>\n",
      "1 left_line.shape:  (1, 1, 4)\n",
      "1 right_line.shape:  (1, 1, 4)\n",
      "1 left_line.ndim:  3\n",
      "1 right_line.ndim:  3\n",
      "2 left_line.shape:  (1, 1, 4)\n",
      "2 right_line.shape:  (1, 1, 4)\n",
      "2 type(road_lines):  <class 'numpy.ndarray'>\n",
      "6 type(road_lines):  <class 'numpy.ndarray'>\n",
      "6 road_lines.shape:  (1, 2, 4)\n"
     ]
    },
    {
     "name": "stderr",
     "output_type": "stream",
     "text": [
      "                                                                               \r"
     ]
    },
    {
     "name": "stdout",
     "output_type": "stream",
     "text": [
      "Moviepy - Building video test_videos_output\\solidWhiteRight.mp4.\n"
     ]
    },
    {
     "name": "stderr",
     "output_type": "stream",
     "text": [
      "                                                                               \r"
     ]
    },
    {
     "name": "stdout",
     "output_type": "stream",
     "text": [
      "Moviepy - Writing video test_videos_output\\solidWhiteRight.mp4\n",
      "\n"
     ]
    },
    {
     "name": "stderr",
     "output_type": "stream",
     "text": [
      "t:   3%|▉                            | 7/221 [01:47<00:21,  9.80it/s, now=None]\n",
      "t:   0%|                                     | 0/221 [00:00<?, ?it/s, now=None]"
     ]
    },
    {
     "name": "stdout",
     "output_type": "stream",
     "text": [
      "int32\n",
      "1 type(left_line):  <class 'numpy.ndarray'>\n",
      "1 type(right_line):  <class 'numpy.ndarray'>\n",
      "1 left_line.shape:  (1, 1, 4)\n",
      "1 right_line.shape:  (1, 1, 4)\n",
      "1 left_line.ndim:  3\n",
      "1 right_line.ndim:  3\n",
      "2 left_line.shape:  (1, 1, 4)\n",
      "2 right_line.shape:  (1, 1, 4)\n",
      "2 type(road_lines):  <class 'numpy.ndarray'>\n",
      "6 type(road_lines):  <class 'numpy.ndarray'>\n",
      "6 road_lines.shape:  (1, 2, 4)\n",
      "int32\n",
      "1 type(left_line):  <class 'numpy.ndarray'>\n",
      "1 type(right_line):  <class 'numpy.ndarray'>\n",
      "1 left_line.shape:  (1, 1, 4)\n",
      "1 right_line.shape:  (1, 1, 4)\n",
      "1 left_line.ndim:  3\n",
      "1 right_line.ndim:  3\n",
      "2 left_line.shape:  (1, 1, 4)\n",
      "2 right_line.shape:  (1, 1, 4)\n",
      "2 type(road_lines):  <class 'numpy.ndarray'>\n",
      "6 type(road_lines):  <class 'numpy.ndarray'>\n",
      "6 road_lines.shape:  (1, 2, 4)\n"
     ]
    },
    {
     "name": "stderr",
     "output_type": "stream",
     "text": [
      "\n",
      "t:   1%|▍                            | 3/221 [00:00<00:14, 15.39it/s, now=None]"
     ]
    },
    {
     "name": "stdout",
     "output_type": "stream",
     "text": [
      "int32\n",
      "1 type(left_line):  <class 'numpy.ndarray'>\n",
      "1 type(right_line):  <class 'numpy.ndarray'>\n",
      "1 left_line.shape:  (1, 1, 4)\n",
      "1 right_line.shape:  (1, 1, 4)\n",
      "1 left_line.ndim:  3\n",
      "1 right_line.ndim:  3\n",
      "2 left_line.shape:  (1, 1, 4)\n",
      "2 right_line.shape:  (1, 1, 4)\n",
      "2 type(road_lines):  <class 'numpy.ndarray'>\n",
      "6 type(road_lines):  <class 'numpy.ndarray'>\n",
      "6 road_lines.shape:  (1, 2, 4)\n"
     ]
    },
    {
     "name": "stderr",
     "output_type": "stream",
     "text": [
      "\n",
      "t:   2%|▌                            | 4/221 [00:00<00:16, 12.89it/s, now=None]"
     ]
    },
    {
     "name": "stdout",
     "output_type": "stream",
     "text": [
      "int32\n",
      "1 type(left_line):  <class 'numpy.ndarray'>\n",
      "1 type(right_line):  <class 'numpy.ndarray'>\n",
      "1 left_line.shape:  (1, 1, 4)\n",
      "1 right_line.shape:  (1, 1, 4)\n",
      "1 left_line.ndim:  3\n",
      "1 right_line.ndim:  3\n",
      "2 left_line.shape:  (1, 1, 4)\n",
      "2 right_line.shape:  (1, 1, 4)\n",
      "2 type(road_lines):  <class 'numpy.ndarray'>\n",
      "6 type(road_lines):  <class 'numpy.ndarray'>\n",
      "6 road_lines.shape:  (1, 2, 4)\n"
     ]
    },
    {
     "name": "stderr",
     "output_type": "stream",
     "text": [
      "\n",
      "t:   2%|▋                            | 5/221 [00:00<00:18, 11.38it/s, now=None]"
     ]
    },
    {
     "name": "stdout",
     "output_type": "stream",
     "text": [
      "int32\n",
      "1 type(left_line):  <class 'numpy.ndarray'>\n",
      "1 type(right_line):  <class 'numpy.ndarray'>\n",
      "1 left_line.shape:  (1, 1, 4)\n",
      "1 right_line.shape:  (1, 1, 4)\n",
      "1 left_line.ndim:  3\n",
      "1 right_line.ndim:  3\n",
      "2 left_line.shape:  (1, 1, 4)\n",
      "2 right_line.shape:  (1, 1, 4)\n",
      "2 type(road_lines):  <class 'numpy.ndarray'>\n",
      "6 type(road_lines):  <class 'numpy.ndarray'>\n",
      "6 road_lines.shape:  (1, 2, 4)\n"
     ]
    },
    {
     "name": "stderr",
     "output_type": "stream",
     "text": [
      "\n",
      "t:   3%|▊                            | 6/221 [00:00<00:20, 10.65it/s, now=None]"
     ]
    },
    {
     "name": "stdout",
     "output_type": "stream",
     "text": [
      "int32\n",
      "1 type(left_line):  <class 'numpy.ndarray'>\n",
      "1 type(right_line):  <class 'numpy.ndarray'>\n",
      "1 left_line.shape:  (1, 1, 4)\n",
      "1 right_line.shape:  (1, 1, 4)\n",
      "1 left_line.ndim:  3\n",
      "1 right_line.ndim:  3\n",
      "2 left_line.shape:  (1, 1, 4)\n",
      "2 right_line.shape:  (1, 1, 4)\n",
      "2 type(road_lines):  <class 'numpy.ndarray'>\n",
      "6 type(road_lines):  <class 'numpy.ndarray'>\n",
      "6 road_lines.shape:  (1, 2, 4)\n",
      "int32\n",
      "1 type(left_line):  <class 'numpy.ndarray'>\n",
      "1 type(right_line):  <class 'numpy.ndarray'>\n",
      "1 left_line.shape:  (0,)\n",
      "1 right_line.shape:  (1, 1, 4)\n",
      "1 left_line.ndim:  1\n",
      "1 right_line.ndim:  3\n",
      "4 right_line.shape:  (1, 1, 4)\n",
      "5 type(road_lines):  <class 'numpy.ndarray'>\n",
      "5 road_lines.shape:  (1, 1, 4)\n",
      "6 type(road_lines):  <class 'numpy.ndarray'>\n",
      "6 road_lines.shape:  (1, 1, 4)\n"
     ]
    },
    {
     "name": "stderr",
     "output_type": "stream",
     "text": [
      "\n",
      "t:   4%|█                            | 8/221 [00:00<00:19, 10.82it/s, now=None]"
     ]
    },
    {
     "name": "stdout",
     "output_type": "stream",
     "text": [
      "int32\n",
      "1 type(left_line):  <class 'numpy.ndarray'>\n",
      "1 type(right_line):  <class 'numpy.ndarray'>\n",
      "1 left_line.shape:  (0,)\n",
      "1 right_line.shape:  (1, 1, 4)\n",
      "1 left_line.ndim:  1\n",
      "1 right_line.ndim:  3\n",
      "4 right_line.shape:  (1, 1, 4)\n",
      "5 type(road_lines):  <class 'numpy.ndarray'>\n",
      "5 road_lines.shape:  (1, 1, 4)\n",
      "6 type(road_lines):  <class 'numpy.ndarray'>\n",
      "6 road_lines.shape:  (1, 1, 4)\n",
      "int32\n",
      "1 type(left_line):  <class 'numpy.ndarray'>\n",
      "1 type(right_line):  <class 'numpy.ndarray'>\n",
      "1 left_line.shape:  (1, 1, 4)\n",
      "1 right_line.shape:  (1, 1, 4)\n",
      "1 left_line.ndim:  3\n",
      "1 right_line.ndim:  3\n",
      "2 left_line.shape:  (1, 1, 4)\n",
      "2 right_line.shape:  (1, 1, 4)\n",
      "2 type(road_lines):  <class 'numpy.ndarray'>\n",
      "6 type(road_lines):  <class 'numpy.ndarray'>\n",
      "6 road_lines.shape:  (1, 2, 4)\n"
     ]
    },
    {
     "name": "stderr",
     "output_type": "stream",
     "text": [
      "\n",
      "t:   5%|█▎                          | 10/221 [00:00<00:19, 11.03it/s, now=None]"
     ]
    },
    {
     "name": "stdout",
     "output_type": "stream",
     "text": [
      "int32\n",
      "1 type(left_line):  <class 'numpy.ndarray'>\n",
      "1 type(right_line):  <class 'numpy.ndarray'>\n",
      "1 left_line.shape:  (1, 1, 4)\n",
      "1 right_line.shape:  (1, 1, 4)\n",
      "1 left_line.ndim:  3\n",
      "1 right_line.ndim:  3\n",
      "2 left_line.shape:  (1, 1, 4)\n",
      "2 right_line.shape:  (1, 1, 4)\n",
      "2 type(road_lines):  <class 'numpy.ndarray'>\n",
      "6 type(road_lines):  <class 'numpy.ndarray'>\n",
      "6 road_lines.shape:  (1, 2, 4)\n",
      "int32\n",
      "1 type(left_line):  <class 'numpy.ndarray'>\n",
      "1 type(right_line):  <class 'numpy.ndarray'>\n",
      "1 left_line.shape:  (1, 1, 4)\n",
      "1 right_line.shape:  (1, 1, 4)\n",
      "1 left_line.ndim:  3\n",
      "1 right_line.ndim:  3\n",
      "2 left_line.shape:  (1, 1, 4)\n",
      "2 right_line.shape:  (1, 1, 4)\n",
      "2 type(road_lines):  <class 'numpy.ndarray'>\n",
      "6 type(road_lines):  <class 'numpy.ndarray'>\n",
      "6 road_lines.shape:  (1, 2, 4)\n"
     ]
    },
    {
     "name": "stderr",
     "output_type": "stream",
     "text": [
      "\n",
      "t:   5%|█▌                          | 12/221 [00:01<00:19, 10.95it/s, now=None]"
     ]
    },
    {
     "name": "stdout",
     "output_type": "stream",
     "text": [
      "int32\n",
      "1 type(left_line):  <class 'numpy.ndarray'>\n",
      "1 type(right_line):  <class 'numpy.ndarray'>\n",
      "1 left_line.shape:  (1, 1, 4)\n",
      "1 right_line.shape:  (1, 1, 4)\n",
      "1 left_line.ndim:  3\n",
      "1 right_line.ndim:  3\n",
      "2 left_line.shape:  (1, 1, 4)\n",
      "2 right_line.shape:  (1, 1, 4)\n",
      "2 type(road_lines):  <class 'numpy.ndarray'>\n",
      "6 type(road_lines):  <class 'numpy.ndarray'>\n",
      "6 road_lines.shape:  (1, 2, 4)\n",
      "int32\n",
      "1 type(left_line):  <class 'numpy.ndarray'>\n",
      "1 type(right_line):  <class 'numpy.ndarray'>\n",
      "1 left_line.shape:  (1, 1, 4)\n",
      "1 right_line.shape:  (1, 1, 4)\n",
      "1 left_line.ndim:  3\n",
      "1 right_line.ndim:  3\n",
      "2 left_line.shape:  (1, 1, 4)\n",
      "2 right_line.shape:  (1, 1, 4)\n",
      "2 type(road_lines):  <class 'numpy.ndarray'>\n",
      "6 type(road_lines):  <class 'numpy.ndarray'>\n",
      "6 road_lines.shape:  (1, 2, 4)\n"
     ]
    },
    {
     "name": "stderr",
     "output_type": "stream",
     "text": [
      "\n",
      "t:   6%|█▊                          | 14/221 [00:01<00:19, 10.73it/s, now=None]"
     ]
    },
    {
     "name": "stdout",
     "output_type": "stream",
     "text": [
      "int32\n",
      "1 type(left_line):  <class 'numpy.ndarray'>\n",
      "1 type(right_line):  <class 'numpy.ndarray'>\n",
      "1 left_line.shape:  (1, 1, 4)\n",
      "1 right_line.shape:  (1, 1, 4)\n",
      "1 left_line.ndim:  3\n",
      "1 right_line.ndim:  3\n",
      "2 left_line.shape:  (1, 1, 4)\n",
      "2 right_line.shape:  (1, 1, 4)\n",
      "2 type(road_lines):  <class 'numpy.ndarray'>\n",
      "6 type(road_lines):  <class 'numpy.ndarray'>\n",
      "6 road_lines.shape:  (1, 2, 4)\n",
      "int32\n",
      "1 type(left_line):  <class 'numpy.ndarray'>\n",
      "1 type(right_line):  <class 'numpy.ndarray'>\n",
      "1 left_line.shape:  (1, 1, 4)\n",
      "1 right_line.shape:  (1, 1, 4)\n",
      "1 left_line.ndim:  3\n",
      "1 right_line.ndim:  3\n",
      "2 left_line.shape:  (1, 1, 4)\n",
      "2 right_line.shape:  (1, 1, 4)\n",
      "2 type(road_lines):  <class 'numpy.ndarray'>\n",
      "6 type(road_lines):  <class 'numpy.ndarray'>\n",
      "6 road_lines.shape:  (1, 2, 4)\n"
     ]
    },
    {
     "name": "stderr",
     "output_type": "stream",
     "text": [
      "\n",
      "t:   7%|██                          | 16/221 [00:01<00:18, 10.84it/s, now=None]"
     ]
    },
    {
     "name": "stdout",
     "output_type": "stream",
     "text": [
      "int32\n",
      "1 type(left_line):  <class 'numpy.ndarray'>\n",
      "1 type(right_line):  <class 'numpy.ndarray'>\n",
      "1 left_line.shape:  (1, 1, 4)\n",
      "1 right_line.shape:  (1, 1, 4)\n",
      "1 left_line.ndim:  3\n",
      "1 right_line.ndim:  3\n",
      "2 left_line.shape:  (1, 1, 4)\n",
      "2 right_line.shape:  (1, 1, 4)\n",
      "2 type(road_lines):  <class 'numpy.ndarray'>\n",
      "6 type(road_lines):  <class 'numpy.ndarray'>\n",
      "6 road_lines.shape:  (1, 2, 4)\n",
      "int32\n",
      "1 type(left_line):  <class 'numpy.ndarray'>\n",
      "1 type(right_line):  <class 'numpy.ndarray'>\n",
      "1 left_line.shape:  (0,)\n",
      "1 right_line.shape:  (1, 1, 4)\n",
      "1 left_line.ndim:  1\n",
      "1 right_line.ndim:  3\n",
      "4 right_line.shape:  (1, 1, 4)\n",
      "5 type(road_lines):  <class 'numpy.ndarray'>\n",
      "5 road_lines.shape:  (1, 1, 4)\n",
      "6 type(road_lines):  <class 'numpy.ndarray'>\n",
      "6 road_lines.shape:  (1, 1, 4)\n"
     ]
    },
    {
     "name": "stderr",
     "output_type": "stream",
     "text": [
      "\n",
      "t:   8%|██▎                         | 18/221 [00:01<00:18, 10.80it/s, now=None]"
     ]
    },
    {
     "name": "stdout",
     "output_type": "stream",
     "text": [
      "int32\n",
      "1 type(left_line):  <class 'numpy.ndarray'>\n",
      "1 type(right_line):  <class 'numpy.ndarray'>\n",
      "1 left_line.shape:  (0,)\n",
      "1 right_line.shape:  (1, 1, 4)\n",
      "1 left_line.ndim:  1\n",
      "1 right_line.ndim:  3\n",
      "4 right_line.shape:  (1, 1, 4)\n",
      "5 type(road_lines):  <class 'numpy.ndarray'>\n",
      "5 road_lines.shape:  (1, 1, 4)\n",
      "6 type(road_lines):  <class 'numpy.ndarray'>\n",
      "6 road_lines.shape:  (1, 1, 4)\n",
      "int32\n",
      "1 type(left_line):  <class 'numpy.ndarray'>\n",
      "1 type(right_line):  <class 'numpy.ndarray'>\n",
      "1 left_line.shape:  (0,)\n",
      "1 right_line.shape:  (1, 1, 4)\n",
      "1 left_line.ndim:  1\n",
      "1 right_line.ndim:  3\n",
      "4 right_line.shape:  (1, 1, 4)\n",
      "5 type(road_lines):  <class 'numpy.ndarray'>\n",
      "5 road_lines.shape:  (1, 1, 4)\n",
      "6 type(road_lines):  <class 'numpy.ndarray'>\n",
      "6 road_lines.shape:  (1, 1, 4)\n"
     ]
    },
    {
     "name": "stderr",
     "output_type": "stream",
     "text": [
      "\n",
      "t:   9%|██▌                         | 20/221 [00:01<00:19, 10.48it/s, now=None]"
     ]
    },
    {
     "name": "stdout",
     "output_type": "stream",
     "text": [
      "int32\n",
      "1 type(left_line):  <class 'numpy.ndarray'>\n",
      "1 type(right_line):  <class 'numpy.ndarray'>\n",
      "1 left_line.shape:  (1, 1, 4)\n",
      "1 right_line.shape:  (1, 1, 4)\n",
      "1 left_line.ndim:  3\n",
      "1 right_line.ndim:  3\n",
      "2 left_line.shape:  (1, 1, 4)\n",
      "2 right_line.shape:  (1, 1, 4)\n",
      "2 type(road_lines):  <class 'numpy.ndarray'>\n",
      "6 type(road_lines):  <class 'numpy.ndarray'>\n",
      "6 road_lines.shape:  (1, 2, 4)\n",
      "int32\n",
      "1 type(left_line):  <class 'numpy.ndarray'>\n",
      "1 type(right_line):  <class 'numpy.ndarray'>\n",
      "1 left_line.shape:  (1, 1, 4)\n",
      "1 right_line.shape:  (1, 1, 4)\n",
      "1 left_line.ndim:  3\n",
      "1 right_line.ndim:  3\n",
      "2 left_line.shape:  (1, 1, 4)\n",
      "2 right_line.shape:  (1, 1, 4)\n",
      "2 type(road_lines):  <class 'numpy.ndarray'>\n",
      "6 type(road_lines):  <class 'numpy.ndarray'>\n",
      "6 road_lines.shape:  (1, 2, 4)\n"
     ]
    },
    {
     "name": "stderr",
     "output_type": "stream",
     "text": [
      "\n",
      "t:  10%|██▊                         | 22/221 [00:02<00:18, 10.72it/s, now=None]"
     ]
    },
    {
     "name": "stdout",
     "output_type": "stream",
     "text": [
      "int32\n",
      "1 type(left_line):  <class 'numpy.ndarray'>\n",
      "1 type(right_line):  <class 'numpy.ndarray'>\n",
      "1 left_line.shape:  (1, 1, 4)\n",
      "1 right_line.shape:  (1, 1, 4)\n",
      "1 left_line.ndim:  3\n",
      "1 right_line.ndim:  3\n",
      "2 left_line.shape:  (1, 1, 4)\n",
      "2 right_line.shape:  (1, 1, 4)\n",
      "2 type(road_lines):  <class 'numpy.ndarray'>\n",
      "6 type(road_lines):  <class 'numpy.ndarray'>\n",
      "6 road_lines.shape:  (1, 2, 4)\n",
      "int32\n",
      "1 type(left_line):  <class 'numpy.ndarray'>\n",
      "1 type(right_line):  <class 'numpy.ndarray'>\n",
      "1 left_line.shape:  (1, 1, 4)\n",
      "1 right_line.shape:  (1, 1, 4)\n",
      "1 left_line.ndim:  3\n",
      "1 right_line.ndim:  3\n",
      "2 left_line.shape:  (1, 1, 4)\n",
      "2 right_line.shape:  (1, 1, 4)\n",
      "2 type(road_lines):  <class 'numpy.ndarray'>\n",
      "6 type(road_lines):  <class 'numpy.ndarray'>\n",
      "6 road_lines.shape:  (1, 2, 4)\n"
     ]
    },
    {
     "name": "stderr",
     "output_type": "stream",
     "text": [
      "\n",
      "t:  11%|███                         | 24/221 [00:02<00:18, 10.71it/s, now=None]"
     ]
    },
    {
     "name": "stdout",
     "output_type": "stream",
     "text": [
      "int32\n",
      "1 type(left_line):  <class 'numpy.ndarray'>\n",
      "1 type(right_line):  <class 'numpy.ndarray'>\n",
      "1 left_line.shape:  (1, 1, 4)\n",
      "1 right_line.shape:  (1, 1, 4)\n",
      "1 left_line.ndim:  3\n",
      "1 right_line.ndim:  3\n",
      "2 left_line.shape:  (1, 1, 4)\n",
      "2 right_line.shape:  (1, 1, 4)\n",
      "2 type(road_lines):  <class 'numpy.ndarray'>\n",
      "6 type(road_lines):  <class 'numpy.ndarray'>\n",
      "6 road_lines.shape:  (1, 2, 4)\n",
      "int32\n",
      "1 type(left_line):  <class 'numpy.ndarray'>\n",
      "1 type(right_line):  <class 'numpy.ndarray'>\n",
      "1 left_line.shape:  (1, 1, 4)\n",
      "1 right_line.shape:  (1, 1, 4)\n",
      "1 left_line.ndim:  3\n",
      "1 right_line.ndim:  3\n",
      "2 left_line.shape:  (1, 1, 4)\n",
      "2 right_line.shape:  (1, 1, 4)\n",
      "2 type(road_lines):  <class 'numpy.ndarray'>\n",
      "6 type(road_lines):  <class 'numpy.ndarray'>\n",
      "6 road_lines.shape:  (1, 2, 4)\n"
     ]
    },
    {
     "name": "stderr",
     "output_type": "stream",
     "text": [
      "\n",
      "t:  12%|███▎                        | 26/221 [00:02<00:18, 10.57it/s, now=None]"
     ]
    },
    {
     "name": "stdout",
     "output_type": "stream",
     "text": [
      "int32\n",
      "1 type(left_line):  <class 'numpy.ndarray'>\n",
      "1 type(right_line):  <class 'numpy.ndarray'>\n",
      "1 left_line.shape:  (1, 1, 4)\n",
      "1 right_line.shape:  (1, 1, 4)\n",
      "1 left_line.ndim:  3\n",
      "1 right_line.ndim:  3\n",
      "2 left_line.shape:  (1, 1, 4)\n",
      "2 right_line.shape:  (1, 1, 4)\n",
      "2 type(road_lines):  <class 'numpy.ndarray'>\n",
      "6 type(road_lines):  <class 'numpy.ndarray'>\n",
      "6 road_lines.shape:  (1, 2, 4)\n",
      "int32\n",
      "1 type(left_line):  <class 'numpy.ndarray'>\n",
      "1 type(right_line):  <class 'numpy.ndarray'>\n",
      "1 left_line.shape:  (1, 1, 4)\n",
      "1 right_line.shape:  (1, 1, 4)\n",
      "1 left_line.ndim:  3\n",
      "1 right_line.ndim:  3\n",
      "2 left_line.shape:  (1, 1, 4)\n",
      "2 right_line.shape:  (1, 1, 4)\n",
      "2 type(road_lines):  <class 'numpy.ndarray'>\n",
      "6 type(road_lines):  <class 'numpy.ndarray'>\n",
      "6 road_lines.shape:  (1, 2, 4)\n"
     ]
    },
    {
     "name": "stderr",
     "output_type": "stream",
     "text": [
      "\n",
      "t:  13%|███▌                        | 28/221 [00:02<00:18, 10.30it/s, now=None]"
     ]
    },
    {
     "name": "stdout",
     "output_type": "stream",
     "text": [
      "int32\n",
      "1 type(left_line):  <class 'numpy.ndarray'>\n",
      "1 type(right_line):  <class 'numpy.ndarray'>\n",
      "1 left_line.shape:  (1, 1, 4)\n",
      "1 right_line.shape:  (1, 1, 4)\n",
      "1 left_line.ndim:  3\n",
      "1 right_line.ndim:  3\n",
      "2 left_line.shape:  (1, 1, 4)\n",
      "2 right_line.shape:  (1, 1, 4)\n",
      "2 type(road_lines):  <class 'numpy.ndarray'>\n",
      "6 type(road_lines):  <class 'numpy.ndarray'>\n",
      "6 road_lines.shape:  (1, 2, 4)\n",
      "int32\n",
      "1 type(left_line):  <class 'numpy.ndarray'>\n",
      "1 type(right_line):  <class 'numpy.ndarray'>\n",
      "1 left_line.shape:  (1, 1, 4)\n",
      "1 right_line.shape:  (1, 1, 4)\n",
      "1 left_line.ndim:  3\n",
      "1 right_line.ndim:  3\n",
      "2 left_line.shape:  (1, 1, 4)\n",
      "2 right_line.shape:  (1, 1, 4)\n",
      "2 type(road_lines):  <class 'numpy.ndarray'>\n",
      "6 type(road_lines):  <class 'numpy.ndarray'>\n",
      "6 road_lines.shape:  (1, 2, 4)\n"
     ]
    },
    {
     "name": "stderr",
     "output_type": "stream",
     "text": [
      "\n",
      "t:  14%|███▊                        | 30/221 [00:02<00:18, 10.55it/s, now=None]"
     ]
    },
    {
     "name": "stdout",
     "output_type": "stream",
     "text": [
      "int32\n",
      "1 type(left_line):  <class 'numpy.ndarray'>\n",
      "1 type(right_line):  <class 'numpy.ndarray'>\n",
      "1 left_line.shape:  (1, 1, 4)\n",
      "1 right_line.shape:  (1, 1, 4)\n",
      "1 left_line.ndim:  3\n",
      "1 right_line.ndim:  3\n",
      "2 left_line.shape:  (1, 1, 4)\n",
      "2 right_line.shape:  (1, 1, 4)\n",
      "2 type(road_lines):  <class 'numpy.ndarray'>\n",
      "6 type(road_lines):  <class 'numpy.ndarray'>\n",
      "6 road_lines.shape:  (1, 2, 4)\n",
      "int32\n",
      "1 type(left_line):  <class 'numpy.ndarray'>\n",
      "1 type(right_line):  <class 'numpy.ndarray'>\n",
      "1 left_line.shape:  (0,)\n",
      "1 right_line.shape:  (1, 1, 4)\n",
      "1 left_line.ndim:  1\n",
      "1 right_line.ndim:  3\n",
      "4 right_line.shape:  (1, 1, 4)\n",
      "5 type(road_lines):  <class 'numpy.ndarray'>\n",
      "5 road_lines.shape:  (1, 1, 4)\n",
      "6 type(road_lines):  <class 'numpy.ndarray'>\n",
      "6 road_lines.shape:  (1, 1, 4)\n"
     ]
    },
    {
     "name": "stderr",
     "output_type": "stream",
     "text": [
      "\n",
      "t:  14%|████                        | 32/221 [00:02<00:18, 10.43it/s, now=None]"
     ]
    },
    {
     "name": "stdout",
     "output_type": "stream",
     "text": [
      "int32\n",
      "1 type(left_line):  <class 'numpy.ndarray'>\n",
      "1 type(right_line):  <class 'numpy.ndarray'>\n",
      "1 left_line.shape:  (0,)\n",
      "1 right_line.shape:  (1, 1, 4)\n",
      "1 left_line.ndim:  1\n",
      "1 right_line.ndim:  3\n",
      "4 right_line.shape:  (1, 1, 4)\n",
      "5 type(road_lines):  <class 'numpy.ndarray'>\n",
      "5 road_lines.shape:  (1, 1, 4)\n",
      "6 type(road_lines):  <class 'numpy.ndarray'>\n",
      "6 road_lines.shape:  (1, 1, 4)\n",
      "int32\n",
      "1 type(left_line):  <class 'numpy.ndarray'>\n",
      "1 type(right_line):  <class 'numpy.ndarray'>\n",
      "1 left_line.shape:  (1, 1, 4)\n",
      "1 right_line.shape:  (1, 1, 4)\n",
      "1 left_line.ndim:  3\n",
      "1 right_line.ndim:  3\n",
      "2 left_line.shape:  (1, 1, 4)\n",
      "2 right_line.shape:  (1, 1, 4)\n",
      "2 type(road_lines):  <class 'numpy.ndarray'>\n",
      "6 type(road_lines):  <class 'numpy.ndarray'>\n",
      "6 road_lines.shape:  (1, 2, 4)\n"
     ]
    },
    {
     "name": "stderr",
     "output_type": "stream",
     "text": [
      "\n",
      "t:  15%|████▎                       | 34/221 [00:03<00:17, 10.49it/s, now=None]"
     ]
    },
    {
     "name": "stdout",
     "output_type": "stream",
     "text": [
      "int32\n",
      "1 type(left_line):  <class 'numpy.ndarray'>\n",
      "1 type(right_line):  <class 'numpy.ndarray'>\n",
      "1 left_line.shape:  (1, 1, 4)\n",
      "1 right_line.shape:  (1, 1, 4)\n",
      "1 left_line.ndim:  3\n",
      "1 right_line.ndim:  3\n",
      "2 left_line.shape:  (1, 1, 4)\n",
      "2 right_line.shape:  (1, 1, 4)\n",
      "2 type(road_lines):  <class 'numpy.ndarray'>\n",
      "6 type(road_lines):  <class 'numpy.ndarray'>\n",
      "6 road_lines.shape:  (1, 2, 4)\n",
      "int32\n",
      "1 type(left_line):  <class 'numpy.ndarray'>\n",
      "1 type(right_line):  <class 'numpy.ndarray'>\n",
      "1 left_line.shape:  (1, 1, 4)\n",
      "1 right_line.shape:  (1, 1, 4)\n",
      "1 left_line.ndim:  3\n",
      "1 right_line.ndim:  3\n",
      "2 left_line.shape:  (1, 1, 4)\n",
      "2 right_line.shape:  (1, 1, 4)\n",
      "2 type(road_lines):  <class 'numpy.ndarray'>\n",
      "6 type(road_lines):  <class 'numpy.ndarray'>\n",
      "6 road_lines.shape:  (1, 2, 4)\n"
     ]
    },
    {
     "name": "stderr",
     "output_type": "stream",
     "text": [
      "\n",
      "t:  16%|████▌                       | 36/221 [00:03<00:17, 10.74it/s, now=None]"
     ]
    },
    {
     "name": "stdout",
     "output_type": "stream",
     "text": [
      "int32\n",
      "1 type(left_line):  <class 'numpy.ndarray'>\n",
      "1 type(right_line):  <class 'numpy.ndarray'>\n",
      "1 left_line.shape:  (1, 1, 4)\n",
      "1 right_line.shape:  (1, 1, 4)\n",
      "1 left_line.ndim:  3\n",
      "1 right_line.ndim:  3\n",
      "2 left_line.shape:  (1, 1, 4)\n",
      "2 right_line.shape:  (1, 1, 4)\n",
      "2 type(road_lines):  <class 'numpy.ndarray'>\n",
      "6 type(road_lines):  <class 'numpy.ndarray'>\n",
      "6 road_lines.shape:  (1, 2, 4)\n",
      "int32\n",
      "1 type(left_line):  <class 'numpy.ndarray'>\n",
      "1 type(right_line):  <class 'numpy.ndarray'>\n",
      "1 left_line.shape:  (1, 1, 4)\n",
      "1 right_line.shape:  (1, 1, 4)\n",
      "1 left_line.ndim:  3\n",
      "1 right_line.ndim:  3\n",
      "2 left_line.shape:  (1, 1, 4)\n",
      "2 right_line.shape:  (1, 1, 4)\n",
      "2 type(road_lines):  <class 'numpy.ndarray'>\n",
      "6 type(road_lines):  <class 'numpy.ndarray'>\n",
      "6 road_lines.shape:  (1, 2, 4)\n"
     ]
    },
    {
     "name": "stderr",
     "output_type": "stream",
     "text": [
      "\n",
      "t:  17%|████▊                       | 38/221 [00:03<00:17, 10.74it/s, now=None]"
     ]
    },
    {
     "name": "stdout",
     "output_type": "stream",
     "text": [
      "int32\n",
      "1 type(left_line):  <class 'numpy.ndarray'>\n",
      "1 type(right_line):  <class 'numpy.ndarray'>\n",
      "1 left_line.shape:  (1, 1, 4)\n",
      "1 right_line.shape:  (1, 1, 4)\n",
      "1 left_line.ndim:  3\n",
      "1 right_line.ndim:  3\n",
      "2 left_line.shape:  (1, 1, 4)\n",
      "2 right_line.shape:  (1, 1, 4)\n",
      "2 type(road_lines):  <class 'numpy.ndarray'>\n",
      "6 type(road_lines):  <class 'numpy.ndarray'>\n",
      "6 road_lines.shape:  (1, 2, 4)\n",
      "int32\n",
      "1 type(left_line):  <class 'numpy.ndarray'>\n",
      "1 type(right_line):  <class 'numpy.ndarray'>\n",
      "1 left_line.shape:  (1, 1, 4)\n",
      "1 right_line.shape:  (1, 1, 4)\n",
      "1 left_line.ndim:  3\n",
      "1 right_line.ndim:  3\n",
      "2 left_line.shape:  (1, 1, 4)\n",
      "2 right_line.shape:  (1, 1, 4)\n",
      "2 type(road_lines):  <class 'numpy.ndarray'>\n",
      "6 type(road_lines):  <class 'numpy.ndarray'>\n",
      "6 road_lines.shape:  (1, 2, 4)\n"
     ]
    },
    {
     "name": "stderr",
     "output_type": "stream",
     "text": [
      "\n",
      "t:  18%|█████                       | 40/221 [00:03<00:17, 10.51it/s, now=None]"
     ]
    },
    {
     "name": "stdout",
     "output_type": "stream",
     "text": [
      "int32\n",
      "1 type(left_line):  <class 'numpy.ndarray'>\n",
      "1 type(right_line):  <class 'numpy.ndarray'>\n",
      "1 left_line.shape:  (1, 1, 4)\n",
      "1 right_line.shape:  (1, 1, 4)\n",
      "1 left_line.ndim:  3\n",
      "1 right_line.ndim:  3\n",
      "2 left_line.shape:  (1, 1, 4)\n",
      "2 right_line.shape:  (1, 1, 4)\n",
      "2 type(road_lines):  <class 'numpy.ndarray'>\n",
      "6 type(road_lines):  <class 'numpy.ndarray'>\n",
      "6 road_lines.shape:  (1, 2, 4)\n",
      "int32\n",
      "1 type(left_line):  <class 'numpy.ndarray'>\n",
      "1 type(right_line):  <class 'numpy.ndarray'>\n",
      "1 left_line.shape:  (0,)\n",
      "1 right_line.shape:  (1, 1, 4)\n",
      "1 left_line.ndim:  1\n",
      "1 right_line.ndim:  3\n",
      "4 right_line.shape:  (1, 1, 4)\n",
      "5 type(road_lines):  <class 'numpy.ndarray'>\n",
      "5 road_lines.shape:  (1, 1, 4)\n",
      "6 type(road_lines):  <class 'numpy.ndarray'>\n",
      "6 road_lines.shape:  (1, 1, 4)\n"
     ]
    },
    {
     "name": "stderr",
     "output_type": "stream",
     "text": [
      "\n",
      "t:  19%|█████▎                      | 42/221 [00:03<00:17, 10.42it/s, now=None]"
     ]
    },
    {
     "name": "stdout",
     "output_type": "stream",
     "text": [
      "int32\n",
      "1 type(left_line):  <class 'numpy.ndarray'>\n",
      "1 type(right_line):  <class 'numpy.ndarray'>\n",
      "1 left_line.shape:  (1, 1, 4)\n",
      "1 right_line.shape:  (1, 1, 4)\n",
      "1 left_line.ndim:  3\n",
      "1 right_line.ndim:  3\n",
      "2 left_line.shape:  (1, 1, 4)\n",
      "2 right_line.shape:  (1, 1, 4)\n",
      "2 type(road_lines):  <class 'numpy.ndarray'>\n",
      "6 type(road_lines):  <class 'numpy.ndarray'>\n",
      "6 road_lines.shape:  (1, 2, 4)\n",
      "int32\n",
      "1 type(left_line):  <class 'numpy.ndarray'>\n",
      "1 type(right_line):  <class 'numpy.ndarray'>\n",
      "1 left_line.shape:  (0,)\n",
      "1 right_line.shape:  (1, 1, 4)\n",
      "1 left_line.ndim:  1\n",
      "1 right_line.ndim:  3\n",
      "4 right_line.shape:  (1, 1, 4)\n",
      "5 type(road_lines):  <class 'numpy.ndarray'>\n",
      "5 road_lines.shape:  (1, 1, 4)\n",
      "6 type(road_lines):  <class 'numpy.ndarray'>\n",
      "6 road_lines.shape:  (1, 1, 4)\n"
     ]
    },
    {
     "name": "stderr",
     "output_type": "stream",
     "text": [
      "\n",
      "t:  20%|█████▌                      | 44/221 [00:04<00:16, 10.60it/s, now=None]"
     ]
    },
    {
     "name": "stdout",
     "output_type": "stream",
     "text": [
      "int32\n",
      "1 type(left_line):  <class 'numpy.ndarray'>\n",
      "1 type(right_line):  <class 'numpy.ndarray'>\n",
      "1 left_line.shape:  (0,)\n",
      "1 right_line.shape:  (1, 1, 4)\n",
      "1 left_line.ndim:  1\n",
      "1 right_line.ndim:  3\n",
      "4 right_line.shape:  (1, 1, 4)\n",
      "5 type(road_lines):  <class 'numpy.ndarray'>\n",
      "5 road_lines.shape:  (1, 1, 4)\n",
      "6 type(road_lines):  <class 'numpy.ndarray'>\n",
      "6 road_lines.shape:  (1, 1, 4)\n",
      "int32\n",
      "1 type(left_line):  <class 'numpy.ndarray'>\n",
      "1 type(right_line):  <class 'numpy.ndarray'>\n",
      "1 left_line.shape:  (1, 1, 4)\n",
      "1 right_line.shape:  (1, 1, 4)\n",
      "1 left_line.ndim:  3\n",
      "1 right_line.ndim:  3\n",
      "2 left_line.shape:  (1, 1, 4)\n",
      "2 right_line.shape:  (1, 1, 4)\n",
      "2 type(road_lines):  <class 'numpy.ndarray'>\n",
      "6 type(road_lines):  <class 'numpy.ndarray'>\n",
      "6 road_lines.shape:  (1, 2, 4)\n"
     ]
    },
    {
     "name": "stderr",
     "output_type": "stream",
     "text": [
      "\n",
      "t:  21%|█████▊                      | 46/221 [00:04<00:16, 10.65it/s, now=None]"
     ]
    },
    {
     "name": "stdout",
     "output_type": "stream",
     "text": [
      "int32\n",
      "1 type(left_line):  <class 'numpy.ndarray'>\n",
      "1 type(right_line):  <class 'numpy.ndarray'>\n",
      "1 left_line.shape:  (1, 1, 4)\n",
      "1 right_line.shape:  (1, 1, 4)\n",
      "1 left_line.ndim:  3\n",
      "1 right_line.ndim:  3\n",
      "2 left_line.shape:  (1, 1, 4)\n",
      "2 right_line.shape:  (1, 1, 4)\n",
      "2 type(road_lines):  <class 'numpy.ndarray'>\n",
      "6 type(road_lines):  <class 'numpy.ndarray'>\n",
      "6 road_lines.shape:  (1, 2, 4)\n",
      "int32\n",
      "1 type(left_line):  <class 'numpy.ndarray'>\n",
      "1 type(right_line):  <class 'numpy.ndarray'>\n",
      "1 left_line.shape:  (1, 1, 4)\n",
      "1 right_line.shape:  (1, 1, 4)\n",
      "1 left_line.ndim:  3\n",
      "1 right_line.ndim:  3\n",
      "2 left_line.shape:  (1, 1, 4)\n",
      "2 right_line.shape:  (1, 1, 4)\n",
      "2 type(road_lines):  <class 'numpy.ndarray'>\n",
      "6 type(road_lines):  <class 'numpy.ndarray'>\n",
      "6 road_lines.shape:  (1, 2, 4)\n"
     ]
    },
    {
     "name": "stderr",
     "output_type": "stream",
     "text": [
      "\n",
      "t:  22%|██████                      | 48/221 [00:04<00:17,  9.93it/s, now=None]"
     ]
    },
    {
     "name": "stdout",
     "output_type": "stream",
     "text": [
      "int32\n",
      "1 type(left_line):  <class 'numpy.ndarray'>\n",
      "1 type(right_line):  <class 'numpy.ndarray'>\n",
      "1 left_line.shape:  (1, 1, 4)\n",
      "1 right_line.shape:  (1, 1, 4)\n",
      "1 left_line.ndim:  3\n",
      "1 right_line.ndim:  3\n",
      "2 left_line.shape:  (1, 1, 4)\n",
      "2 right_line.shape:  (1, 1, 4)\n",
      "2 type(road_lines):  <class 'numpy.ndarray'>\n",
      "6 type(road_lines):  <class 'numpy.ndarray'>\n",
      "6 road_lines.shape:  (1, 2, 4)\n",
      "int32\n",
      "1 type(left_line):  <class 'numpy.ndarray'>\n",
      "1 type(right_line):  <class 'numpy.ndarray'>\n",
      "1 left_line.shape:  (1, 1, 4)\n",
      "1 right_line.shape:  (1, 1, 4)\n",
      "1 left_line.ndim:  3\n",
      "1 right_line.ndim:  3\n",
      "2 left_line.shape:  (1, 1, 4)\n",
      "2 right_line.shape:  (1, 1, 4)\n",
      "2 type(road_lines):  <class 'numpy.ndarray'>\n",
      "6 type(road_lines):  <class 'numpy.ndarray'>\n",
      "6 road_lines.shape:  (1, 2, 4)\n"
     ]
    },
    {
     "name": "stderr",
     "output_type": "stream",
     "text": [
      "\n",
      "t:  23%|██████▎                     | 50/221 [00:04<00:17,  9.82it/s, now=None]"
     ]
    },
    {
     "name": "stdout",
     "output_type": "stream",
     "text": [
      "int32\n",
      "1 type(left_line):  <class 'numpy.ndarray'>\n",
      "1 type(right_line):  <class 'numpy.ndarray'>\n",
      "1 left_line.shape:  (1, 1, 4)\n",
      "1 right_line.shape:  (1, 1, 4)\n",
      "1 left_line.ndim:  3\n",
      "1 right_line.ndim:  3\n",
      "2 left_line.shape:  (1, 1, 4)\n",
      "2 right_line.shape:  (1, 1, 4)\n",
      "2 type(road_lines):  <class 'numpy.ndarray'>\n",
      "6 type(road_lines):  <class 'numpy.ndarray'>\n",
      "6 road_lines.shape:  (1, 2, 4)\n"
     ]
    },
    {
     "name": "stderr",
     "output_type": "stream",
     "text": [
      "\n",
      "t:  23%|██████▍                     | 51/221 [00:04<00:17,  9.70it/s, now=None]"
     ]
    },
    {
     "name": "stdout",
     "output_type": "stream",
     "text": [
      "int32\n",
      "1 type(left_line):  <class 'numpy.ndarray'>\n",
      "1 type(right_line):  <class 'numpy.ndarray'>\n",
      "1 left_line.shape:  (1, 1, 4)\n",
      "1 right_line.shape:  (1, 1, 4)\n",
      "1 left_line.ndim:  3\n",
      "1 right_line.ndim:  3\n",
      "2 left_line.shape:  (1, 1, 4)\n",
      "2 right_line.shape:  (1, 1, 4)\n",
      "2 type(road_lines):  <class 'numpy.ndarray'>\n",
      "6 type(road_lines):  <class 'numpy.ndarray'>\n",
      "6 road_lines.shape:  (1, 2, 4)\n"
     ]
    },
    {
     "name": "stderr",
     "output_type": "stream",
     "text": [
      "\n",
      "t:  24%|██████▌                     | 52/221 [00:04<00:17,  9.68it/s, now=None]"
     ]
    },
    {
     "name": "stdout",
     "output_type": "stream",
     "text": [
      "int32\n",
      "1 type(left_line):  <class 'numpy.ndarray'>\n",
      "1 type(right_line):  <class 'numpy.ndarray'>\n",
      "1 left_line.shape:  (1, 1, 4)\n",
      "1 right_line.shape:  (1, 1, 4)\n",
      "1 left_line.ndim:  3\n",
      "1 right_line.ndim:  3\n",
      "2 left_line.shape:  (1, 1, 4)\n",
      "2 right_line.shape:  (1, 1, 4)\n",
      "2 type(road_lines):  <class 'numpy.ndarray'>\n",
      "6 type(road_lines):  <class 'numpy.ndarray'>\n",
      "6 road_lines.shape:  (1, 2, 4)\n",
      "int32\n",
      "1 type(left_line):  <class 'numpy.ndarray'>\n",
      "1 type(right_line):  <class 'numpy.ndarray'>\n",
      "1 left_line.shape:  (0,)\n",
      "1 right_line.shape:  (1, 1, 4)\n",
      "1 left_line.ndim:  1\n",
      "1 right_line.ndim:  3\n",
      "4 right_line.shape:  (1, 1, 4)\n",
      "5 type(road_lines):  <class 'numpy.ndarray'>\n",
      "5 road_lines.shape:  (1, 1, 4)\n",
      "6 type(road_lines):  <class 'numpy.ndarray'>\n",
      "6 road_lines.shape:  (1, 1, 4)\n"
     ]
    },
    {
     "name": "stderr",
     "output_type": "stream",
     "text": [
      "\n",
      "t:  24%|██████▊                     | 54/221 [00:05<00:18,  9.09it/s, now=None]"
     ]
    },
    {
     "name": "stdout",
     "output_type": "stream",
     "text": [
      "int32\n",
      "1 type(left_line):  <class 'numpy.ndarray'>\n",
      "1 type(right_line):  <class 'numpy.ndarray'>\n",
      "1 left_line.shape:  (0,)\n",
      "1 right_line.shape:  (1, 1, 4)\n",
      "1 left_line.ndim:  1\n",
      "1 right_line.ndim:  3\n",
      "4 right_line.shape:  (1, 1, 4)\n",
      "5 type(road_lines):  <class 'numpy.ndarray'>\n",
      "5 road_lines.shape:  (1, 1, 4)\n",
      "6 type(road_lines):  <class 'numpy.ndarray'>\n",
      "6 road_lines.shape:  (1, 1, 4)\n",
      "int32\n",
      "1 type(left_line):  <class 'numpy.ndarray'>\n",
      "1 type(right_line):  <class 'numpy.ndarray'>\n",
      "1 left_line.shape:  (0,)\n",
      "1 right_line.shape:  (1, 1, 4)\n",
      "1 left_line.ndim:  1\n",
      "1 right_line.ndim:  3\n",
      "4 right_line.shape:  (1, 1, 4)\n",
      "5 type(road_lines):  <class 'numpy.ndarray'>\n",
      "5 road_lines.shape:  (1, 1, 4)\n",
      "6 type(road_lines):  <class 'numpy.ndarray'>\n",
      "6 road_lines.shape:  (1, 1, 4)\n"
     ]
    },
    {
     "name": "stderr",
     "output_type": "stream",
     "text": [
      "\n",
      "t:  25%|███████                     | 56/221 [00:05<00:16,  9.73it/s, now=None]"
     ]
    },
    {
     "name": "stdout",
     "output_type": "stream",
     "text": [
      "int32\n",
      "1 type(left_line):  <class 'numpy.ndarray'>\n",
      "1 type(right_line):  <class 'numpy.ndarray'>\n",
      "1 left_line.shape:  (0,)\n",
      "1 right_line.shape:  (1, 1, 4)\n",
      "1 left_line.ndim:  1\n",
      "1 right_line.ndim:  3\n",
      "4 right_line.shape:  (1, 1, 4)\n",
      "5 type(road_lines):  <class 'numpy.ndarray'>\n",
      "5 road_lines.shape:  (1, 1, 4)\n",
      "6 type(road_lines):  <class 'numpy.ndarray'>\n",
      "6 road_lines.shape:  (1, 1, 4)\n"
     ]
    },
    {
     "name": "stderr",
     "output_type": "stream",
     "text": [
      "\n",
      "t:  26%|███████▏                    | 57/221 [00:05<00:16,  9.70it/s, now=None]"
     ]
    },
    {
     "name": "stdout",
     "output_type": "stream",
     "text": [
      "int32\n",
      "1 type(left_line):  <class 'numpy.ndarray'>\n",
      "1 type(right_line):  <class 'numpy.ndarray'>\n",
      "1 left_line.shape:  (1, 1, 4)\n",
      "1 right_line.shape:  (1, 1, 4)\n",
      "1 left_line.ndim:  3\n",
      "1 right_line.ndim:  3\n",
      "2 left_line.shape:  (1, 1, 4)\n",
      "2 right_line.shape:  (1, 1, 4)\n",
      "2 type(road_lines):  <class 'numpy.ndarray'>\n",
      "6 type(road_lines):  <class 'numpy.ndarray'>\n",
      "6 road_lines.shape:  (1, 2, 4)\n",
      "int32\n",
      "1 type(left_line):  <class 'numpy.ndarray'>\n",
      "1 type(right_line):  <class 'numpy.ndarray'>\n",
      "1 left_line.shape:  (1, 1, 4)\n",
      "1 right_line.shape:  (1, 1, 4)\n",
      "1 left_line.ndim:  3\n",
      "1 right_line.ndim:  3\n",
      "2 left_line.shape:  (1, 1, 4)\n",
      "2 right_line.shape:  (1, 1, 4)\n",
      "2 type(road_lines):  <class 'numpy.ndarray'>\n",
      "6 type(road_lines):  <class 'numpy.ndarray'>\n",
      "6 road_lines.shape:  (1, 2, 4)\n"
     ]
    },
    {
     "name": "stderr",
     "output_type": "stream",
     "text": [
      "\n",
      "t:  27%|███████▍                    | 59/221 [00:05<00:15, 10.19it/s, now=None]"
     ]
    },
    {
     "name": "stdout",
     "output_type": "stream",
     "text": [
      "int32\n",
      "1 type(left_line):  <class 'numpy.ndarray'>\n",
      "1 type(right_line):  <class 'numpy.ndarray'>\n",
      "1 left_line.shape:  (1, 1, 4)\n",
      "1 right_line.shape:  (1, 1, 4)\n",
      "1 left_line.ndim:  3\n",
      "1 right_line.ndim:  3\n",
      "2 left_line.shape:  (1, 1, 4)\n",
      "2 right_line.shape:  (1, 1, 4)\n",
      "2 type(road_lines):  <class 'numpy.ndarray'>\n",
      "6 type(road_lines):  <class 'numpy.ndarray'>\n",
      "6 road_lines.shape:  (1, 2, 4)\n",
      "int32\n",
      "1 type(left_line):  <class 'numpy.ndarray'>\n",
      "1 type(right_line):  <class 'numpy.ndarray'>\n",
      "1 left_line.shape:  (1, 1, 4)\n",
      "1 right_line.shape:  (1, 1, 4)\n",
      "1 left_line.ndim:  3\n",
      "1 right_line.ndim:  3\n",
      "2 left_line.shape:  (1, 1, 4)\n",
      "2 right_line.shape:  (1, 1, 4)\n",
      "2 type(road_lines):  <class 'numpy.ndarray'>\n",
      "6 type(road_lines):  <class 'numpy.ndarray'>\n",
      "6 road_lines.shape:  (1, 2, 4)\n"
     ]
    },
    {
     "name": "stderr",
     "output_type": "stream",
     "text": [
      "\n",
      "t:  28%|███████▋                    | 61/221 [00:05<00:16,  9.94it/s, now=None]"
     ]
    },
    {
     "name": "stdout",
     "output_type": "stream",
     "text": [
      "int32\n",
      "1 type(left_line):  <class 'numpy.ndarray'>\n",
      "1 type(right_line):  <class 'numpy.ndarray'>\n",
      "1 left_line.shape:  (1, 1, 4)\n",
      "1 right_line.shape:  (1, 1, 4)\n",
      "1 left_line.ndim:  3\n",
      "1 right_line.ndim:  3\n",
      "2 left_line.shape:  (1, 1, 4)\n",
      "2 right_line.shape:  (1, 1, 4)\n",
      "2 type(road_lines):  <class 'numpy.ndarray'>\n",
      "6 type(road_lines):  <class 'numpy.ndarray'>\n",
      "6 road_lines.shape:  (1, 2, 4)\n",
      "int32\n",
      "1 type(left_line):  <class 'numpy.ndarray'>\n",
      "1 type(right_line):  <class 'numpy.ndarray'>\n",
      "1 left_line.shape:  (1, 1, 4)\n",
      "1 right_line.shape:  (1, 1, 4)\n",
      "1 left_line.ndim:  3\n",
      "1 right_line.ndim:  3\n",
      "2 left_line.shape:  (1, 1, 4)\n",
      "2 right_line.shape:  (1, 1, 4)\n",
      "2 type(road_lines):  <class 'numpy.ndarray'>\n",
      "6 type(road_lines):  <class 'numpy.ndarray'>\n",
      "6 road_lines.shape:  (1, 2, 4)\n"
     ]
    },
    {
     "name": "stderr",
     "output_type": "stream",
     "text": [
      "\n",
      "t:  29%|███████▉                    | 63/221 [00:06<00:15, 10.09it/s, now=None]"
     ]
    },
    {
     "name": "stdout",
     "output_type": "stream",
     "text": [
      "int32\n",
      "1 type(left_line):  <class 'numpy.ndarray'>\n",
      "1 type(right_line):  <class 'numpy.ndarray'>\n",
      "1 left_line.shape:  (1, 1, 4)\n",
      "1 right_line.shape:  (1, 1, 4)\n",
      "1 left_line.ndim:  3\n",
      "1 right_line.ndim:  3\n",
      "2 left_line.shape:  (1, 1, 4)\n",
      "2 right_line.shape:  (1, 1, 4)\n",
      "2 type(road_lines):  <class 'numpy.ndarray'>\n",
      "6 type(road_lines):  <class 'numpy.ndarray'>\n",
      "6 road_lines.shape:  (1, 2, 4)\n",
      "int32\n",
      "1 type(left_line):  <class 'numpy.ndarray'>\n",
      "1 type(right_line):  <class 'numpy.ndarray'>\n",
      "1 left_line.shape:  (1, 1, 4)\n",
      "1 right_line.shape:  (1, 1, 4)\n",
      "1 left_line.ndim:  3\n",
      "1 right_line.ndim:  3\n",
      "2 left_line.shape:  (1, 1, 4)\n",
      "2 right_line.shape:  (1, 1, 4)\n",
      "2 type(road_lines):  <class 'numpy.ndarray'>\n",
      "6 type(road_lines):  <class 'numpy.ndarray'>\n",
      "6 road_lines.shape:  (1, 2, 4)\n"
     ]
    },
    {
     "name": "stderr",
     "output_type": "stream",
     "text": [
      "\n",
      "t:  29%|████████▏                   | 65/221 [00:06<00:15,  9.86it/s, now=None]"
     ]
    },
    {
     "name": "stdout",
     "output_type": "stream",
     "text": [
      "int32\n",
      "1 type(left_line):  <class 'numpy.ndarray'>\n",
      "1 type(right_line):  <class 'numpy.ndarray'>\n",
      "1 left_line.shape:  (1, 1, 4)\n",
      "1 right_line.shape:  (1, 1, 4)\n",
      "1 left_line.ndim:  3\n",
      "1 right_line.ndim:  3\n",
      "2 left_line.shape:  (1, 1, 4)\n",
      "2 right_line.shape:  (1, 1, 4)\n",
      "2 type(road_lines):  <class 'numpy.ndarray'>\n",
      "6 type(road_lines):  <class 'numpy.ndarray'>\n",
      "6 road_lines.shape:  (1, 2, 4)\n"
     ]
    },
    {
     "name": "stderr",
     "output_type": "stream",
     "text": [
      "\n",
      "t:  30%|████████▎                   | 66/221 [00:06<00:15,  9.87it/s, now=None]"
     ]
    },
    {
     "name": "stdout",
     "output_type": "stream",
     "text": [
      "int32\n",
      "1 type(left_line):  <class 'numpy.ndarray'>\n",
      "1 type(right_line):  <class 'numpy.ndarray'>\n",
      "1 left_line.shape:  (0,)\n",
      "1 right_line.shape:  (1, 1, 4)\n",
      "1 left_line.ndim:  1\n",
      "1 right_line.ndim:  3\n",
      "4 right_line.shape:  (1, 1, 4)\n",
      "5 type(road_lines):  <class 'numpy.ndarray'>\n",
      "5 road_lines.shape:  (1, 1, 4)\n",
      "6 type(road_lines):  <class 'numpy.ndarray'>\n",
      "6 road_lines.shape:  (1, 1, 4)\n"
     ]
    },
    {
     "name": "stderr",
     "output_type": "stream",
     "text": [
      "\n",
      "t:  30%|████████▍                   | 67/221 [00:06<00:15,  9.85it/s, now=None]"
     ]
    },
    {
     "name": "stdout",
     "output_type": "stream",
     "text": [
      "int32\n",
      "1 type(left_line):  <class 'numpy.ndarray'>\n",
      "1 type(right_line):  <class 'numpy.ndarray'>\n",
      "1 left_line.shape:  (0,)\n",
      "1 right_line.shape:  (1, 1, 4)\n",
      "1 left_line.ndim:  1\n",
      "1 right_line.ndim:  3\n",
      "4 right_line.shape:  (1, 1, 4)\n",
      "5 type(road_lines):  <class 'numpy.ndarray'>\n",
      "5 road_lines.shape:  (1, 1, 4)\n",
      "6 type(road_lines):  <class 'numpy.ndarray'>\n",
      "6 road_lines.shape:  (1, 1, 4)\n",
      "int32\n",
      "1 type(left_line):  <class 'numpy.ndarray'>\n",
      "1 type(right_line):  <class 'numpy.ndarray'>\n",
      "1 left_line.shape:  (0,)\n",
      "1 right_line.shape:  (1, 1, 4)\n",
      "1 left_line.ndim:  1\n",
      "1 right_line.ndim:  3\n",
      "4 right_line.shape:  (1, 1, 4)\n",
      "5 type(road_lines):  <class 'numpy.ndarray'>\n",
      "5 road_lines.shape:  (1, 1, 4)\n",
      "6 type(road_lines):  <class 'numpy.ndarray'>\n",
      "6 road_lines.shape:  (1, 1, 4)\n"
     ]
    },
    {
     "name": "stderr",
     "output_type": "stream",
     "text": [
      "\n",
      "t:  31%|████████▋                   | 69/221 [00:06<00:14, 10.22it/s, now=None]"
     ]
    },
    {
     "name": "stdout",
     "output_type": "stream",
     "text": [
      "int32\n",
      "1 type(left_line):  <class 'numpy.ndarray'>\n",
      "1 type(right_line):  <class 'numpy.ndarray'>\n",
      "1 left_line.shape:  (1, 1, 4)\n",
      "1 right_line.shape:  (1, 1, 4)\n",
      "1 left_line.ndim:  3\n",
      "1 right_line.ndim:  3\n",
      "2 left_line.shape:  (1, 1, 4)\n",
      "2 right_line.shape:  (1, 1, 4)\n",
      "2 type(road_lines):  <class 'numpy.ndarray'>\n",
      "6 type(road_lines):  <class 'numpy.ndarray'>\n",
      "6 road_lines.shape:  (1, 2, 4)\n",
      "int32\n",
      "1 type(left_line):  <class 'numpy.ndarray'>\n",
      "1 type(right_line):  <class 'numpy.ndarray'>\n",
      "1 left_line.shape:  (1, 1, 4)\n",
      "1 right_line.shape:  (1, 1, 4)\n",
      "1 left_line.ndim:  3\n",
      "1 right_line.ndim:  3\n",
      "2 left_line.shape:  (1, 1, 4)\n",
      "2 right_line.shape:  (1, 1, 4)\n",
      "2 type(road_lines):  <class 'numpy.ndarray'>\n",
      "6 type(road_lines):  <class 'numpy.ndarray'>\n",
      "6 road_lines.shape:  (1, 2, 4)\n"
     ]
    },
    {
     "name": "stderr",
     "output_type": "stream",
     "text": [
      "\n",
      "t:  32%|████████▉                   | 71/221 [00:06<00:15,  9.97it/s, now=None]"
     ]
    },
    {
     "name": "stdout",
     "output_type": "stream",
     "text": [
      "int32\n",
      "1 type(left_line):  <class 'numpy.ndarray'>\n",
      "1 type(right_line):  <class 'numpy.ndarray'>\n",
      "1 left_line.shape:  (1, 1, 4)\n",
      "1 right_line.shape:  (1, 1, 4)\n",
      "1 left_line.ndim:  3\n",
      "1 right_line.ndim:  3\n",
      "2 left_line.shape:  (1, 1, 4)\n",
      "2 right_line.shape:  (1, 1, 4)\n",
      "2 type(road_lines):  <class 'numpy.ndarray'>\n",
      "6 type(road_lines):  <class 'numpy.ndarray'>\n",
      "6 road_lines.shape:  (1, 2, 4)\n",
      "int32\n",
      "1 type(left_line):  <class 'numpy.ndarray'>\n",
      "1 type(right_line):  <class 'numpy.ndarray'>\n",
      "1 left_line.shape:  (1, 1, 4)\n",
      "1 right_line.shape:  (1, 1, 4)\n",
      "1 left_line.ndim:  3\n",
      "1 right_line.ndim:  3\n",
      "2 left_line.shape:  (1, 1, 4)\n",
      "2 right_line.shape:  (1, 1, 4)\n",
      "2 type(road_lines):  <class 'numpy.ndarray'>\n",
      "6 type(road_lines):  <class 'numpy.ndarray'>\n",
      "6 road_lines.shape:  (1, 2, 4)\n"
     ]
    },
    {
     "name": "stderr",
     "output_type": "stream",
     "text": [
      "\n",
      "t:  33%|█████████▏                  | 73/221 [00:07<00:14,  9.99it/s, now=None]"
     ]
    },
    {
     "name": "stdout",
     "output_type": "stream",
     "text": [
      "int32\n",
      "1 type(left_line):  <class 'numpy.ndarray'>\n",
      "1 type(right_line):  <class 'numpy.ndarray'>\n",
      "1 left_line.shape:  (1, 1, 4)\n",
      "1 right_line.shape:  (1, 1, 4)\n",
      "1 left_line.ndim:  3\n",
      "1 right_line.ndim:  3\n",
      "2 left_line.shape:  (1, 1, 4)\n",
      "2 right_line.shape:  (1, 1, 4)\n",
      "2 type(road_lines):  <class 'numpy.ndarray'>\n",
      "6 type(road_lines):  <class 'numpy.ndarray'>\n",
      "6 road_lines.shape:  (1, 2, 4)\n",
      "int32\n",
      "1 type(left_line):  <class 'numpy.ndarray'>\n",
      "1 type(right_line):  <class 'numpy.ndarray'>\n",
      "1 left_line.shape:  (1, 1, 4)\n",
      "1 right_line.shape:  (1, 1, 4)\n",
      "1 left_line.ndim:  3\n",
      "1 right_line.ndim:  3\n",
      "2 left_line.shape:  (1, 1, 4)\n",
      "2 right_line.shape:  (1, 1, 4)\n",
      "2 type(road_lines):  <class 'numpy.ndarray'>\n",
      "6 type(road_lines):  <class 'numpy.ndarray'>\n",
      "6 road_lines.shape:  (1, 2, 4)\n"
     ]
    },
    {
     "name": "stderr",
     "output_type": "stream",
     "text": [
      "\n",
      "t:  34%|█████████▌                  | 75/221 [00:07<00:14,  9.98it/s, now=None]"
     ]
    },
    {
     "name": "stdout",
     "output_type": "stream",
     "text": [
      "int32\n",
      "1 type(left_line):  <class 'numpy.ndarray'>\n",
      "1 type(right_line):  <class 'numpy.ndarray'>\n",
      "1 left_line.shape:  (1, 1, 4)\n",
      "1 right_line.shape:  (1, 1, 4)\n",
      "1 left_line.ndim:  3\n",
      "1 right_line.ndim:  3\n",
      "2 left_line.shape:  (1, 1, 4)\n",
      "2 right_line.shape:  (1, 1, 4)\n",
      "2 type(road_lines):  <class 'numpy.ndarray'>\n",
      "6 type(road_lines):  <class 'numpy.ndarray'>\n",
      "6 road_lines.shape:  (1, 2, 4)\n",
      "int32\n",
      "1 type(left_line):  <class 'numpy.ndarray'>\n",
      "1 type(right_line):  <class 'numpy.ndarray'>\n",
      "1 left_line.shape:  (1, 1, 4)\n",
      "1 right_line.shape:  (1, 1, 4)\n",
      "1 left_line.ndim:  3\n",
      "1 right_line.ndim:  3\n",
      "2 left_line.shape:  (1, 1, 4)\n",
      "2 right_line.shape:  (1, 1, 4)\n",
      "2 type(road_lines):  <class 'numpy.ndarray'>\n",
      "6 type(road_lines):  <class 'numpy.ndarray'>\n",
      "6 road_lines.shape:  (1, 2, 4)\n"
     ]
    },
    {
     "name": "stderr",
     "output_type": "stream",
     "text": [
      "\n",
      "t:  35%|█████████▊                  | 77/221 [00:07<00:14, 10.02it/s, now=None]"
     ]
    },
    {
     "name": "stdout",
     "output_type": "stream",
     "text": [
      "int32\n",
      "1 type(left_line):  <class 'numpy.ndarray'>\n",
      "1 type(right_line):  <class 'numpy.ndarray'>\n",
      "1 left_line.shape:  (1, 1, 4)\n",
      "1 right_line.shape:  (1, 1, 4)\n",
      "1 left_line.ndim:  3\n",
      "1 right_line.ndim:  3\n",
      "2 left_line.shape:  (1, 1, 4)\n",
      "2 right_line.shape:  (1, 1, 4)\n",
      "2 type(road_lines):  <class 'numpy.ndarray'>\n",
      "6 type(road_lines):  <class 'numpy.ndarray'>\n",
      "6 road_lines.shape:  (1, 2, 4)\n",
      "int32\n",
      "1 type(left_line):  <class 'numpy.ndarray'>\n",
      "1 type(right_line):  <class 'numpy.ndarray'>\n",
      "1 left_line.shape:  (0,)\n",
      "1 right_line.shape:  (1, 1, 4)\n",
      "1 left_line.ndim:  1\n",
      "1 right_line.ndim:  3\n",
      "4 right_line.shape:  (1, 1, 4)\n",
      "5 type(road_lines):  <class 'numpy.ndarray'>\n",
      "5 road_lines.shape:  (1, 1, 4)\n",
      "6 type(road_lines):  <class 'numpy.ndarray'>\n",
      "6 road_lines.shape:  (1, 1, 4)\n"
     ]
    },
    {
     "name": "stderr",
     "output_type": "stream",
     "text": [
      "\n",
      "t:  36%|██████████                  | 79/221 [00:07<00:14,  9.65it/s, now=None]"
     ]
    },
    {
     "name": "stdout",
     "output_type": "stream",
     "text": [
      "int32\n",
      "1 type(left_line):  <class 'numpy.ndarray'>\n",
      "1 type(right_line):  <class 'numpy.ndarray'>\n",
      "1 left_line.shape:  (0,)\n",
      "1 right_line.shape:  (1, 1, 4)\n",
      "1 left_line.ndim:  1\n",
      "1 right_line.ndim:  3\n",
      "4 right_line.shape:  (1, 1, 4)\n",
      "5 type(road_lines):  <class 'numpy.ndarray'>\n",
      "5 road_lines.shape:  (1, 1, 4)\n",
      "6 type(road_lines):  <class 'numpy.ndarray'>\n",
      "6 road_lines.shape:  (1, 1, 4)\n",
      "int32\n",
      "1 type(left_line):  <class 'numpy.ndarray'>\n",
      "1 type(right_line):  <class 'numpy.ndarray'>\n",
      "1 left_line.shape:  (0,)\n",
      "1 right_line.shape:  (1, 1, 4)\n",
      "1 left_line.ndim:  1\n",
      "1 right_line.ndim:  3\n",
      "4 right_line.shape:  (1, 1, 4)\n",
      "5 type(road_lines):  <class 'numpy.ndarray'>\n",
      "5 road_lines.shape:  (1, 1, 4)\n",
      "6 type(road_lines):  <class 'numpy.ndarray'>\n",
      "6 road_lines.shape:  (1, 1, 4)\n"
     ]
    },
    {
     "name": "stderr",
     "output_type": "stream",
     "text": [
      "\n",
      "t:  37%|██████████▎                 | 81/221 [00:07<00:13, 10.06it/s, now=None]"
     ]
    },
    {
     "name": "stdout",
     "output_type": "stream",
     "text": [
      "int32\n",
      "1 type(left_line):  <class 'numpy.ndarray'>\n",
      "1 type(right_line):  <class 'numpy.ndarray'>\n",
      "1 left_line.shape:  (1, 1, 4)\n",
      "1 right_line.shape:  (1, 1, 4)\n",
      "1 left_line.ndim:  3\n",
      "1 right_line.ndim:  3\n",
      "2 left_line.shape:  (1, 1, 4)\n",
      "2 right_line.shape:  (1, 1, 4)\n",
      "2 type(road_lines):  <class 'numpy.ndarray'>\n",
      "6 type(road_lines):  <class 'numpy.ndarray'>\n",
      "6 road_lines.shape:  (1, 2, 4)\n",
      "int32\n",
      "1 type(left_line):  <class 'numpy.ndarray'>\n",
      "1 type(right_line):  <class 'numpy.ndarray'>\n",
      "1 left_line.shape:  (1, 1, 4)\n",
      "1 right_line.shape:  (1, 1, 4)\n",
      "1 left_line.ndim:  3\n",
      "1 right_line.ndim:  3\n",
      "2 left_line.shape:  (1, 1, 4)\n",
      "2 right_line.shape:  (1, 1, 4)\n",
      "2 type(road_lines):  <class 'numpy.ndarray'>\n",
      "6 type(road_lines):  <class 'numpy.ndarray'>\n",
      "6 road_lines.shape:  (1, 2, 4)\n"
     ]
    },
    {
     "name": "stderr",
     "output_type": "stream",
     "text": [
      "\n",
      "t:  38%|██████████▌                 | 83/221 [00:08<00:14,  9.65it/s, now=None]"
     ]
    },
    {
     "name": "stdout",
     "output_type": "stream",
     "text": [
      "int32\n",
      "1 type(left_line):  <class 'numpy.ndarray'>\n",
      "1 type(right_line):  <class 'numpy.ndarray'>\n",
      "1 left_line.shape:  (1, 1, 4)\n",
      "1 right_line.shape:  (1, 1, 4)\n",
      "1 left_line.ndim:  3\n",
      "1 right_line.ndim:  3\n",
      "2 left_line.shape:  (1, 1, 4)\n",
      "2 right_line.shape:  (1, 1, 4)\n",
      "2 type(road_lines):  <class 'numpy.ndarray'>\n",
      "6 type(road_lines):  <class 'numpy.ndarray'>\n",
      "6 road_lines.shape:  (1, 2, 4)\n",
      "int32\n",
      "1 type(left_line):  <class 'numpy.ndarray'>\n",
      "1 type(right_line):  <class 'numpy.ndarray'>\n",
      "1 left_line.shape:  (1, 1, 4)\n",
      "1 right_line.shape:  (1, 1, 4)\n",
      "1 left_line.ndim:  3\n",
      "1 right_line.ndim:  3\n",
      "2 left_line.shape:  (1, 1, 4)\n",
      "2 right_line.shape:  (1, 1, 4)\n",
      "2 type(road_lines):  <class 'numpy.ndarray'>\n",
      "6 type(road_lines):  <class 'numpy.ndarray'>\n",
      "6 road_lines.shape:  (1, 2, 4)\n"
     ]
    },
    {
     "name": "stderr",
     "output_type": "stream",
     "text": [
      "\n",
      "t:  38%|██████████▊                 | 85/221 [00:08<00:13, 10.39it/s, now=None]"
     ]
    },
    {
     "name": "stdout",
     "output_type": "stream",
     "text": [
      "int32\n",
      "1 type(left_line):  <class 'numpy.ndarray'>\n",
      "1 type(right_line):  <class 'numpy.ndarray'>\n",
      "1 left_line.shape:  (1, 1, 4)\n",
      "1 right_line.shape:  (1, 1, 4)\n",
      "1 left_line.ndim:  3\n",
      "1 right_line.ndim:  3\n",
      "2 left_line.shape:  (1, 1, 4)\n",
      "2 right_line.shape:  (1, 1, 4)\n",
      "2 type(road_lines):  <class 'numpy.ndarray'>\n",
      "6 type(road_lines):  <class 'numpy.ndarray'>\n",
      "6 road_lines.shape:  (1, 2, 4)\n",
      "int32\n",
      "1 type(left_line):  <class 'numpy.ndarray'>\n",
      "1 type(right_line):  <class 'numpy.ndarray'>\n",
      "1 left_line.shape:  (1, 1, 4)\n",
      "1 right_line.shape:  (1, 1, 4)\n",
      "1 left_line.ndim:  3\n",
      "1 right_line.ndim:  3\n",
      "2 left_line.shape:  (1, 1, 4)\n",
      "2 right_line.shape:  (1, 1, 4)\n",
      "2 type(road_lines):  <class 'numpy.ndarray'>\n",
      "6 type(road_lines):  <class 'numpy.ndarray'>\n",
      "6 road_lines.shape:  (1, 2, 4)\n"
     ]
    },
    {
     "name": "stderr",
     "output_type": "stream",
     "text": [
      "\n",
      "t:  39%|███████████                 | 87/221 [00:08<00:12, 10.91it/s, now=None]"
     ]
    },
    {
     "name": "stdout",
     "output_type": "stream",
     "text": [
      "int32\n",
      "1 type(left_line):  <class 'numpy.ndarray'>\n",
      "1 type(right_line):  <class 'numpy.ndarray'>\n",
      "1 left_line.shape:  (1, 1, 4)\n",
      "1 right_line.shape:  (1, 1, 4)\n",
      "1 left_line.ndim:  3\n",
      "1 right_line.ndim:  3\n",
      "2 left_line.shape:  (1, 1, 4)\n",
      "2 right_line.shape:  (1, 1, 4)\n",
      "2 type(road_lines):  <class 'numpy.ndarray'>\n",
      "6 type(road_lines):  <class 'numpy.ndarray'>\n",
      "6 road_lines.shape:  (1, 2, 4)\n",
      "int32\n",
      "1 type(left_line):  <class 'numpy.ndarray'>\n",
      "1 type(right_line):  <class 'numpy.ndarray'>\n",
      "1 left_line.shape:  (1, 1, 4)\n",
      "1 right_line.shape:  (1, 1, 4)\n",
      "1 left_line.ndim:  3\n",
      "1 right_line.ndim:  3\n",
      "2 left_line.shape:  (1, 1, 4)\n",
      "2 right_line.shape:  (1, 1, 4)\n",
      "2 type(road_lines):  <class 'numpy.ndarray'>\n",
      "6 type(road_lines):  <class 'numpy.ndarray'>\n",
      "6 road_lines.shape:  (1, 2, 4)\n"
     ]
    },
    {
     "name": "stderr",
     "output_type": "stream",
     "text": [
      "\n",
      "t:  40%|███████████▎                | 89/221 [00:08<00:11, 11.38it/s, now=None]"
     ]
    },
    {
     "name": "stdout",
     "output_type": "stream",
     "text": [
      "int32\n",
      "1 type(left_line):  <class 'numpy.ndarray'>\n",
      "1 type(right_line):  <class 'numpy.ndarray'>\n",
      "1 left_line.shape:  (1, 1, 4)\n",
      "1 right_line.shape:  (1, 1, 4)\n",
      "1 left_line.ndim:  3\n",
      "1 right_line.ndim:  3\n",
      "2 left_line.shape:  (1, 1, 4)\n",
      "2 right_line.shape:  (1, 1, 4)\n",
      "2 type(road_lines):  <class 'numpy.ndarray'>\n",
      "6 type(road_lines):  <class 'numpy.ndarray'>\n",
      "6 road_lines.shape:  (1, 2, 4)\n",
      "int32\n",
      "1 type(left_line):  <class 'numpy.ndarray'>\n",
      "1 type(right_line):  <class 'numpy.ndarray'>\n",
      "1 left_line.shape:  (0,)\n",
      "1 right_line.shape:  (1, 1, 4)\n",
      "1 left_line.ndim:  1\n",
      "1 right_line.ndim:  3\n",
      "4 right_line.shape:  (1, 1, 4)\n",
      "5 type(road_lines):  <class 'numpy.ndarray'>\n",
      "5 road_lines.shape:  (1, 1, 4)\n",
      "6 type(road_lines):  <class 'numpy.ndarray'>\n",
      "6 road_lines.shape:  (1, 1, 4)\n"
     ]
    },
    {
     "name": "stderr",
     "output_type": "stream",
     "text": [
      "\n",
      "t:  41%|███████████▌                | 91/221 [00:08<00:11, 11.21it/s, now=None]"
     ]
    },
    {
     "name": "stdout",
     "output_type": "stream",
     "text": [
      "int32\n",
      "1 type(left_line):  <class 'numpy.ndarray'>\n",
      "1 type(right_line):  <class 'numpy.ndarray'>\n",
      "1 left_line.shape:  (0,)\n",
      "1 right_line.shape:  (1, 1, 4)\n",
      "1 left_line.ndim:  1\n",
      "1 right_line.ndim:  3\n",
      "4 right_line.shape:  (1, 1, 4)\n",
      "5 type(road_lines):  <class 'numpy.ndarray'>\n",
      "5 road_lines.shape:  (1, 1, 4)\n",
      "6 type(road_lines):  <class 'numpy.ndarray'>\n",
      "6 road_lines.shape:  (1, 1, 4)\n",
      "int32\n",
      "1 type(left_line):  <class 'numpy.ndarray'>\n",
      "1 type(right_line):  <class 'numpy.ndarray'>\n",
      "1 left_line.shape:  (1, 1, 4)\n",
      "1 right_line.shape:  (1, 1, 4)\n",
      "1 left_line.ndim:  3\n",
      "1 right_line.ndim:  3\n",
      "2 left_line.shape:  (1, 1, 4)\n",
      "2 right_line.shape:  (1, 1, 4)\n",
      "2 type(road_lines):  <class 'numpy.ndarray'>\n",
      "6 type(road_lines):  <class 'numpy.ndarray'>\n",
      "6 road_lines.shape:  (1, 2, 4)\n"
     ]
    },
    {
     "name": "stderr",
     "output_type": "stream",
     "text": [
      "\n",
      "t:  42%|███████████▊                | 93/221 [00:08<00:11, 11.49it/s, now=None]"
     ]
    },
    {
     "name": "stdout",
     "output_type": "stream",
     "text": [
      "int32\n",
      "1 type(left_line):  <class 'numpy.ndarray'>\n",
      "1 type(right_line):  <class 'numpy.ndarray'>\n",
      "1 left_line.shape:  (1, 1, 4)\n",
      "1 right_line.shape:  (1, 1, 4)\n",
      "1 left_line.ndim:  3\n",
      "1 right_line.ndim:  3\n",
      "2 left_line.shape:  (1, 1, 4)\n",
      "2 right_line.shape:  (1, 1, 4)\n",
      "2 type(road_lines):  <class 'numpy.ndarray'>\n",
      "6 type(road_lines):  <class 'numpy.ndarray'>\n",
      "6 road_lines.shape:  (1, 2, 4)\n",
      "int32\n",
      "1 type(left_line):  <class 'numpy.ndarray'>\n",
      "1 type(right_line):  <class 'numpy.ndarray'>\n",
      "1 left_line.shape:  (1, 1, 4)\n",
      "1 right_line.shape:  (1, 1, 4)\n",
      "1 left_line.ndim:  3\n",
      "1 right_line.ndim:  3\n",
      "2 left_line.shape:  (1, 1, 4)\n",
      "2 right_line.shape:  (1, 1, 4)\n",
      "2 type(road_lines):  <class 'numpy.ndarray'>\n",
      "6 type(road_lines):  <class 'numpy.ndarray'>\n",
      "6 road_lines.shape:  (1, 2, 4)\n"
     ]
    },
    {
     "name": "stderr",
     "output_type": "stream",
     "text": [
      "\n",
      "t:  43%|████████████                | 95/221 [00:09<00:10, 11.77it/s, now=None]"
     ]
    },
    {
     "name": "stdout",
     "output_type": "stream",
     "text": [
      "int32\n",
      "1 type(left_line):  <class 'numpy.ndarray'>\n",
      "1 type(right_line):  <class 'numpy.ndarray'>\n",
      "1 left_line.shape:  (1, 1, 4)\n",
      "1 right_line.shape:  (1, 1, 4)\n",
      "1 left_line.ndim:  3\n",
      "1 right_line.ndim:  3\n",
      "2 left_line.shape:  (1, 1, 4)\n",
      "2 right_line.shape:  (1, 1, 4)\n",
      "2 type(road_lines):  <class 'numpy.ndarray'>\n",
      "6 type(road_lines):  <class 'numpy.ndarray'>\n",
      "6 road_lines.shape:  (1, 2, 4)\n",
      "int32\n",
      "1 type(left_line):  <class 'numpy.ndarray'>\n",
      "1 type(right_line):  <class 'numpy.ndarray'>\n",
      "1 left_line.shape:  (1, 1, 4)\n",
      "1 right_line.shape:  (1, 1, 4)\n",
      "1 left_line.ndim:  3\n",
      "1 right_line.ndim:  3\n",
      "2 left_line.shape:  (1, 1, 4)\n",
      "2 right_line.shape:  (1, 1, 4)\n",
      "2 type(road_lines):  <class 'numpy.ndarray'>\n",
      "6 type(road_lines):  <class 'numpy.ndarray'>\n",
      "6 road_lines.shape:  (1, 2, 4)\n"
     ]
    },
    {
     "name": "stderr",
     "output_type": "stream",
     "text": [
      "\n",
      "t:  44%|████████████▎               | 97/221 [00:09<00:10, 11.63it/s, now=None]"
     ]
    },
    {
     "name": "stdout",
     "output_type": "stream",
     "text": [
      "int32\n",
      "1 type(left_line):  <class 'numpy.ndarray'>\n",
      "1 type(right_line):  <class 'numpy.ndarray'>\n",
      "1 left_line.shape:  (1, 1, 4)\n",
      "1 right_line.shape:  (1, 1, 4)\n",
      "1 left_line.ndim:  3\n",
      "1 right_line.ndim:  3\n",
      "2 left_line.shape:  (1, 1, 4)\n",
      "2 right_line.shape:  (1, 1, 4)\n",
      "2 type(road_lines):  <class 'numpy.ndarray'>\n",
      "6 type(road_lines):  <class 'numpy.ndarray'>\n",
      "6 road_lines.shape:  (1, 2, 4)\n",
      "int32\n",
      "1 type(left_line):  <class 'numpy.ndarray'>\n",
      "1 type(right_line):  <class 'numpy.ndarray'>\n",
      "1 left_line.shape:  (1, 1, 4)\n",
      "1 right_line.shape:  (1, 1, 4)\n",
      "1 left_line.ndim:  3\n",
      "1 right_line.ndim:  3\n",
      "2 left_line.shape:  (1, 1, 4)\n",
      "2 right_line.shape:  (1, 1, 4)\n",
      "2 type(road_lines):  <class 'numpy.ndarray'>\n",
      "6 type(road_lines):  <class 'numpy.ndarray'>\n",
      "6 road_lines.shape:  (1, 2, 4)\n"
     ]
    },
    {
     "name": "stderr",
     "output_type": "stream",
     "text": [
      "\n",
      "t:  45%|████████████▌               | 99/221 [00:09<00:10, 12.01it/s, now=None]"
     ]
    },
    {
     "name": "stdout",
     "output_type": "stream",
     "text": [
      "int32\n",
      "1 type(left_line):  <class 'numpy.ndarray'>\n",
      "1 type(right_line):  <class 'numpy.ndarray'>\n",
      "1 left_line.shape:  (1, 1, 4)\n",
      "1 right_line.shape:  (1, 1, 4)\n",
      "1 left_line.ndim:  3\n",
      "1 right_line.ndim:  3\n",
      "2 left_line.shape:  (1, 1, 4)\n",
      "2 right_line.shape:  (1, 1, 4)\n",
      "2 type(road_lines):  <class 'numpy.ndarray'>\n",
      "6 type(road_lines):  <class 'numpy.ndarray'>\n",
      "6 road_lines.shape:  (1, 2, 4)\n",
      "int32\n",
      "1 type(left_line):  <class 'numpy.ndarray'>\n",
      "1 type(right_line):  <class 'numpy.ndarray'>\n",
      "1 left_line.shape:  (1, 1, 4)\n",
      "1 right_line.shape:  (1, 1, 4)\n",
      "1 left_line.ndim:  3\n",
      "1 right_line.ndim:  3\n",
      "2 left_line.shape:  (1, 1, 4)\n",
      "2 right_line.shape:  (1, 1, 4)\n",
      "2 type(road_lines):  <class 'numpy.ndarray'>\n",
      "6 type(road_lines):  <class 'numpy.ndarray'>\n",
      "6 road_lines.shape:  (1, 2, 4)\n"
     ]
    },
    {
     "name": "stderr",
     "output_type": "stream",
     "text": [
      "\n",
      "t:  46%|████████████▎              | 101/221 [00:09<00:09, 12.17it/s, now=None]"
     ]
    },
    {
     "name": "stdout",
     "output_type": "stream",
     "text": [
      "int32\n",
      "1 type(left_line):  <class 'numpy.ndarray'>\n",
      "1 type(right_line):  <class 'numpy.ndarray'>\n",
      "1 left_line.shape:  (1, 1, 4)\n",
      "1 right_line.shape:  (1, 1, 4)\n",
      "1 left_line.ndim:  3\n",
      "1 right_line.ndim:  3\n",
      "2 left_line.shape:  (1, 1, 4)\n",
      "2 right_line.shape:  (1, 1, 4)\n",
      "2 type(road_lines):  <class 'numpy.ndarray'>\n",
      "6 type(road_lines):  <class 'numpy.ndarray'>\n",
      "6 road_lines.shape:  (1, 2, 4)\n",
      "int32\n",
      "1 type(left_line):  <class 'numpy.ndarray'>\n",
      "1 type(right_line):  <class 'numpy.ndarray'>\n",
      "1 left_line.shape:  (1, 1, 4)\n",
      "1 right_line.shape:  (1, 1, 4)\n",
      "1 left_line.ndim:  3\n",
      "1 right_line.ndim:  3\n",
      "2 left_line.shape:  (1, 1, 4)\n",
      "2 right_line.shape:  (1, 1, 4)\n",
      "2 type(road_lines):  <class 'numpy.ndarray'>\n",
      "6 type(road_lines):  <class 'numpy.ndarray'>\n",
      "6 road_lines.shape:  (1, 2, 4)\n"
     ]
    },
    {
     "name": "stderr",
     "output_type": "stream",
     "text": [
      "\n",
      "t:  47%|████████████▌              | 103/221 [00:09<00:09, 12.07it/s, now=None]"
     ]
    },
    {
     "name": "stdout",
     "output_type": "stream",
     "text": [
      "int32\n",
      "1 type(left_line):  <class 'numpy.ndarray'>\n",
      "1 type(right_line):  <class 'numpy.ndarray'>\n",
      "1 left_line.shape:  (0,)\n",
      "1 right_line.shape:  (1, 1, 4)\n",
      "1 left_line.ndim:  1\n",
      "1 right_line.ndim:  3\n",
      "4 right_line.shape:  (1, 1, 4)\n",
      "5 type(road_lines):  <class 'numpy.ndarray'>\n",
      "5 road_lines.shape:  (1, 1, 4)\n",
      "6 type(road_lines):  <class 'numpy.ndarray'>\n",
      "6 road_lines.shape:  (1, 1, 4)\n",
      "int32\n",
      "1 type(left_line):  <class 'numpy.ndarray'>\n",
      "1 type(right_line):  <class 'numpy.ndarray'>\n",
      "1 left_line.shape:  (0,)\n",
      "1 right_line.shape:  (1, 1, 4)\n",
      "1 left_line.ndim:  1\n",
      "1 right_line.ndim:  3\n",
      "4 right_line.shape:  (1, 1, 4)\n",
      "5 type(road_lines):  <class 'numpy.ndarray'>\n",
      "5 road_lines.shape:  (1, 1, 4)\n",
      "6 type(road_lines):  <class 'numpy.ndarray'>\n",
      "6 road_lines.shape:  (1, 1, 4)\n"
     ]
    },
    {
     "name": "stderr",
     "output_type": "stream",
     "text": [
      "\n",
      "t:  48%|████████████▊              | 105/221 [00:09<00:09, 12.18it/s, now=None]"
     ]
    },
    {
     "name": "stdout",
     "output_type": "stream",
     "text": [
      "int32\n",
      "1 type(left_line):  <class 'numpy.ndarray'>\n",
      "1 type(right_line):  <class 'numpy.ndarray'>\n",
      "1 left_line.shape:  (1, 1, 4)\n",
      "1 right_line.shape:  (1, 1, 4)\n",
      "1 left_line.ndim:  3\n",
      "1 right_line.ndim:  3\n",
      "2 left_line.shape:  (1, 1, 4)\n",
      "2 right_line.shape:  (1, 1, 4)\n",
      "2 type(road_lines):  <class 'numpy.ndarray'>\n",
      "6 type(road_lines):  <class 'numpy.ndarray'>\n",
      "6 road_lines.shape:  (1, 2, 4)\n",
      "int32\n",
      "1 type(left_line):  <class 'numpy.ndarray'>\n",
      "1 type(right_line):  <class 'numpy.ndarray'>\n",
      "1 left_line.shape:  (1, 1, 4)\n",
      "1 right_line.shape:  (1, 1, 4)\n",
      "1 left_line.ndim:  3\n",
      "1 right_line.ndim:  3\n",
      "2 left_line.shape:  (1, 1, 4)\n",
      "2 right_line.shape:  (1, 1, 4)\n",
      "2 type(road_lines):  <class 'numpy.ndarray'>\n",
      "6 type(road_lines):  <class 'numpy.ndarray'>\n",
      "6 road_lines.shape:  (1, 2, 4)\n"
     ]
    },
    {
     "name": "stderr",
     "output_type": "stream",
     "text": [
      "\n",
      "t:  48%|█████████████              | 107/221 [00:10<00:09, 11.67it/s, now=None]"
     ]
    },
    {
     "name": "stdout",
     "output_type": "stream",
     "text": [
      "int32\n",
      "1 type(left_line):  <class 'numpy.ndarray'>\n",
      "1 type(right_line):  <class 'numpy.ndarray'>\n",
      "1 left_line.shape:  (1, 1, 4)\n",
      "1 right_line.shape:  (1, 1, 4)\n",
      "1 left_line.ndim:  3\n",
      "1 right_line.ndim:  3\n",
      "2 left_line.shape:  (1, 1, 4)\n",
      "2 right_line.shape:  (1, 1, 4)\n",
      "2 type(road_lines):  <class 'numpy.ndarray'>\n",
      "6 type(road_lines):  <class 'numpy.ndarray'>\n",
      "6 road_lines.shape:  (1, 2, 4)\n",
      "int32\n",
      "1 type(left_line):  <class 'numpy.ndarray'>\n",
      "1 type(right_line):  <class 'numpy.ndarray'>\n",
      "1 left_line.shape:  (1, 1, 4)\n",
      "1 right_line.shape:  (1, 1, 4)\n",
      "1 left_line.ndim:  3\n",
      "1 right_line.ndim:  3\n",
      "2 left_line.shape:  (1, 1, 4)\n",
      "2 right_line.shape:  (1, 1, 4)\n",
      "2 type(road_lines):  <class 'numpy.ndarray'>\n",
      "6 type(road_lines):  <class 'numpy.ndarray'>\n",
      "6 road_lines.shape:  (1, 2, 4)\n"
     ]
    },
    {
     "name": "stderr",
     "output_type": "stream",
     "text": [
      "\n",
      "t:  49%|█████████████▎             | 109/221 [00:10<00:09, 11.87it/s, now=None]"
     ]
    },
    {
     "name": "stdout",
     "output_type": "stream",
     "text": [
      "int32\n",
      "1 type(left_line):  <class 'numpy.ndarray'>\n",
      "1 type(right_line):  <class 'numpy.ndarray'>\n",
      "1 left_line.shape:  (1, 1, 4)\n",
      "1 right_line.shape:  (1, 1, 4)\n",
      "1 left_line.ndim:  3\n",
      "1 right_line.ndim:  3\n",
      "2 left_line.shape:  (1, 1, 4)\n",
      "2 right_line.shape:  (1, 1, 4)\n",
      "2 type(road_lines):  <class 'numpy.ndarray'>\n",
      "6 type(road_lines):  <class 'numpy.ndarray'>\n",
      "6 road_lines.shape:  (1, 2, 4)\n",
      "int32\n",
      "1 type(left_line):  <class 'numpy.ndarray'>\n",
      "1 type(right_line):  <class 'numpy.ndarray'>\n",
      "1 left_line.shape:  (1, 1, 4)\n",
      "1 right_line.shape:  (1, 1, 4)\n",
      "1 left_line.ndim:  3\n",
      "1 right_line.ndim:  3\n",
      "2 left_line.shape:  (1, 1, 4)\n",
      "2 right_line.shape:  (1, 1, 4)\n",
      "2 type(road_lines):  <class 'numpy.ndarray'>\n",
      "6 type(road_lines):  <class 'numpy.ndarray'>\n",
      "6 road_lines.shape:  (1, 2, 4)\n"
     ]
    },
    {
     "name": "stderr",
     "output_type": "stream",
     "text": [
      "\n",
      "t:  50%|█████████████▌             | 111/221 [00:10<00:09, 11.86it/s, now=None]"
     ]
    },
    {
     "name": "stdout",
     "output_type": "stream",
     "text": [
      "int32\n",
      "1 type(left_line):  <class 'numpy.ndarray'>\n",
      "1 type(right_line):  <class 'numpy.ndarray'>\n",
      "1 left_line.shape:  (1, 1, 4)\n",
      "1 right_line.shape:  (1, 1, 4)\n",
      "1 left_line.ndim:  3\n",
      "1 right_line.ndim:  3\n",
      "2 left_line.shape:  (1, 1, 4)\n",
      "2 right_line.shape:  (1, 1, 4)\n",
      "2 type(road_lines):  <class 'numpy.ndarray'>\n",
      "6 type(road_lines):  <class 'numpy.ndarray'>\n",
      "6 road_lines.shape:  (1, 2, 4)\n",
      "int32\n",
      "1 type(left_line):  <class 'numpy.ndarray'>\n",
      "1 type(right_line):  <class 'numpy.ndarray'>\n",
      "1 left_line.shape:  (1, 1, 4)\n",
      "1 right_line.shape:  (1, 1, 4)\n",
      "1 left_line.ndim:  3\n",
      "1 right_line.ndim:  3\n",
      "2 left_line.shape:  (1, 1, 4)\n",
      "2 right_line.shape:  (1, 1, 4)\n",
      "2 type(road_lines):  <class 'numpy.ndarray'>\n",
      "6 type(road_lines):  <class 'numpy.ndarray'>\n",
      "6 road_lines.shape:  (1, 2, 4)\n"
     ]
    },
    {
     "name": "stderr",
     "output_type": "stream",
     "text": [
      "\n",
      "t:  51%|█████████████▊             | 113/221 [00:10<00:09, 11.71it/s, now=None]"
     ]
    },
    {
     "name": "stdout",
     "output_type": "stream",
     "text": [
      "int32\n",
      "1 type(left_line):  <class 'numpy.ndarray'>\n",
      "1 type(right_line):  <class 'numpy.ndarray'>\n",
      "1 left_line.shape:  (1, 1, 4)\n",
      "1 right_line.shape:  (1, 1, 4)\n",
      "1 left_line.ndim:  3\n",
      "1 right_line.ndim:  3\n",
      "2 left_line.shape:  (1, 1, 4)\n",
      "2 right_line.shape:  (1, 1, 4)\n",
      "2 type(road_lines):  <class 'numpy.ndarray'>\n",
      "6 type(road_lines):  <class 'numpy.ndarray'>\n",
      "6 road_lines.shape:  (1, 2, 4)\n",
      "int32\n",
      "1 type(left_line):  <class 'numpy.ndarray'>\n",
      "1 type(right_line):  <class 'numpy.ndarray'>\n",
      "1 left_line.shape:  (1, 1, 4)\n",
      "1 right_line.shape:  (1, 1, 4)\n",
      "1 left_line.ndim:  3\n",
      "1 right_line.ndim:  3\n",
      "2 left_line.shape:  (1, 1, 4)\n",
      "2 right_line.shape:  (1, 1, 4)\n",
      "2 type(road_lines):  <class 'numpy.ndarray'>\n",
      "6 type(road_lines):  <class 'numpy.ndarray'>\n",
      "6 road_lines.shape:  (1, 2, 4)\n"
     ]
    },
    {
     "name": "stderr",
     "output_type": "stream",
     "text": [
      "\n",
      "t:  52%|██████████████             | 115/221 [00:10<00:09, 11.40it/s, now=None]"
     ]
    },
    {
     "name": "stdout",
     "output_type": "stream",
     "text": [
      "int32\n",
      "1 type(left_line):  <class 'numpy.ndarray'>\n",
      "1 type(right_line):  <class 'numpy.ndarray'>\n",
      "1 left_line.shape:  (0,)\n",
      "1 right_line.shape:  (1, 1, 4)\n",
      "1 left_line.ndim:  1\n",
      "1 right_line.ndim:  3\n",
      "4 right_line.shape:  (1, 1, 4)\n",
      "5 type(road_lines):  <class 'numpy.ndarray'>\n",
      "5 road_lines.shape:  (1, 1, 4)\n",
      "6 type(road_lines):  <class 'numpy.ndarray'>\n",
      "6 road_lines.shape:  (1, 1, 4)\n",
      "int32\n",
      "1 type(left_line):  <class 'numpy.ndarray'>\n",
      "1 type(right_line):  <class 'numpy.ndarray'>\n",
      "1 left_line.shape:  (0,)\n",
      "1 right_line.shape:  (1, 1, 4)\n",
      "1 left_line.ndim:  1\n",
      "1 right_line.ndim:  3\n",
      "4 right_line.shape:  (1, 1, 4)\n",
      "5 type(road_lines):  <class 'numpy.ndarray'>\n",
      "5 road_lines.shape:  (1, 1, 4)\n",
      "6 type(road_lines):  <class 'numpy.ndarray'>\n",
      "6 road_lines.shape:  (1, 1, 4)\n"
     ]
    },
    {
     "name": "stderr",
     "output_type": "stream",
     "text": [
      "\n",
      "t:  53%|██████████████▎            | 117/221 [00:10<00:09, 10.77it/s, now=None]"
     ]
    },
    {
     "name": "stdout",
     "output_type": "stream",
     "text": [
      "int32\n",
      "1 type(left_line):  <class 'numpy.ndarray'>\n",
      "1 type(right_line):  <class 'numpy.ndarray'>\n",
      "1 left_line.shape:  (1, 1, 4)\n",
      "1 right_line.shape:  (1, 1, 4)\n",
      "1 left_line.ndim:  3\n",
      "1 right_line.ndim:  3\n",
      "2 left_line.shape:  (1, 1, 4)\n",
      "2 right_line.shape:  (1, 1, 4)\n",
      "2 type(road_lines):  <class 'numpy.ndarray'>\n",
      "6 type(road_lines):  <class 'numpy.ndarray'>\n",
      "6 road_lines.shape:  (1, 2, 4)\n",
      "int32\n",
      "1 type(left_line):  <class 'numpy.ndarray'>\n",
      "1 type(right_line):  <class 'numpy.ndarray'>\n",
      "1 left_line.shape:  (1, 1, 4)\n",
      "1 right_line.shape:  (1, 1, 4)\n",
      "1 left_line.ndim:  3\n",
      "1 right_line.ndim:  3\n",
      "2 left_line.shape:  (1, 1, 4)\n",
      "2 right_line.shape:  (1, 1, 4)\n",
      "2 type(road_lines):  <class 'numpy.ndarray'>\n",
      "6 type(road_lines):  <class 'numpy.ndarray'>\n",
      "6 road_lines.shape:  (1, 2, 4)\n"
     ]
    },
    {
     "name": "stderr",
     "output_type": "stream",
     "text": [
      "\n",
      "t:  54%|██████████████▌            | 119/221 [00:11<00:09, 10.94it/s, now=None]"
     ]
    },
    {
     "name": "stdout",
     "output_type": "stream",
     "text": [
      "int32\n",
      "1 type(left_line):  <class 'numpy.ndarray'>\n",
      "1 type(right_line):  <class 'numpy.ndarray'>\n",
      "1 left_line.shape:  (1, 1, 4)\n",
      "1 right_line.shape:  (1, 1, 4)\n",
      "1 left_line.ndim:  3\n",
      "1 right_line.ndim:  3\n",
      "2 left_line.shape:  (1, 1, 4)\n",
      "2 right_line.shape:  (1, 1, 4)\n",
      "2 type(road_lines):  <class 'numpy.ndarray'>\n",
      "6 type(road_lines):  <class 'numpy.ndarray'>\n",
      "6 road_lines.shape:  (1, 2, 4)\n",
      "int32\n",
      "1 type(left_line):  <class 'numpy.ndarray'>\n",
      "1 type(right_line):  <class 'numpy.ndarray'>\n",
      "1 left_line.shape:  (1, 1, 4)\n",
      "1 right_line.shape:  (1, 1, 4)\n",
      "1 left_line.ndim:  3\n",
      "1 right_line.ndim:  3\n",
      "2 left_line.shape:  (1, 1, 4)\n",
      "2 right_line.shape:  (1, 1, 4)\n",
      "2 type(road_lines):  <class 'numpy.ndarray'>\n",
      "6 type(road_lines):  <class 'numpy.ndarray'>\n",
      "6 road_lines.shape:  (1, 2, 4)\n"
     ]
    },
    {
     "name": "stderr",
     "output_type": "stream",
     "text": [
      "\n",
      "t:  55%|██████████████▊            | 121/221 [00:11<00:09, 10.94it/s, now=None]"
     ]
    },
    {
     "name": "stdout",
     "output_type": "stream",
     "text": [
      "int32\n",
      "1 type(left_line):  <class 'numpy.ndarray'>\n",
      "1 type(right_line):  <class 'numpy.ndarray'>\n",
      "1 left_line.shape:  (1, 1, 4)\n",
      "1 right_line.shape:  (1, 1, 4)\n",
      "1 left_line.ndim:  3\n",
      "1 right_line.ndim:  3\n",
      "2 left_line.shape:  (1, 1, 4)\n",
      "2 right_line.shape:  (1, 1, 4)\n",
      "2 type(road_lines):  <class 'numpy.ndarray'>\n",
      "6 type(road_lines):  <class 'numpy.ndarray'>\n",
      "6 road_lines.shape:  (1, 2, 4)\n",
      "int32\n",
      "1 type(left_line):  <class 'numpy.ndarray'>\n",
      "1 type(right_line):  <class 'numpy.ndarray'>\n",
      "1 left_line.shape:  (1, 1, 4)\n",
      "1 right_line.shape:  (1, 1, 4)\n",
      "1 left_line.ndim:  3\n",
      "1 right_line.ndim:  3\n",
      "2 left_line.shape:  (1, 1, 4)\n",
      "2 right_line.shape:  (1, 1, 4)\n",
      "2 type(road_lines):  <class 'numpy.ndarray'>\n",
      "6 type(road_lines):  <class 'numpy.ndarray'>\n",
      "6 road_lines.shape:  (1, 2, 4)\n"
     ]
    },
    {
     "name": "stderr",
     "output_type": "stream",
     "text": [
      "\n",
      "t:  56%|███████████████            | 123/221 [00:11<00:08, 11.68it/s, now=None]"
     ]
    },
    {
     "name": "stdout",
     "output_type": "stream",
     "text": [
      "int32\n",
      "1 type(left_line):  <class 'numpy.ndarray'>\n",
      "1 type(right_line):  <class 'numpy.ndarray'>\n",
      "1 left_line.shape:  (1, 1, 4)\n",
      "1 right_line.shape:  (1, 1, 4)\n",
      "1 left_line.ndim:  3\n",
      "1 right_line.ndim:  3\n",
      "2 left_line.shape:  (1, 1, 4)\n",
      "2 right_line.shape:  (1, 1, 4)\n",
      "2 type(road_lines):  <class 'numpy.ndarray'>\n",
      "6 type(road_lines):  <class 'numpy.ndarray'>\n",
      "6 road_lines.shape:  (1, 2, 4)\n",
      "int32\n",
      "1 type(left_line):  <class 'numpy.ndarray'>\n",
      "1 type(right_line):  <class 'numpy.ndarray'>\n",
      "1 left_line.shape:  (1, 1, 4)\n",
      "1 right_line.shape:  (1, 1, 4)\n",
      "1 left_line.ndim:  3\n",
      "1 right_line.ndim:  3\n",
      "2 left_line.shape:  (1, 1, 4)\n",
      "2 right_line.shape:  (1, 1, 4)\n",
      "2 type(road_lines):  <class 'numpy.ndarray'>\n",
      "6 type(road_lines):  <class 'numpy.ndarray'>\n",
      "6 road_lines.shape:  (1, 2, 4)\n"
     ]
    },
    {
     "name": "stderr",
     "output_type": "stream",
     "text": [
      "\n",
      "t:  57%|███████████████▎           | 125/221 [00:11<00:07, 12.00it/s, now=None]"
     ]
    },
    {
     "name": "stdout",
     "output_type": "stream",
     "text": [
      "int32\n",
      "1 type(left_line):  <class 'numpy.ndarray'>\n",
      "1 type(right_line):  <class 'numpy.ndarray'>\n",
      "1 left_line.shape:  (1, 1, 4)\n",
      "1 right_line.shape:  (1, 1, 4)\n",
      "1 left_line.ndim:  3\n",
      "1 right_line.ndim:  3\n",
      "2 left_line.shape:  (1, 1, 4)\n",
      "2 right_line.shape:  (1, 1, 4)\n",
      "2 type(road_lines):  <class 'numpy.ndarray'>\n",
      "6 type(road_lines):  <class 'numpy.ndarray'>\n",
      "6 road_lines.shape:  (1, 2, 4)\n",
      "int32\n",
      "1 type(left_line):  <class 'numpy.ndarray'>\n",
      "1 type(right_line):  <class 'numpy.ndarray'>\n",
      "1 left_line.shape:  (1, 1, 4)\n",
      "1 right_line.shape:  (1, 1, 4)\n",
      "1 left_line.ndim:  3\n",
      "1 right_line.ndim:  3\n",
      "2 left_line.shape:  (1, 1, 4)\n",
      "2 right_line.shape:  (1, 1, 4)\n",
      "2 type(road_lines):  <class 'numpy.ndarray'>\n",
      "6 type(road_lines):  <class 'numpy.ndarray'>\n",
      "6 road_lines.shape:  (1, 2, 4)\n"
     ]
    },
    {
     "name": "stderr",
     "output_type": "stream",
     "text": [
      "\n",
      "t:  57%|███████████████▌           | 127/221 [00:11<00:07, 12.22it/s, now=None]"
     ]
    },
    {
     "name": "stdout",
     "output_type": "stream",
     "text": [
      "int32\n",
      "1 type(left_line):  <class 'numpy.ndarray'>\n",
      "1 type(right_line):  <class 'numpy.ndarray'>\n",
      "1 left_line.shape:  (1, 1, 4)\n",
      "1 right_line.shape:  (1, 1, 4)\n",
      "1 left_line.ndim:  3\n",
      "1 right_line.ndim:  3\n",
      "2 left_line.shape:  (1, 1, 4)\n",
      "2 right_line.shape:  (1, 1, 4)\n",
      "2 type(road_lines):  <class 'numpy.ndarray'>\n",
      "6 type(road_lines):  <class 'numpy.ndarray'>\n",
      "6 road_lines.shape:  (1, 2, 4)\n",
      "int32\n",
      "1 type(left_line):  <class 'numpy.ndarray'>\n",
      "1 type(right_line):  <class 'numpy.ndarray'>\n",
      "1 left_line.shape:  (0,)\n",
      "1 right_line.shape:  (1, 1, 4)\n",
      "1 left_line.ndim:  1\n",
      "1 right_line.ndim:  3\n",
      "4 right_line.shape:  (1, 1, 4)\n",
      "5 type(road_lines):  <class 'numpy.ndarray'>\n",
      "5 road_lines.shape:  (1, 1, 4)\n",
      "6 type(road_lines):  <class 'numpy.ndarray'>\n",
      "6 road_lines.shape:  (1, 1, 4)\n"
     ]
    },
    {
     "name": "stderr",
     "output_type": "stream",
     "text": [
      "\n",
      "t:  58%|███████████████▊           | 129/221 [00:11<00:07, 12.14it/s, now=None]"
     ]
    },
    {
     "name": "stdout",
     "output_type": "stream",
     "text": [
      "int32\n",
      "1 type(left_line):  <class 'numpy.ndarray'>\n",
      "1 type(right_line):  <class 'numpy.ndarray'>\n",
      "1 left_line.shape:  (1, 1, 4)\n",
      "1 right_line.shape:  (1, 1, 4)\n",
      "1 left_line.ndim:  3\n",
      "1 right_line.ndim:  3\n",
      "2 left_line.shape:  (1, 1, 4)\n",
      "2 right_line.shape:  (1, 1, 4)\n",
      "2 type(road_lines):  <class 'numpy.ndarray'>\n",
      "6 type(road_lines):  <class 'numpy.ndarray'>\n",
      "6 road_lines.shape:  (1, 2, 4)\n",
      "int32\n",
      "1 type(left_line):  <class 'numpy.ndarray'>\n",
      "1 type(right_line):  <class 'numpy.ndarray'>\n",
      "1 left_line.shape:  (1, 1, 4)\n",
      "1 right_line.shape:  (1, 1, 4)\n",
      "1 left_line.ndim:  3\n",
      "1 right_line.ndim:  3\n",
      "2 left_line.shape:  (1, 1, 4)\n",
      "2 right_line.shape:  (1, 1, 4)\n",
      "2 type(road_lines):  <class 'numpy.ndarray'>\n",
      "6 type(road_lines):  <class 'numpy.ndarray'>\n",
      "6 road_lines.shape:  (1, 2, 4)\n"
     ]
    },
    {
     "name": "stderr",
     "output_type": "stream",
     "text": [
      "\n",
      "t:  59%|████████████████           | 131/221 [00:12<00:07, 11.33it/s, now=None]"
     ]
    },
    {
     "name": "stdout",
     "output_type": "stream",
     "text": [
      "int32\n",
      "1 type(left_line):  <class 'numpy.ndarray'>\n",
      "1 type(right_line):  <class 'numpy.ndarray'>\n",
      "1 left_line.shape:  (1, 1, 4)\n",
      "1 right_line.shape:  (1, 1, 4)\n",
      "1 left_line.ndim:  3\n",
      "1 right_line.ndim:  3\n",
      "2 left_line.shape:  (1, 1, 4)\n",
      "2 right_line.shape:  (1, 1, 4)\n",
      "2 type(road_lines):  <class 'numpy.ndarray'>\n",
      "6 type(road_lines):  <class 'numpy.ndarray'>\n",
      "6 road_lines.shape:  (1, 2, 4)\n",
      "int32\n",
      "1 type(left_line):  <class 'numpy.ndarray'>\n",
      "1 type(right_line):  <class 'numpy.ndarray'>\n",
      "1 left_line.shape:  (1, 1, 4)\n",
      "1 right_line.shape:  (1, 1, 4)\n",
      "1 left_line.ndim:  3\n",
      "1 right_line.ndim:  3\n",
      "2 left_line.shape:  (1, 1, 4)\n",
      "2 right_line.shape:  (1, 1, 4)\n",
      "2 type(road_lines):  <class 'numpy.ndarray'>\n",
      "6 type(road_lines):  <class 'numpy.ndarray'>\n",
      "6 road_lines.shape:  (1, 2, 4)\n"
     ]
    },
    {
     "name": "stderr",
     "output_type": "stream",
     "text": [
      "\n",
      "t:  60%|████████████████▏          | 133/221 [00:12<00:07, 11.17it/s, now=None]"
     ]
    },
    {
     "name": "stdout",
     "output_type": "stream",
     "text": [
      "int32\n",
      "1 type(left_line):  <class 'numpy.ndarray'>\n",
      "1 type(right_line):  <class 'numpy.ndarray'>\n",
      "1 left_line.shape:  (1, 1, 4)\n",
      "1 right_line.shape:  (1, 1, 4)\n",
      "1 left_line.ndim:  3\n",
      "1 right_line.ndim:  3\n",
      "2 left_line.shape:  (1, 1, 4)\n",
      "2 right_line.shape:  (1, 1, 4)\n",
      "2 type(road_lines):  <class 'numpy.ndarray'>\n",
      "6 type(road_lines):  <class 'numpy.ndarray'>\n",
      "6 road_lines.shape:  (1, 2, 4)\n",
      "int32\n",
      "1 type(left_line):  <class 'numpy.ndarray'>\n",
      "1 type(right_line):  <class 'numpy.ndarray'>\n",
      "1 left_line.shape:  (1, 1, 4)\n",
      "1 right_line.shape:  (1, 1, 4)\n",
      "1 left_line.ndim:  3\n",
      "1 right_line.ndim:  3\n",
      "2 left_line.shape:  (1, 1, 4)\n",
      "2 right_line.shape:  (1, 1, 4)\n",
      "2 type(road_lines):  <class 'numpy.ndarray'>\n",
      "6 type(road_lines):  <class 'numpy.ndarray'>\n",
      "6 road_lines.shape:  (1, 2, 4)\n"
     ]
    },
    {
     "name": "stderr",
     "output_type": "stream",
     "text": [
      "\n",
      "t:  61%|████████████████▍          | 135/221 [00:12<00:07, 11.19it/s, now=None]"
     ]
    },
    {
     "name": "stdout",
     "output_type": "stream",
     "text": [
      "int32\n",
      "1 type(left_line):  <class 'numpy.ndarray'>\n",
      "1 type(right_line):  <class 'numpy.ndarray'>\n",
      "1 left_line.shape:  (1, 1, 4)\n",
      "1 right_line.shape:  (1, 1, 4)\n",
      "1 left_line.ndim:  3\n",
      "1 right_line.ndim:  3\n",
      "2 left_line.shape:  (1, 1, 4)\n",
      "2 right_line.shape:  (1, 1, 4)\n",
      "2 type(road_lines):  <class 'numpy.ndarray'>\n",
      "6 type(road_lines):  <class 'numpy.ndarray'>\n",
      "6 road_lines.shape:  (1, 2, 4)\n",
      "int32\n",
      "1 type(left_line):  <class 'numpy.ndarray'>\n",
      "1 type(right_line):  <class 'numpy.ndarray'>\n",
      "1 left_line.shape:  (1, 1, 4)\n",
      "1 right_line.shape:  (1, 1, 4)\n",
      "1 left_line.ndim:  3\n",
      "1 right_line.ndim:  3\n",
      "2 left_line.shape:  (1, 1, 4)\n",
      "2 right_line.shape:  (1, 1, 4)\n",
      "2 type(road_lines):  <class 'numpy.ndarray'>\n",
      "6 type(road_lines):  <class 'numpy.ndarray'>\n",
      "6 road_lines.shape:  (1, 2, 4)\n"
     ]
    },
    {
     "name": "stderr",
     "output_type": "stream",
     "text": [
      "\n",
      "t:  62%|████████████████▋          | 137/221 [00:12<00:07, 11.72it/s, now=None]"
     ]
    },
    {
     "name": "stdout",
     "output_type": "stream",
     "text": [
      "int32\n",
      "1 type(left_line):  <class 'numpy.ndarray'>\n",
      "1 type(right_line):  <class 'numpy.ndarray'>\n",
      "1 left_line.shape:  (1, 1, 4)\n",
      "1 right_line.shape:  (1, 1, 4)\n",
      "1 left_line.ndim:  3\n",
      "1 right_line.ndim:  3\n",
      "2 left_line.shape:  (1, 1, 4)\n",
      "2 right_line.shape:  (1, 1, 4)\n",
      "2 type(road_lines):  <class 'numpy.ndarray'>\n",
      "6 type(road_lines):  <class 'numpy.ndarray'>\n",
      "6 road_lines.shape:  (1, 2, 4)\n",
      "int32\n",
      "1 type(left_line):  <class 'numpy.ndarray'>\n",
      "1 type(right_line):  <class 'numpy.ndarray'>\n",
      "1 left_line.shape:  (1, 1, 4)\n",
      "1 right_line.shape:  (1, 1, 4)\n",
      "1 left_line.ndim:  3\n",
      "1 right_line.ndim:  3\n",
      "2 left_line.shape:  (1, 1, 4)\n",
      "2 right_line.shape:  (1, 1, 4)\n",
      "2 type(road_lines):  <class 'numpy.ndarray'>\n",
      "6 type(road_lines):  <class 'numpy.ndarray'>\n",
      "6 road_lines.shape:  (1, 2, 4)\n"
     ]
    },
    {
     "name": "stderr",
     "output_type": "stream",
     "text": [
      "\n",
      "t:  63%|████████████████▉          | 139/221 [00:12<00:06, 11.86it/s, now=None]"
     ]
    },
    {
     "name": "stdout",
     "output_type": "stream",
     "text": [
      "int32\n",
      "1 type(left_line):  <class 'numpy.ndarray'>\n",
      "1 type(right_line):  <class 'numpy.ndarray'>\n",
      "1 left_line.shape:  (1, 1, 4)\n",
      "1 right_line.shape:  (1, 1, 4)\n",
      "1 left_line.ndim:  3\n",
      "1 right_line.ndim:  3\n",
      "2 left_line.shape:  (1, 1, 4)\n",
      "2 right_line.shape:  (1, 1, 4)\n",
      "2 type(road_lines):  <class 'numpy.ndarray'>\n",
      "6 type(road_lines):  <class 'numpy.ndarray'>\n",
      "6 road_lines.shape:  (1, 2, 4)\n",
      "int32\n",
      "1 type(left_line):  <class 'numpy.ndarray'>\n",
      "1 type(right_line):  <class 'numpy.ndarray'>\n",
      "1 left_line.shape:  (0,)\n",
      "1 right_line.shape:  (1, 1, 4)\n",
      "1 left_line.ndim:  1\n",
      "1 right_line.ndim:  3\n",
      "4 right_line.shape:  (1, 1, 4)\n",
      "5 type(road_lines):  <class 'numpy.ndarray'>\n",
      "5 road_lines.shape:  (1, 1, 4)\n",
      "6 type(road_lines):  <class 'numpy.ndarray'>\n",
      "6 road_lines.shape:  (1, 1, 4)\n"
     ]
    },
    {
     "name": "stderr",
     "output_type": "stream",
     "text": [
      "\n",
      "t:  64%|█████████████████▏         | 141/221 [00:12<00:06, 11.92it/s, now=None]"
     ]
    },
    {
     "name": "stdout",
     "output_type": "stream",
     "text": [
      "int32\n",
      "1 type(left_line):  <class 'numpy.ndarray'>\n",
      "1 type(right_line):  <class 'numpy.ndarray'>\n",
      "1 left_line.shape:  (1, 1, 4)\n",
      "1 right_line.shape:  (1, 1, 4)\n",
      "1 left_line.ndim:  3\n",
      "1 right_line.ndim:  3\n",
      "2 left_line.shape:  (1, 1, 4)\n",
      "2 right_line.shape:  (1, 1, 4)\n",
      "2 type(road_lines):  <class 'numpy.ndarray'>\n",
      "6 type(road_lines):  <class 'numpy.ndarray'>\n",
      "6 road_lines.shape:  (1, 2, 4)\n",
      "int32\n",
      "1 type(left_line):  <class 'numpy.ndarray'>\n",
      "1 type(right_line):  <class 'numpy.ndarray'>\n",
      "1 left_line.shape:  (1, 1, 4)\n",
      "1 right_line.shape:  (1, 1, 4)\n",
      "1 left_line.ndim:  3\n",
      "1 right_line.ndim:  3\n",
      "2 left_line.shape:  (1, 1, 4)\n",
      "2 right_line.shape:  (1, 1, 4)\n",
      "2 type(road_lines):  <class 'numpy.ndarray'>\n",
      "6 type(road_lines):  <class 'numpy.ndarray'>\n",
      "6 road_lines.shape:  (1, 2, 4)\n"
     ]
    },
    {
     "name": "stderr",
     "output_type": "stream",
     "text": [
      "\n",
      "t:  65%|█████████████████▍         | 143/221 [00:13<00:06, 11.83it/s, now=None]"
     ]
    },
    {
     "name": "stdout",
     "output_type": "stream",
     "text": [
      "int32\n",
      "1 type(left_line):  <class 'numpy.ndarray'>\n",
      "1 type(right_line):  <class 'numpy.ndarray'>\n",
      "1 left_line.shape:  (1, 1, 4)\n",
      "1 right_line.shape:  (1, 1, 4)\n",
      "1 left_line.ndim:  3\n",
      "1 right_line.ndim:  3\n",
      "2 left_line.shape:  (1, 1, 4)\n",
      "2 right_line.shape:  (1, 1, 4)\n",
      "2 type(road_lines):  <class 'numpy.ndarray'>\n",
      "6 type(road_lines):  <class 'numpy.ndarray'>\n",
      "6 road_lines.shape:  (1, 2, 4)\n",
      "int32\n",
      "1 type(left_line):  <class 'numpy.ndarray'>\n",
      "1 type(right_line):  <class 'numpy.ndarray'>\n",
      "1 left_line.shape:  (1, 1, 4)\n",
      "1 right_line.shape:  (1, 1, 4)\n",
      "1 left_line.ndim:  3\n",
      "1 right_line.ndim:  3\n",
      "2 left_line.shape:  (1, 1, 4)\n",
      "2 right_line.shape:  (1, 1, 4)\n",
      "2 type(road_lines):  <class 'numpy.ndarray'>\n",
      "6 type(road_lines):  <class 'numpy.ndarray'>\n",
      "6 road_lines.shape:  (1, 2, 4)\n"
     ]
    },
    {
     "name": "stderr",
     "output_type": "stream",
     "text": [
      "\n",
      "t:  66%|█████████████████▋         | 145/221 [00:13<00:06, 11.67it/s, now=None]"
     ]
    },
    {
     "name": "stdout",
     "output_type": "stream",
     "text": [
      "int32\n",
      "1 type(left_line):  <class 'numpy.ndarray'>\n",
      "1 type(right_line):  <class 'numpy.ndarray'>\n",
      "1 left_line.shape:  (1, 1, 4)\n",
      "1 right_line.shape:  (1, 1, 4)\n",
      "1 left_line.ndim:  3\n",
      "1 right_line.ndim:  3\n",
      "2 left_line.shape:  (1, 1, 4)\n",
      "2 right_line.shape:  (1, 1, 4)\n",
      "2 type(road_lines):  <class 'numpy.ndarray'>\n",
      "6 type(road_lines):  <class 'numpy.ndarray'>\n",
      "6 road_lines.shape:  (1, 2, 4)\n",
      "int32\n",
      "1 type(left_line):  <class 'numpy.ndarray'>\n",
      "1 type(right_line):  <class 'numpy.ndarray'>\n",
      "1 left_line.shape:  (1, 1, 4)\n",
      "1 right_line.shape:  (1, 1, 4)\n",
      "1 left_line.ndim:  3\n",
      "1 right_line.ndim:  3\n",
      "2 left_line.shape:  (1, 1, 4)\n",
      "2 right_line.shape:  (1, 1, 4)\n",
      "2 type(road_lines):  <class 'numpy.ndarray'>\n",
      "6 type(road_lines):  <class 'numpy.ndarray'>\n",
      "6 road_lines.shape:  (1, 2, 4)\n"
     ]
    },
    {
     "name": "stderr",
     "output_type": "stream",
     "text": [
      "\n",
      "t:  67%|█████████████████▉         | 147/221 [00:13<00:06, 11.02it/s, now=None]"
     ]
    },
    {
     "name": "stdout",
     "output_type": "stream",
     "text": [
      "int32\n",
      "1 type(left_line):  <class 'numpy.ndarray'>\n",
      "1 type(right_line):  <class 'numpy.ndarray'>\n",
      "1 left_line.shape:  (1, 1, 4)\n",
      "1 right_line.shape:  (1, 1, 4)\n",
      "1 left_line.ndim:  3\n",
      "1 right_line.ndim:  3\n",
      "2 left_line.shape:  (1, 1, 4)\n",
      "2 right_line.shape:  (1, 1, 4)\n",
      "2 type(road_lines):  <class 'numpy.ndarray'>\n",
      "6 type(road_lines):  <class 'numpy.ndarray'>\n",
      "6 road_lines.shape:  (1, 2, 4)\n",
      "int32\n",
      "1 type(left_line):  <class 'numpy.ndarray'>\n",
      "1 type(right_line):  <class 'numpy.ndarray'>\n",
      "1 left_line.shape:  (1, 1, 4)\n",
      "1 right_line.shape:  (1, 1, 4)\n",
      "1 left_line.ndim:  3\n",
      "1 right_line.ndim:  3\n",
      "2 left_line.shape:  (1, 1, 4)\n",
      "2 right_line.shape:  (1, 1, 4)\n",
      "2 type(road_lines):  <class 'numpy.ndarray'>\n",
      "6 type(road_lines):  <class 'numpy.ndarray'>\n",
      "6 road_lines.shape:  (1, 2, 4)\n"
     ]
    },
    {
     "name": "stderr",
     "output_type": "stream",
     "text": [
      "\n",
      "t:  67%|██████████████████▏        | 149/221 [00:13<00:06, 10.82it/s, now=None]"
     ]
    },
    {
     "name": "stdout",
     "output_type": "stream",
     "text": [
      "int32\n",
      "1 type(left_line):  <class 'numpy.ndarray'>\n",
      "1 type(right_line):  <class 'numpy.ndarray'>\n",
      "1 left_line.shape:  (1, 1, 4)\n",
      "1 right_line.shape:  (1, 1, 4)\n",
      "1 left_line.ndim:  3\n",
      "1 right_line.ndim:  3\n",
      "2 left_line.shape:  (1, 1, 4)\n",
      "2 right_line.shape:  (1, 1, 4)\n",
      "2 type(road_lines):  <class 'numpy.ndarray'>\n",
      "6 type(road_lines):  <class 'numpy.ndarray'>\n",
      "6 road_lines.shape:  (1, 2, 4)\n",
      "int32\n",
      "1 type(left_line):  <class 'numpy.ndarray'>\n",
      "1 type(right_line):  <class 'numpy.ndarray'>\n",
      "1 left_line.shape:  (1, 1, 4)\n",
      "1 right_line.shape:  (1, 1, 4)\n",
      "1 left_line.ndim:  3\n",
      "1 right_line.ndim:  3\n",
      "2 left_line.shape:  (1, 1, 4)\n",
      "2 right_line.shape:  (1, 1, 4)\n",
      "2 type(road_lines):  <class 'numpy.ndarray'>\n",
      "6 type(road_lines):  <class 'numpy.ndarray'>\n",
      "6 road_lines.shape:  (1, 2, 4)\n"
     ]
    },
    {
     "name": "stderr",
     "output_type": "stream",
     "text": [
      "\n",
      "t:  68%|██████████████████▍        | 151/221 [00:13<00:06, 10.87it/s, now=None]"
     ]
    },
    {
     "name": "stdout",
     "output_type": "stream",
     "text": [
      "int32\n",
      "1 type(left_line):  <class 'numpy.ndarray'>\n",
      "1 type(right_line):  <class 'numpy.ndarray'>\n",
      "1 left_line.shape:  (0,)\n",
      "1 right_line.shape:  (1, 1, 4)\n",
      "1 left_line.ndim:  1\n",
      "1 right_line.ndim:  3\n",
      "4 right_line.shape:  (1, 1, 4)\n",
      "5 type(road_lines):  <class 'numpy.ndarray'>\n",
      "5 road_lines.shape:  (1, 1, 4)\n",
      "6 type(road_lines):  <class 'numpy.ndarray'>\n",
      "6 road_lines.shape:  (1, 1, 4)\n",
      "int32\n",
      "1 type(left_line):  <class 'numpy.ndarray'>\n",
      "1 type(right_line):  <class 'numpy.ndarray'>\n",
      "1 left_line.shape:  (1, 1, 4)\n",
      "1 right_line.shape:  (1, 1, 4)\n",
      "1 left_line.ndim:  3\n",
      "1 right_line.ndim:  3\n",
      "2 left_line.shape:  (1, 1, 4)\n",
      "2 right_line.shape:  (1, 1, 4)\n",
      "2 type(road_lines):  <class 'numpy.ndarray'>\n",
      "6 type(road_lines):  <class 'numpy.ndarray'>\n",
      "6 road_lines.shape:  (1, 2, 4)\n"
     ]
    },
    {
     "name": "stderr",
     "output_type": "stream",
     "text": [
      "\n",
      "t:  69%|██████████████████▋        | 153/221 [00:14<00:06, 11.22it/s, now=None]"
     ]
    },
    {
     "name": "stdout",
     "output_type": "stream",
     "text": [
      "int32\n",
      "1 type(left_line):  <class 'numpy.ndarray'>\n",
      "1 type(right_line):  <class 'numpy.ndarray'>\n",
      "1 left_line.shape:  (1, 1, 4)\n",
      "1 right_line.shape:  (1, 1, 4)\n",
      "1 left_line.ndim:  3\n",
      "1 right_line.ndim:  3\n",
      "2 left_line.shape:  (1, 1, 4)\n",
      "2 right_line.shape:  (1, 1, 4)\n",
      "2 type(road_lines):  <class 'numpy.ndarray'>\n",
      "6 type(road_lines):  <class 'numpy.ndarray'>\n",
      "6 road_lines.shape:  (1, 2, 4)\n",
      "int32\n",
      "1 type(left_line):  <class 'numpy.ndarray'>\n",
      "1 type(right_line):  <class 'numpy.ndarray'>\n",
      "1 left_line.shape:  (1, 1, 4)\n",
      "1 right_line.shape:  (1, 1, 4)\n",
      "1 left_line.ndim:  3\n",
      "1 right_line.ndim:  3\n",
      "2 left_line.shape:  (1, 1, 4)\n",
      "2 right_line.shape:  (1, 1, 4)\n",
      "2 type(road_lines):  <class 'numpy.ndarray'>\n",
      "6 type(road_lines):  <class 'numpy.ndarray'>\n",
      "6 road_lines.shape:  (1, 2, 4)\n"
     ]
    },
    {
     "name": "stderr",
     "output_type": "stream",
     "text": [
      "\n",
      "t:  70%|██████████████████▉        | 155/221 [00:14<00:05, 11.49it/s, now=None]"
     ]
    },
    {
     "name": "stdout",
     "output_type": "stream",
     "text": [
      "int32\n",
      "1 type(left_line):  <class 'numpy.ndarray'>\n",
      "1 type(right_line):  <class 'numpy.ndarray'>\n",
      "1 left_line.shape:  (1, 1, 4)\n",
      "1 right_line.shape:  (1, 1, 4)\n",
      "1 left_line.ndim:  3\n",
      "1 right_line.ndim:  3\n",
      "2 left_line.shape:  (1, 1, 4)\n",
      "2 right_line.shape:  (1, 1, 4)\n",
      "2 type(road_lines):  <class 'numpy.ndarray'>\n",
      "6 type(road_lines):  <class 'numpy.ndarray'>\n",
      "6 road_lines.shape:  (1, 2, 4)\n",
      "int32\n",
      "1 type(left_line):  <class 'numpy.ndarray'>\n",
      "1 type(right_line):  <class 'numpy.ndarray'>\n",
      "1 left_line.shape:  (1, 1, 4)\n",
      "1 right_line.shape:  (1, 1, 4)\n",
      "1 left_line.ndim:  3\n",
      "1 right_line.ndim:  3\n",
      "2 left_line.shape:  (1, 1, 4)\n",
      "2 right_line.shape:  (1, 1, 4)\n",
      "2 type(road_lines):  <class 'numpy.ndarray'>\n",
      "6 type(road_lines):  <class 'numpy.ndarray'>\n",
      "6 road_lines.shape:  (1, 2, 4)\n"
     ]
    },
    {
     "name": "stderr",
     "output_type": "stream",
     "text": [
      "\n",
      "t:  71%|███████████████████▏       | 157/221 [00:14<00:05, 11.72it/s, now=None]"
     ]
    },
    {
     "name": "stdout",
     "output_type": "stream",
     "text": [
      "int32\n",
      "1 type(left_line):  <class 'numpy.ndarray'>\n",
      "1 type(right_line):  <class 'numpy.ndarray'>\n",
      "1 left_line.shape:  (1, 1, 4)\n",
      "1 right_line.shape:  (1, 1, 4)\n",
      "1 left_line.ndim:  3\n",
      "1 right_line.ndim:  3\n",
      "2 left_line.shape:  (1, 1, 4)\n",
      "2 right_line.shape:  (1, 1, 4)\n",
      "2 type(road_lines):  <class 'numpy.ndarray'>\n",
      "6 type(road_lines):  <class 'numpy.ndarray'>\n",
      "6 road_lines.shape:  (1, 2, 4)\n",
      "int32\n",
      "1 type(left_line):  <class 'numpy.ndarray'>\n",
      "1 type(right_line):  <class 'numpy.ndarray'>\n",
      "1 left_line.shape:  (1, 1, 4)\n",
      "1 right_line.shape:  (1, 1, 4)\n",
      "1 left_line.ndim:  3\n",
      "1 right_line.ndim:  3\n",
      "2 left_line.shape:  (1, 1, 4)\n",
      "2 right_line.shape:  (1, 1, 4)\n",
      "2 type(road_lines):  <class 'numpy.ndarray'>\n",
      "6 type(road_lines):  <class 'numpy.ndarray'>\n",
      "6 road_lines.shape:  (1, 2, 4)\n"
     ]
    },
    {
     "name": "stderr",
     "output_type": "stream",
     "text": [
      "\n",
      "t:  72%|███████████████████▍       | 159/221 [00:14<00:05, 11.33it/s, now=None]"
     ]
    },
    {
     "name": "stdout",
     "output_type": "stream",
     "text": [
      "int32\n",
      "1 type(left_line):  <class 'numpy.ndarray'>\n",
      "1 type(right_line):  <class 'numpy.ndarray'>\n",
      "1 left_line.shape:  (1, 1, 4)\n",
      "1 right_line.shape:  (1, 1, 4)\n",
      "1 left_line.ndim:  3\n",
      "1 right_line.ndim:  3\n",
      "2 left_line.shape:  (1, 1, 4)\n",
      "2 right_line.shape:  (1, 1, 4)\n",
      "2 type(road_lines):  <class 'numpy.ndarray'>\n",
      "6 type(road_lines):  <class 'numpy.ndarray'>\n",
      "6 road_lines.shape:  (1, 2, 4)\n",
      "int32\n",
      "1 type(left_line):  <class 'numpy.ndarray'>\n",
      "1 type(right_line):  <class 'numpy.ndarray'>\n",
      "1 left_line.shape:  (1, 1, 4)\n",
      "1 right_line.shape:  (1, 1, 4)\n",
      "1 left_line.ndim:  3\n",
      "1 right_line.ndim:  3\n",
      "2 left_line.shape:  (1, 1, 4)\n",
      "2 right_line.shape:  (1, 1, 4)\n",
      "2 type(road_lines):  <class 'numpy.ndarray'>\n",
      "6 type(road_lines):  <class 'numpy.ndarray'>\n",
      "6 road_lines.shape:  (1, 2, 4)\n"
     ]
    },
    {
     "name": "stderr",
     "output_type": "stream",
     "text": [
      "\n",
      "t:  73%|███████████████████▋       | 161/221 [00:14<00:05, 11.08it/s, now=None]"
     ]
    },
    {
     "name": "stdout",
     "output_type": "stream",
     "text": [
      "int32\n",
      "1 type(left_line):  <class 'numpy.ndarray'>\n",
      "1 type(right_line):  <class 'numpy.ndarray'>\n",
      "1 left_line.shape:  (1, 1, 4)\n",
      "1 right_line.shape:  (1, 1, 4)\n",
      "1 left_line.ndim:  3\n",
      "1 right_line.ndim:  3\n",
      "2 left_line.shape:  (1, 1, 4)\n",
      "2 right_line.shape:  (1, 1, 4)\n",
      "2 type(road_lines):  <class 'numpy.ndarray'>\n",
      "6 type(road_lines):  <class 'numpy.ndarray'>\n",
      "6 road_lines.shape:  (1, 2, 4)\n",
      "int32\n",
      "1 type(left_line):  <class 'numpy.ndarray'>\n",
      "1 type(right_line):  <class 'numpy.ndarray'>\n",
      "1 left_line.shape:  (1, 1, 4)\n",
      "1 right_line.shape:  (1, 1, 4)\n",
      "1 left_line.ndim:  3\n",
      "1 right_line.ndim:  3\n",
      "2 left_line.shape:  (1, 1, 4)\n",
      "2 right_line.shape:  (1, 1, 4)\n",
      "2 type(road_lines):  <class 'numpy.ndarray'>\n",
      "6 type(road_lines):  <class 'numpy.ndarray'>\n",
      "6 road_lines.shape:  (1, 2, 4)\n"
     ]
    },
    {
     "name": "stderr",
     "output_type": "stream",
     "text": [
      "\n",
      "t:  74%|███████████████████▉       | 163/221 [00:14<00:05, 11.00it/s, now=None]"
     ]
    },
    {
     "name": "stdout",
     "output_type": "stream",
     "text": [
      "int32\n",
      "1 type(left_line):  <class 'numpy.ndarray'>\n",
      "1 type(right_line):  <class 'numpy.ndarray'>\n",
      "1 left_line.shape:  (1, 1, 4)\n",
      "1 right_line.shape:  (1, 1, 4)\n",
      "1 left_line.ndim:  3\n",
      "1 right_line.ndim:  3\n",
      "2 left_line.shape:  (1, 1, 4)\n",
      "2 right_line.shape:  (1, 1, 4)\n",
      "2 type(road_lines):  <class 'numpy.ndarray'>\n",
      "6 type(road_lines):  <class 'numpy.ndarray'>\n",
      "6 road_lines.shape:  (1, 2, 4)\n",
      "int32\n",
      "1 type(left_line):  <class 'numpy.ndarray'>\n",
      "1 type(right_line):  <class 'numpy.ndarray'>\n",
      "1 left_line.shape:  (1, 1, 4)\n",
      "1 right_line.shape:  (1, 1, 4)\n",
      "1 left_line.ndim:  3\n",
      "1 right_line.ndim:  3\n",
      "2 left_line.shape:  (1, 1, 4)\n",
      "2 right_line.shape:  (1, 1, 4)\n",
      "2 type(road_lines):  <class 'numpy.ndarray'>\n",
      "6 type(road_lines):  <class 'numpy.ndarray'>\n",
      "6 road_lines.shape:  (1, 2, 4)\n"
     ]
    },
    {
     "name": "stderr",
     "output_type": "stream",
     "text": [
      "\n",
      "t:  75%|████████████████████▏      | 165/221 [00:15<00:04, 11.43it/s, now=None]"
     ]
    },
    {
     "name": "stdout",
     "output_type": "stream",
     "text": [
      "int32\n",
      "1 type(left_line):  <class 'numpy.ndarray'>\n",
      "1 type(right_line):  <class 'numpy.ndarray'>\n",
      "1 left_line.shape:  (0,)\n",
      "1 right_line.shape:  (1, 1, 4)\n",
      "1 left_line.ndim:  1\n",
      "1 right_line.ndim:  3\n",
      "4 right_line.shape:  (1, 1, 4)\n",
      "5 type(road_lines):  <class 'numpy.ndarray'>\n",
      "5 road_lines.shape:  (1, 1, 4)\n",
      "6 type(road_lines):  <class 'numpy.ndarray'>\n",
      "6 road_lines.shape:  (1, 1, 4)\n",
      "int32\n",
      "1 type(left_line):  <class 'numpy.ndarray'>\n",
      "1 type(right_line):  <class 'numpy.ndarray'>\n",
      "1 left_line.shape:  (1, 1, 4)\n",
      "1 right_line.shape:  (1, 1, 4)\n",
      "1 left_line.ndim:  3\n",
      "1 right_line.ndim:  3\n",
      "2 left_line.shape:  (1, 1, 4)\n",
      "2 right_line.shape:  (1, 1, 4)\n",
      "2 type(road_lines):  <class 'numpy.ndarray'>\n",
      "6 type(road_lines):  <class 'numpy.ndarray'>\n",
      "6 road_lines.shape:  (1, 2, 4)\n"
     ]
    },
    {
     "name": "stderr",
     "output_type": "stream",
     "text": [
      "\n",
      "t:  76%|████████████████████▍      | 167/221 [00:15<00:04, 11.43it/s, now=None]"
     ]
    },
    {
     "name": "stdout",
     "output_type": "stream",
     "text": [
      "int32\n",
      "1 type(left_line):  <class 'numpy.ndarray'>\n",
      "1 type(right_line):  <class 'numpy.ndarray'>\n",
      "1 left_line.shape:  (1, 1, 4)\n",
      "1 right_line.shape:  (1, 1, 4)\n",
      "1 left_line.ndim:  3\n",
      "1 right_line.ndim:  3\n",
      "2 left_line.shape:  (1, 1, 4)\n",
      "2 right_line.shape:  (1, 1, 4)\n",
      "2 type(road_lines):  <class 'numpy.ndarray'>\n",
      "6 type(road_lines):  <class 'numpy.ndarray'>\n",
      "6 road_lines.shape:  (1, 2, 4)\n",
      "int32\n",
      "1 type(left_line):  <class 'numpy.ndarray'>\n",
      "1 type(right_line):  <class 'numpy.ndarray'>\n",
      "1 left_line.shape:  (1, 1, 4)\n",
      "1 right_line.shape:  (1, 1, 4)\n",
      "1 left_line.ndim:  3\n",
      "1 right_line.ndim:  3\n",
      "2 left_line.shape:  (1, 1, 4)\n",
      "2 right_line.shape:  (1, 1, 4)\n",
      "2 type(road_lines):  <class 'numpy.ndarray'>\n",
      "6 type(road_lines):  <class 'numpy.ndarray'>\n",
      "6 road_lines.shape:  (1, 2, 4)\n"
     ]
    },
    {
     "name": "stderr",
     "output_type": "stream",
     "text": [
      "\n",
      "t:  76%|████████████████████▋      | 169/221 [00:15<00:04, 11.35it/s, now=None]"
     ]
    },
    {
     "name": "stdout",
     "output_type": "stream",
     "text": [
      "int32\n",
      "1 type(left_line):  <class 'numpy.ndarray'>\n",
      "1 type(right_line):  <class 'numpy.ndarray'>\n",
      "1 left_line.shape:  (1, 1, 4)\n",
      "1 right_line.shape:  (1, 1, 4)\n",
      "1 left_line.ndim:  3\n",
      "1 right_line.ndim:  3\n",
      "2 left_line.shape:  (1, 1, 4)\n",
      "2 right_line.shape:  (1, 1, 4)\n",
      "2 type(road_lines):  <class 'numpy.ndarray'>\n",
      "6 type(road_lines):  <class 'numpy.ndarray'>\n",
      "6 road_lines.shape:  (1, 2, 4)\n",
      "int32\n",
      "1 type(left_line):  <class 'numpy.ndarray'>\n",
      "1 type(right_line):  <class 'numpy.ndarray'>\n",
      "1 left_line.shape:  (1, 1, 4)\n",
      "1 right_line.shape:  (1, 1, 4)\n",
      "1 left_line.ndim:  3\n",
      "1 right_line.ndim:  3\n",
      "2 left_line.shape:  (1, 1, 4)\n",
      "2 right_line.shape:  (1, 1, 4)\n",
      "2 type(road_lines):  <class 'numpy.ndarray'>\n",
      "6 type(road_lines):  <class 'numpy.ndarray'>\n",
      "6 road_lines.shape:  (1, 2, 4)\n"
     ]
    },
    {
     "name": "stderr",
     "output_type": "stream",
     "text": [
      "\n",
      "t:  77%|████████████████████▉      | 171/221 [00:15<00:04, 11.30it/s, now=None]"
     ]
    },
    {
     "name": "stdout",
     "output_type": "stream",
     "text": [
      "int32\n",
      "1 type(left_line):  <class 'numpy.ndarray'>\n",
      "1 type(right_line):  <class 'numpy.ndarray'>\n",
      "1 left_line.shape:  (1, 1, 4)\n",
      "1 right_line.shape:  (1, 1, 4)\n",
      "1 left_line.ndim:  3\n",
      "1 right_line.ndim:  3\n",
      "2 left_line.shape:  (1, 1, 4)\n",
      "2 right_line.shape:  (1, 1, 4)\n",
      "2 type(road_lines):  <class 'numpy.ndarray'>\n",
      "6 type(road_lines):  <class 'numpy.ndarray'>\n",
      "6 road_lines.shape:  (1, 2, 4)\n",
      "int32\n",
      "1 type(left_line):  <class 'numpy.ndarray'>\n",
      "1 type(right_line):  <class 'numpy.ndarray'>\n",
      "1 left_line.shape:  (1, 1, 4)\n",
      "1 right_line.shape:  (1, 1, 4)\n",
      "1 left_line.ndim:  3\n",
      "1 right_line.ndim:  3\n",
      "2 left_line.shape:  (1, 1, 4)\n",
      "2 right_line.shape:  (1, 1, 4)\n",
      "2 type(road_lines):  <class 'numpy.ndarray'>\n",
      "6 type(road_lines):  <class 'numpy.ndarray'>\n",
      "6 road_lines.shape:  (1, 2, 4)\n"
     ]
    },
    {
     "name": "stderr",
     "output_type": "stream",
     "text": [
      "\n",
      "t:  78%|█████████████████████▏     | 173/221 [00:15<00:04, 11.21it/s, now=None]"
     ]
    },
    {
     "name": "stdout",
     "output_type": "stream",
     "text": [
      "int32\n",
      "1 type(left_line):  <class 'numpy.ndarray'>\n",
      "1 type(right_line):  <class 'numpy.ndarray'>\n",
      "1 left_line.shape:  (1, 1, 4)\n",
      "1 right_line.shape:  (1, 1, 4)\n",
      "1 left_line.ndim:  3\n",
      "1 right_line.ndim:  3\n",
      "2 left_line.shape:  (1, 1, 4)\n",
      "2 right_line.shape:  (1, 1, 4)\n",
      "2 type(road_lines):  <class 'numpy.ndarray'>\n",
      "6 type(road_lines):  <class 'numpy.ndarray'>\n",
      "6 road_lines.shape:  (1, 2, 4)\n",
      "int32\n",
      "1 type(left_line):  <class 'numpy.ndarray'>\n",
      "1 type(right_line):  <class 'numpy.ndarray'>\n",
      "1 left_line.shape:  (1, 1, 4)\n",
      "1 right_line.shape:  (1, 1, 4)\n",
      "1 left_line.ndim:  3\n",
      "1 right_line.ndim:  3\n",
      "2 left_line.shape:  (1, 1, 4)\n",
      "2 right_line.shape:  (1, 1, 4)\n",
      "2 type(road_lines):  <class 'numpy.ndarray'>\n",
      "6 type(road_lines):  <class 'numpy.ndarray'>\n",
      "6 road_lines.shape:  (1, 2, 4)\n"
     ]
    },
    {
     "name": "stderr",
     "output_type": "stream",
     "text": [
      "\n",
      "t:  79%|█████████████████████▍     | 175/221 [00:16<00:04, 11.41it/s, now=None]"
     ]
    },
    {
     "name": "stdout",
     "output_type": "stream",
     "text": [
      "int32\n",
      "1 type(left_line):  <class 'numpy.ndarray'>\n",
      "1 type(right_line):  <class 'numpy.ndarray'>\n",
      "1 left_line.shape:  (1, 1, 4)\n",
      "1 right_line.shape:  (1, 1, 4)\n",
      "1 left_line.ndim:  3\n",
      "1 right_line.ndim:  3\n",
      "2 left_line.shape:  (1, 1, 4)\n",
      "2 right_line.shape:  (1, 1, 4)\n",
      "2 type(road_lines):  <class 'numpy.ndarray'>\n",
      "6 type(road_lines):  <class 'numpy.ndarray'>\n",
      "6 road_lines.shape:  (1, 2, 4)\n",
      "int32\n",
      "1 type(left_line):  <class 'numpy.ndarray'>\n",
      "1 type(right_line):  <class 'numpy.ndarray'>\n",
      "1 left_line.shape:  (1, 1, 4)\n",
      "1 right_line.shape:  (1, 1, 4)\n",
      "1 left_line.ndim:  3\n",
      "1 right_line.ndim:  3\n",
      "2 left_line.shape:  (1, 1, 4)\n",
      "2 right_line.shape:  (1, 1, 4)\n",
      "2 type(road_lines):  <class 'numpy.ndarray'>\n",
      "6 type(road_lines):  <class 'numpy.ndarray'>\n",
      "6 road_lines.shape:  (1, 2, 4)\n"
     ]
    },
    {
     "name": "stderr",
     "output_type": "stream",
     "text": [
      "\n",
      "t:  80%|█████████████████████▌     | 177/221 [00:16<00:03, 11.38it/s, now=None]"
     ]
    },
    {
     "name": "stdout",
     "output_type": "stream",
     "text": [
      "int32\n",
      "1 type(left_line):  <class 'numpy.ndarray'>\n",
      "1 type(right_line):  <class 'numpy.ndarray'>\n",
      "1 left_line.shape:  (0,)\n",
      "1 right_line.shape:  (1, 1, 4)\n",
      "1 left_line.ndim:  1\n",
      "1 right_line.ndim:  3\n",
      "4 right_line.shape:  (1, 1, 4)\n",
      "5 type(road_lines):  <class 'numpy.ndarray'>\n",
      "5 road_lines.shape:  (1, 1, 4)\n",
      "6 type(road_lines):  <class 'numpy.ndarray'>\n",
      "6 road_lines.shape:  (1, 1, 4)\n",
      "int32\n",
      "1 type(left_line):  <class 'numpy.ndarray'>\n",
      "1 type(right_line):  <class 'numpy.ndarray'>\n",
      "1 left_line.shape:  (1, 1, 4)\n",
      "1 right_line.shape:  (1, 1, 4)\n",
      "1 left_line.ndim:  3\n",
      "1 right_line.ndim:  3\n",
      "2 left_line.shape:  (1, 1, 4)\n",
      "2 right_line.shape:  (1, 1, 4)\n",
      "2 type(road_lines):  <class 'numpy.ndarray'>\n",
      "6 type(road_lines):  <class 'numpy.ndarray'>\n",
      "6 road_lines.shape:  (1, 2, 4)\n"
     ]
    },
    {
     "name": "stderr",
     "output_type": "stream",
     "text": [
      "\n",
      "t:  81%|█████████████████████▊     | 179/221 [00:16<00:03, 11.47it/s, now=None]"
     ]
    },
    {
     "name": "stdout",
     "output_type": "stream",
     "text": [
      "int32\n",
      "1 type(left_line):  <class 'numpy.ndarray'>\n",
      "1 type(right_line):  <class 'numpy.ndarray'>\n",
      "1 left_line.shape:  (1, 1, 4)\n",
      "1 right_line.shape:  (1, 1, 4)\n",
      "1 left_line.ndim:  3\n",
      "1 right_line.ndim:  3\n",
      "2 left_line.shape:  (1, 1, 4)\n",
      "2 right_line.shape:  (1, 1, 4)\n",
      "2 type(road_lines):  <class 'numpy.ndarray'>\n",
      "6 type(road_lines):  <class 'numpy.ndarray'>\n",
      "6 road_lines.shape:  (1, 2, 4)\n",
      "int32\n",
      "1 type(left_line):  <class 'numpy.ndarray'>\n",
      "1 type(right_line):  <class 'numpy.ndarray'>\n",
      "1 left_line.shape:  (1, 1, 4)\n",
      "1 right_line.shape:  (1, 1, 4)\n",
      "1 left_line.ndim:  3\n",
      "1 right_line.ndim:  3\n",
      "2 left_line.shape:  (1, 1, 4)\n",
      "2 right_line.shape:  (1, 1, 4)\n",
      "2 type(road_lines):  <class 'numpy.ndarray'>\n",
      "6 type(road_lines):  <class 'numpy.ndarray'>\n",
      "6 road_lines.shape:  (1, 2, 4)\n"
     ]
    },
    {
     "name": "stderr",
     "output_type": "stream",
     "text": [
      "\n",
      "t:  82%|██████████████████████     | 181/221 [00:16<00:03, 11.60it/s, now=None]"
     ]
    },
    {
     "name": "stdout",
     "output_type": "stream",
     "text": [
      "int32\n",
      "1 type(left_line):  <class 'numpy.ndarray'>\n",
      "1 type(right_line):  <class 'numpy.ndarray'>\n",
      "1 left_line.shape:  (1, 1, 4)\n",
      "1 right_line.shape:  (1, 1, 4)\n",
      "1 left_line.ndim:  3\n",
      "1 right_line.ndim:  3\n",
      "2 left_line.shape:  (1, 1, 4)\n",
      "2 right_line.shape:  (1, 1, 4)\n",
      "2 type(road_lines):  <class 'numpy.ndarray'>\n",
      "6 type(road_lines):  <class 'numpy.ndarray'>\n",
      "6 road_lines.shape:  (1, 2, 4)\n",
      "int32\n",
      "1 type(left_line):  <class 'numpy.ndarray'>\n",
      "1 type(right_line):  <class 'numpy.ndarray'>\n",
      "1 left_line.shape:  (1, 1, 4)\n",
      "1 right_line.shape:  (1, 1, 4)\n",
      "1 left_line.ndim:  3\n",
      "1 right_line.ndim:  3\n",
      "2 left_line.shape:  (1, 1, 4)\n",
      "2 right_line.shape:  (1, 1, 4)\n",
      "2 type(road_lines):  <class 'numpy.ndarray'>\n",
      "6 type(road_lines):  <class 'numpy.ndarray'>\n",
      "6 road_lines.shape:  (1, 2, 4)\n"
     ]
    },
    {
     "name": "stderr",
     "output_type": "stream",
     "text": [
      "\n",
      "t:  83%|██████████████████████▎    | 183/221 [00:16<00:03, 11.49it/s, now=None]"
     ]
    },
    {
     "name": "stdout",
     "output_type": "stream",
     "text": [
      "int32\n",
      "1 type(left_line):  <class 'numpy.ndarray'>\n",
      "1 type(right_line):  <class 'numpy.ndarray'>\n",
      "1 left_line.shape:  (1, 1, 4)\n",
      "1 right_line.shape:  (1, 1, 4)\n",
      "1 left_line.ndim:  3\n",
      "1 right_line.ndim:  3\n",
      "2 left_line.shape:  (1, 1, 4)\n",
      "2 right_line.shape:  (1, 1, 4)\n",
      "2 type(road_lines):  <class 'numpy.ndarray'>\n",
      "6 type(road_lines):  <class 'numpy.ndarray'>\n",
      "6 road_lines.shape:  (1, 2, 4)\n",
      "int32\n",
      "1 type(left_line):  <class 'numpy.ndarray'>\n",
      "1 type(right_line):  <class 'numpy.ndarray'>\n",
      "1 left_line.shape:  (1, 1, 4)\n",
      "1 right_line.shape:  (1, 1, 4)\n",
      "1 left_line.ndim:  3\n",
      "1 right_line.ndim:  3\n",
      "2 left_line.shape:  (1, 1, 4)\n",
      "2 right_line.shape:  (1, 1, 4)\n",
      "2 type(road_lines):  <class 'numpy.ndarray'>\n",
      "6 type(road_lines):  <class 'numpy.ndarray'>\n",
      "6 road_lines.shape:  (1, 2, 4)\n"
     ]
    },
    {
     "name": "stderr",
     "output_type": "stream",
     "text": [
      "\n",
      "t:  84%|██████████████████████▌    | 185/221 [00:16<00:03, 11.82it/s, now=None]"
     ]
    },
    {
     "name": "stdout",
     "output_type": "stream",
     "text": [
      "int32\n",
      "1 type(left_line):  <class 'numpy.ndarray'>\n",
      "1 type(right_line):  <class 'numpy.ndarray'>\n",
      "1 left_line.shape:  (1, 1, 4)\n",
      "1 right_line.shape:  (1, 1, 4)\n",
      "1 left_line.ndim:  3\n",
      "1 right_line.ndim:  3\n",
      "2 left_line.shape:  (1, 1, 4)\n",
      "2 right_line.shape:  (1, 1, 4)\n",
      "2 type(road_lines):  <class 'numpy.ndarray'>\n",
      "6 type(road_lines):  <class 'numpy.ndarray'>\n",
      "6 road_lines.shape:  (1, 2, 4)\n",
      "int32\n",
      "1 type(left_line):  <class 'numpy.ndarray'>\n",
      "1 type(right_line):  <class 'numpy.ndarray'>\n",
      "1 left_line.shape:  (1, 1, 4)\n",
      "1 right_line.shape:  (1, 1, 4)\n",
      "1 left_line.ndim:  3\n",
      "1 right_line.ndim:  3\n",
      "2 left_line.shape:  (1, 1, 4)\n",
      "2 right_line.shape:  (1, 1, 4)\n",
      "2 type(road_lines):  <class 'numpy.ndarray'>\n",
      "6 type(road_lines):  <class 'numpy.ndarray'>\n",
      "6 road_lines.shape:  (1, 2, 4)\n"
     ]
    },
    {
     "name": "stderr",
     "output_type": "stream",
     "text": [
      "\n",
      "t:  85%|██████████████████████▊    | 187/221 [00:17<00:02, 11.91it/s, now=None]"
     ]
    },
    {
     "name": "stdout",
     "output_type": "stream",
     "text": [
      "int32\n",
      "1 type(left_line):  <class 'numpy.ndarray'>\n",
      "1 type(right_line):  <class 'numpy.ndarray'>\n",
      "1 left_line.shape:  (1, 1, 4)\n",
      "1 right_line.shape:  (1, 1, 4)\n",
      "1 left_line.ndim:  3\n",
      "1 right_line.ndim:  3\n",
      "2 left_line.shape:  (1, 1, 4)\n",
      "2 right_line.shape:  (1, 1, 4)\n",
      "2 type(road_lines):  <class 'numpy.ndarray'>\n",
      "6 type(road_lines):  <class 'numpy.ndarray'>\n",
      "6 road_lines.shape:  (1, 2, 4)\n",
      "int32\n",
      "1 type(left_line):  <class 'numpy.ndarray'>\n",
      "1 type(right_line):  <class 'numpy.ndarray'>\n",
      "1 left_line.shape:  (1, 1, 4)\n",
      "1 right_line.shape:  (1, 1, 4)\n",
      "1 left_line.ndim:  3\n",
      "1 right_line.ndim:  3\n",
      "2 left_line.shape:  (1, 1, 4)\n",
      "2 right_line.shape:  (1, 1, 4)\n",
      "2 type(road_lines):  <class 'numpy.ndarray'>\n",
      "6 type(road_lines):  <class 'numpy.ndarray'>\n",
      "6 road_lines.shape:  (1, 2, 4)\n"
     ]
    },
    {
     "name": "stderr",
     "output_type": "stream",
     "text": [
      "\n",
      "t:  86%|███████████████████████    | 189/221 [00:17<00:02, 12.08it/s, now=None]"
     ]
    },
    {
     "name": "stdout",
     "output_type": "stream",
     "text": [
      "int32\n",
      "1 type(left_line):  <class 'numpy.ndarray'>\n",
      "1 type(right_line):  <class 'numpy.ndarray'>\n",
      "1 left_line.shape:  (0,)\n",
      "1 right_line.shape:  (1, 1, 4)\n",
      "1 left_line.ndim:  1\n",
      "1 right_line.ndim:  3\n",
      "4 right_line.shape:  (1, 1, 4)\n",
      "5 type(road_lines):  <class 'numpy.ndarray'>\n",
      "5 road_lines.shape:  (1, 1, 4)\n",
      "6 type(road_lines):  <class 'numpy.ndarray'>\n",
      "6 road_lines.shape:  (1, 1, 4)\n",
      "int32\n",
      "1 type(left_line):  <class 'numpy.ndarray'>\n",
      "1 type(right_line):  <class 'numpy.ndarray'>\n",
      "1 left_line.shape:  (1, 1, 4)\n",
      "1 right_line.shape:  (1, 1, 4)\n",
      "1 left_line.ndim:  3\n",
      "1 right_line.ndim:  3\n",
      "2 left_line.shape:  (1, 1, 4)\n",
      "2 right_line.shape:  (1, 1, 4)\n",
      "2 type(road_lines):  <class 'numpy.ndarray'>\n",
      "6 type(road_lines):  <class 'numpy.ndarray'>\n",
      "6 road_lines.shape:  (1, 2, 4)\n"
     ]
    },
    {
     "name": "stderr",
     "output_type": "stream",
     "text": [
      "\n",
      "t:  86%|███████████████████████▎   | 191/221 [00:17<00:02, 11.82it/s, now=None]"
     ]
    },
    {
     "name": "stdout",
     "output_type": "stream",
     "text": [
      "int32\n",
      "1 type(left_line):  <class 'numpy.ndarray'>\n",
      "1 type(right_line):  <class 'numpy.ndarray'>\n",
      "1 left_line.shape:  (1, 1, 4)\n",
      "1 right_line.shape:  (1, 1, 4)\n",
      "1 left_line.ndim:  3\n",
      "1 right_line.ndim:  3\n",
      "2 left_line.shape:  (1, 1, 4)\n",
      "2 right_line.shape:  (1, 1, 4)\n",
      "2 type(road_lines):  <class 'numpy.ndarray'>\n",
      "6 type(road_lines):  <class 'numpy.ndarray'>\n",
      "6 road_lines.shape:  (1, 2, 4)\n",
      "int32\n",
      "1 type(left_line):  <class 'numpy.ndarray'>\n",
      "1 type(right_line):  <class 'numpy.ndarray'>\n",
      "1 left_line.shape:  (1, 1, 4)\n",
      "1 right_line.shape:  (1, 1, 4)\n",
      "1 left_line.ndim:  3\n",
      "1 right_line.ndim:  3\n",
      "2 left_line.shape:  (1, 1, 4)\n",
      "2 right_line.shape:  (1, 1, 4)\n",
      "2 type(road_lines):  <class 'numpy.ndarray'>\n",
      "6 type(road_lines):  <class 'numpy.ndarray'>\n",
      "6 road_lines.shape:  (1, 2, 4)\n"
     ]
    },
    {
     "name": "stderr",
     "output_type": "stream",
     "text": [
      "\n",
      "t:  87%|███████████████████████▌   | 193/221 [00:17<00:02, 11.91it/s, now=None]"
     ]
    },
    {
     "name": "stdout",
     "output_type": "stream",
     "text": [
      "int32\n",
      "1 type(left_line):  <class 'numpy.ndarray'>\n",
      "1 type(right_line):  <class 'numpy.ndarray'>\n",
      "1 left_line.shape:  (1, 1, 4)\n",
      "1 right_line.shape:  (1, 1, 4)\n",
      "1 left_line.ndim:  3\n",
      "1 right_line.ndim:  3\n",
      "2 left_line.shape:  (1, 1, 4)\n",
      "2 right_line.shape:  (1, 1, 4)\n",
      "2 type(road_lines):  <class 'numpy.ndarray'>\n",
      "6 type(road_lines):  <class 'numpy.ndarray'>\n",
      "6 road_lines.shape:  (1, 2, 4)\n",
      "int32\n",
      "1 type(left_line):  <class 'numpy.ndarray'>\n",
      "1 type(right_line):  <class 'numpy.ndarray'>\n",
      "1 left_line.shape:  (1, 1, 4)\n",
      "1 right_line.shape:  (1, 1, 4)\n",
      "1 left_line.ndim:  3\n",
      "1 right_line.ndim:  3\n",
      "2 left_line.shape:  (1, 1, 4)\n",
      "2 right_line.shape:  (1, 1, 4)\n",
      "2 type(road_lines):  <class 'numpy.ndarray'>\n",
      "6 type(road_lines):  <class 'numpy.ndarray'>\n",
      "6 road_lines.shape:  (1, 2, 4)\n"
     ]
    },
    {
     "name": "stderr",
     "output_type": "stream",
     "text": [
      "\n",
      "t:  88%|███████████████████████▊   | 195/221 [00:17<00:02, 11.95it/s, now=None]"
     ]
    },
    {
     "name": "stdout",
     "output_type": "stream",
     "text": [
      "int32\n",
      "1 type(left_line):  <class 'numpy.ndarray'>\n",
      "1 type(right_line):  <class 'numpy.ndarray'>\n",
      "1 left_line.shape:  (1, 1, 4)\n",
      "1 right_line.shape:  (1, 1, 4)\n",
      "1 left_line.ndim:  3\n",
      "1 right_line.ndim:  3\n",
      "2 left_line.shape:  (1, 1, 4)\n",
      "2 right_line.shape:  (1, 1, 4)\n",
      "2 type(road_lines):  <class 'numpy.ndarray'>\n",
      "6 type(road_lines):  <class 'numpy.ndarray'>\n",
      "6 road_lines.shape:  (1, 2, 4)\n",
      "int32\n",
      "1 type(left_line):  <class 'numpy.ndarray'>\n",
      "1 type(right_line):  <class 'numpy.ndarray'>\n",
      "1 left_line.shape:  (1, 1, 4)\n",
      "1 right_line.shape:  (1, 1, 4)\n",
      "1 left_line.ndim:  3\n",
      "1 right_line.ndim:  3\n",
      "2 left_line.shape:  (1, 1, 4)\n",
      "2 right_line.shape:  (1, 1, 4)\n",
      "2 type(road_lines):  <class 'numpy.ndarray'>\n",
      "6 type(road_lines):  <class 'numpy.ndarray'>\n",
      "6 road_lines.shape:  (1, 2, 4)\n"
     ]
    },
    {
     "name": "stderr",
     "output_type": "stream",
     "text": [
      "\n",
      "t:  89%|████████████████████████   | 197/221 [00:17<00:02, 11.31it/s, now=None]"
     ]
    },
    {
     "name": "stdout",
     "output_type": "stream",
     "text": [
      "int32\n",
      "1 type(left_line):  <class 'numpy.ndarray'>\n",
      "1 type(right_line):  <class 'numpy.ndarray'>\n",
      "1 left_line.shape:  (1, 1, 4)\n",
      "1 right_line.shape:  (1, 1, 4)\n",
      "1 left_line.ndim:  3\n",
      "1 right_line.ndim:  3\n",
      "2 left_line.shape:  (1, 1, 4)\n",
      "2 right_line.shape:  (1, 1, 4)\n",
      "2 type(road_lines):  <class 'numpy.ndarray'>\n",
      "6 type(road_lines):  <class 'numpy.ndarray'>\n",
      "6 road_lines.shape:  (1, 2, 4)\n",
      "int32\n",
      "1 type(left_line):  <class 'numpy.ndarray'>\n",
      "1 type(right_line):  <class 'numpy.ndarray'>\n",
      "1 left_line.shape:  (1, 1, 4)\n",
      "1 right_line.shape:  (1, 1, 4)\n",
      "1 left_line.ndim:  3\n",
      "1 right_line.ndim:  3\n",
      "2 left_line.shape:  (1, 1, 4)\n",
      "2 right_line.shape:  (1, 1, 4)\n",
      "2 type(road_lines):  <class 'numpy.ndarray'>\n",
      "6 type(road_lines):  <class 'numpy.ndarray'>\n",
      "6 road_lines.shape:  (1, 2, 4)\n"
     ]
    },
    {
     "name": "stderr",
     "output_type": "stream",
     "text": [
      "\n",
      "t:  90%|████████████████████████▎  | 199/221 [00:18<00:01, 11.60it/s, now=None]"
     ]
    },
    {
     "name": "stdout",
     "output_type": "stream",
     "text": [
      "int32\n",
      "1 type(left_line):  <class 'numpy.ndarray'>\n",
      "1 type(right_line):  <class 'numpy.ndarray'>\n",
      "1 left_line.shape:  (1, 1, 4)\n",
      "1 right_line.shape:  (1, 1, 4)\n",
      "1 left_line.ndim:  3\n",
      "1 right_line.ndim:  3\n",
      "2 left_line.shape:  (1, 1, 4)\n",
      "2 right_line.shape:  (1, 1, 4)\n",
      "2 type(road_lines):  <class 'numpy.ndarray'>\n",
      "6 type(road_lines):  <class 'numpy.ndarray'>\n",
      "6 road_lines.shape:  (1, 2, 4)\n",
      "int32\n",
      "1 type(left_line):  <class 'numpy.ndarray'>\n",
      "1 type(right_line):  <class 'numpy.ndarray'>\n",
      "1 left_line.shape:  (0,)\n",
      "1 right_line.shape:  (1, 1, 4)\n",
      "1 left_line.ndim:  1\n",
      "1 right_line.ndim:  3\n",
      "4 right_line.shape:  (1, 1, 4)\n",
      "5 type(road_lines):  <class 'numpy.ndarray'>\n",
      "5 road_lines.shape:  (1, 1, 4)\n",
      "6 type(road_lines):  <class 'numpy.ndarray'>\n",
      "6 road_lines.shape:  (1, 1, 4)\n"
     ]
    },
    {
     "name": "stderr",
     "output_type": "stream",
     "text": [
      "\n",
      "t:  91%|████████████████████████▌  | 201/221 [00:18<00:01, 11.57it/s, now=None]"
     ]
    },
    {
     "name": "stdout",
     "output_type": "stream",
     "text": [
      "int32\n",
      "1 type(left_line):  <class 'numpy.ndarray'>\n",
      "1 type(right_line):  <class 'numpy.ndarray'>\n",
      "1 left_line.shape:  (0,)\n",
      "1 right_line.shape:  (1, 1, 4)\n",
      "1 left_line.ndim:  1\n",
      "1 right_line.ndim:  3\n",
      "4 right_line.shape:  (1, 1, 4)\n",
      "5 type(road_lines):  <class 'numpy.ndarray'>\n",
      "5 road_lines.shape:  (1, 1, 4)\n",
      "6 type(road_lines):  <class 'numpy.ndarray'>\n",
      "6 road_lines.shape:  (1, 1, 4)\n",
      "int32\n",
      "1 type(left_line):  <class 'numpy.ndarray'>\n",
      "1 type(right_line):  <class 'numpy.ndarray'>\n",
      "1 left_line.shape:  (1, 1, 4)\n",
      "1 right_line.shape:  (1, 1, 4)\n",
      "1 left_line.ndim:  3\n",
      "1 right_line.ndim:  3\n",
      "2 left_line.shape:  (1, 1, 4)\n",
      "2 right_line.shape:  (1, 1, 4)\n",
      "2 type(road_lines):  <class 'numpy.ndarray'>\n",
      "6 type(road_lines):  <class 'numpy.ndarray'>\n",
      "6 road_lines.shape:  (1, 2, 4)\n"
     ]
    },
    {
     "name": "stderr",
     "output_type": "stream",
     "text": [
      "\n",
      "t:  92%|████████████████████████▊  | 203/221 [00:18<00:01, 11.88it/s, now=None]"
     ]
    },
    {
     "name": "stdout",
     "output_type": "stream",
     "text": [
      "int32\n",
      "1 type(left_line):  <class 'numpy.ndarray'>\n",
      "1 type(right_line):  <class 'numpy.ndarray'>\n",
      "1 left_line.shape:  (1, 1, 4)\n",
      "1 right_line.shape:  (1, 1, 4)\n",
      "1 left_line.ndim:  3\n",
      "1 right_line.ndim:  3\n",
      "2 left_line.shape:  (1, 1, 4)\n",
      "2 right_line.shape:  (1, 1, 4)\n",
      "2 type(road_lines):  <class 'numpy.ndarray'>\n",
      "6 type(road_lines):  <class 'numpy.ndarray'>\n",
      "6 road_lines.shape:  (1, 2, 4)\n",
      "int32\n",
      "1 type(left_line):  <class 'numpy.ndarray'>\n",
      "1 type(right_line):  <class 'numpy.ndarray'>\n",
      "1 left_line.shape:  (1, 1, 4)\n",
      "1 right_line.shape:  (1, 1, 4)\n",
      "1 left_line.ndim:  3\n",
      "1 right_line.ndim:  3\n",
      "2 left_line.shape:  (1, 1, 4)\n",
      "2 right_line.shape:  (1, 1, 4)\n",
      "2 type(road_lines):  <class 'numpy.ndarray'>\n",
      "6 type(road_lines):  <class 'numpy.ndarray'>\n",
      "6 road_lines.shape:  (1, 2, 4)\n"
     ]
    },
    {
     "name": "stderr",
     "output_type": "stream",
     "text": [
      "\n",
      "t:  93%|█████████████████████████  | 205/221 [00:18<00:01, 11.85it/s, now=None]"
     ]
    },
    {
     "name": "stdout",
     "output_type": "stream",
     "text": [
      "int32\n",
      "1 type(left_line):  <class 'numpy.ndarray'>\n",
      "1 type(right_line):  <class 'numpy.ndarray'>\n",
      "1 left_line.shape:  (1, 1, 4)\n",
      "1 right_line.shape:  (1, 1, 4)\n",
      "1 left_line.ndim:  3\n",
      "1 right_line.ndim:  3\n",
      "2 left_line.shape:  (1, 1, 4)\n",
      "2 right_line.shape:  (1, 1, 4)\n",
      "2 type(road_lines):  <class 'numpy.ndarray'>\n",
      "6 type(road_lines):  <class 'numpy.ndarray'>\n",
      "6 road_lines.shape:  (1, 2, 4)\n",
      "int32\n",
      "1 type(left_line):  <class 'numpy.ndarray'>\n",
      "1 type(right_line):  <class 'numpy.ndarray'>\n",
      "1 left_line.shape:  (1, 1, 4)\n",
      "1 right_line.shape:  (1, 1, 4)\n",
      "1 left_line.ndim:  3\n",
      "1 right_line.ndim:  3\n",
      "2 left_line.shape:  (1, 1, 4)\n",
      "2 right_line.shape:  (1, 1, 4)\n",
      "2 type(road_lines):  <class 'numpy.ndarray'>\n",
      "6 type(road_lines):  <class 'numpy.ndarray'>\n",
      "6 road_lines.shape:  (1, 2, 4)\n"
     ]
    },
    {
     "name": "stderr",
     "output_type": "stream",
     "text": [
      "\n",
      "t:  94%|█████████████████████████▎ | 207/221 [00:18<00:01, 11.84it/s, now=None]"
     ]
    },
    {
     "name": "stdout",
     "output_type": "stream",
     "text": [
      "int32\n",
      "1 type(left_line):  <class 'numpy.ndarray'>\n",
      "1 type(right_line):  <class 'numpy.ndarray'>\n",
      "1 left_line.shape:  (1, 1, 4)\n",
      "1 right_line.shape:  (1, 1, 4)\n",
      "1 left_line.ndim:  3\n",
      "1 right_line.ndim:  3\n",
      "2 left_line.shape:  (1, 1, 4)\n",
      "2 right_line.shape:  (1, 1, 4)\n",
      "2 type(road_lines):  <class 'numpy.ndarray'>\n",
      "6 type(road_lines):  <class 'numpy.ndarray'>\n",
      "6 road_lines.shape:  (1, 2, 4)\n",
      "int32\n",
      "1 type(left_line):  <class 'numpy.ndarray'>\n",
      "1 type(right_line):  <class 'numpy.ndarray'>\n",
      "1 left_line.shape:  (1, 1, 4)\n",
      "1 right_line.shape:  (1, 1, 4)\n",
      "1 left_line.ndim:  3\n",
      "1 right_line.ndim:  3\n",
      "2 left_line.shape:  (1, 1, 4)\n",
      "2 right_line.shape:  (1, 1, 4)\n",
      "2 type(road_lines):  <class 'numpy.ndarray'>\n",
      "6 type(road_lines):  <class 'numpy.ndarray'>\n",
      "6 road_lines.shape:  (1, 2, 4)\n"
     ]
    },
    {
     "name": "stderr",
     "output_type": "stream",
     "text": [
      "\n",
      "t:  95%|█████████████████████████▌ | 209/221 [00:18<00:01, 11.93it/s, now=None]"
     ]
    },
    {
     "name": "stdout",
     "output_type": "stream",
     "text": [
      "int32\n",
      "1 type(left_line):  <class 'numpy.ndarray'>\n",
      "1 type(right_line):  <class 'numpy.ndarray'>\n",
      "1 left_line.shape:  (1, 1, 4)\n",
      "1 right_line.shape:  (1, 1, 4)\n",
      "1 left_line.ndim:  3\n",
      "1 right_line.ndim:  3\n",
      "2 left_line.shape:  (1, 1, 4)\n",
      "2 right_line.shape:  (1, 1, 4)\n",
      "2 type(road_lines):  <class 'numpy.ndarray'>\n",
      "6 type(road_lines):  <class 'numpy.ndarray'>\n",
      "6 road_lines.shape:  (1, 2, 4)\n",
      "int32\n",
      "1 type(left_line):  <class 'numpy.ndarray'>\n",
      "1 type(right_line):  <class 'numpy.ndarray'>\n",
      "1 left_line.shape:  (1, 1, 4)\n",
      "1 right_line.shape:  (1, 1, 4)\n",
      "1 left_line.ndim:  3\n",
      "1 right_line.ndim:  3\n",
      "2 left_line.shape:  (1, 1, 4)\n",
      "2 right_line.shape:  (1, 1, 4)\n",
      "2 type(road_lines):  <class 'numpy.ndarray'>\n",
      "6 type(road_lines):  <class 'numpy.ndarray'>\n",
      "6 road_lines.shape:  (1, 2, 4)\n"
     ]
    },
    {
     "name": "stderr",
     "output_type": "stream",
     "text": [
      "\n",
      "t:  95%|█████████████████████████▊ | 211/221 [00:19<00:00, 12.20it/s, now=None]"
     ]
    },
    {
     "name": "stdout",
     "output_type": "stream",
     "text": [
      "int32\n",
      "1 type(left_line):  <class 'numpy.ndarray'>\n",
      "1 type(right_line):  <class 'numpy.ndarray'>\n",
      "1 left_line.shape:  (1, 1, 4)\n",
      "1 right_line.shape:  (1, 1, 4)\n",
      "1 left_line.ndim:  3\n",
      "1 right_line.ndim:  3\n",
      "2 left_line.shape:  (1, 1, 4)\n",
      "2 right_line.shape:  (1, 1, 4)\n",
      "2 type(road_lines):  <class 'numpy.ndarray'>\n",
      "6 type(road_lines):  <class 'numpy.ndarray'>\n",
      "6 road_lines.shape:  (1, 2, 4)\n",
      "int32\n",
      "1 type(left_line):  <class 'numpy.ndarray'>\n",
      "1 type(right_line):  <class 'numpy.ndarray'>\n",
      "1 left_line.shape:  (1, 1, 4)\n",
      "1 right_line.shape:  (1, 1, 4)\n",
      "1 left_line.ndim:  3\n",
      "1 right_line.ndim:  3\n",
      "2 left_line.shape:  (1, 1, 4)\n",
      "2 right_line.shape:  (1, 1, 4)\n",
      "2 type(road_lines):  <class 'numpy.ndarray'>\n",
      "6 type(road_lines):  <class 'numpy.ndarray'>\n",
      "6 road_lines.shape:  (1, 2, 4)\n"
     ]
    },
    {
     "name": "stderr",
     "output_type": "stream",
     "text": [
      "\n",
      "t:  96%|██████████████████████████ | 213/221 [00:19<00:00, 12.34it/s, now=None]"
     ]
    },
    {
     "name": "stdout",
     "output_type": "stream",
     "text": [
      "int32\n",
      "1 type(left_line):  <class 'numpy.ndarray'>\n",
      "1 type(right_line):  <class 'numpy.ndarray'>\n",
      "1 left_line.shape:  (1, 1, 4)\n",
      "1 right_line.shape:  (1, 1, 4)\n",
      "1 left_line.ndim:  3\n",
      "1 right_line.ndim:  3\n",
      "2 left_line.shape:  (1, 1, 4)\n",
      "2 right_line.shape:  (1, 1, 4)\n",
      "2 type(road_lines):  <class 'numpy.ndarray'>\n",
      "6 type(road_lines):  <class 'numpy.ndarray'>\n",
      "6 road_lines.shape:  (1, 2, 4)\n",
      "int32\n",
      "1 type(left_line):  <class 'numpy.ndarray'>\n",
      "1 type(right_line):  <class 'numpy.ndarray'>\n",
      "1 left_line.shape:  (1, 1, 4)\n",
      "1 right_line.shape:  (1, 1, 4)\n",
      "1 left_line.ndim:  3\n",
      "1 right_line.ndim:  3\n",
      "2 left_line.shape:  (1, 1, 4)\n",
      "2 right_line.shape:  (1, 1, 4)\n",
      "2 type(road_lines):  <class 'numpy.ndarray'>\n",
      "6 type(road_lines):  <class 'numpy.ndarray'>\n",
      "6 road_lines.shape:  (1, 2, 4)\n"
     ]
    },
    {
     "name": "stderr",
     "output_type": "stream",
     "text": [
      "\n",
      "t:  97%|██████████████████████████▎| 215/221 [00:19<00:00, 12.57it/s, now=None]"
     ]
    },
    {
     "name": "stdout",
     "output_type": "stream",
     "text": [
      "int32\n",
      "1 type(left_line):  <class 'numpy.ndarray'>\n",
      "1 type(right_line):  <class 'numpy.ndarray'>\n",
      "1 left_line.shape:  (1, 1, 4)\n",
      "1 right_line.shape:  (1, 1, 4)\n",
      "1 left_line.ndim:  3\n",
      "1 right_line.ndim:  3\n",
      "2 left_line.shape:  (1, 1, 4)\n",
      "2 right_line.shape:  (1, 1, 4)\n",
      "2 type(road_lines):  <class 'numpy.ndarray'>\n",
      "6 type(road_lines):  <class 'numpy.ndarray'>\n",
      "6 road_lines.shape:  (1, 2, 4)\n",
      "int32\n",
      "1 type(left_line):  <class 'numpy.ndarray'>\n",
      "1 type(right_line):  <class 'numpy.ndarray'>\n",
      "1 left_line.shape:  (1, 1, 4)\n",
      "1 right_line.shape:  (1, 1, 4)\n",
      "1 left_line.ndim:  3\n",
      "1 right_line.ndim:  3\n",
      "2 left_line.shape:  (1, 1, 4)\n",
      "2 right_line.shape:  (1, 1, 4)\n",
      "2 type(road_lines):  <class 'numpy.ndarray'>\n",
      "6 type(road_lines):  <class 'numpy.ndarray'>\n",
      "6 road_lines.shape:  (1, 2, 4)\n"
     ]
    },
    {
     "name": "stderr",
     "output_type": "stream",
     "text": [
      "\n",
      "t:  98%|██████████████████████████▌| 217/221 [00:19<00:00, 12.79it/s, now=None]"
     ]
    },
    {
     "name": "stdout",
     "output_type": "stream",
     "text": [
      "int32\n",
      "1 type(left_line):  <class 'numpy.ndarray'>\n",
      "1 type(right_line):  <class 'numpy.ndarray'>\n",
      "1 left_line.shape:  (1, 1, 4)\n",
      "1 right_line.shape:  (1, 1, 4)\n",
      "1 left_line.ndim:  3\n",
      "1 right_line.ndim:  3\n",
      "2 left_line.shape:  (1, 1, 4)\n",
      "2 right_line.shape:  (1, 1, 4)\n",
      "2 type(road_lines):  <class 'numpy.ndarray'>\n",
      "6 type(road_lines):  <class 'numpy.ndarray'>\n",
      "6 road_lines.shape:  (1, 2, 4)\n",
      "int32\n",
      "1 type(left_line):  <class 'numpy.ndarray'>\n",
      "1 type(right_line):  <class 'numpy.ndarray'>\n",
      "1 left_line.shape:  (1, 1, 4)\n",
      "1 right_line.shape:  (1, 1, 4)\n",
      "1 left_line.ndim:  3\n",
      "1 right_line.ndim:  3\n",
      "2 left_line.shape:  (1, 1, 4)\n",
      "2 right_line.shape:  (1, 1, 4)\n",
      "2 type(road_lines):  <class 'numpy.ndarray'>\n",
      "6 type(road_lines):  <class 'numpy.ndarray'>\n",
      "6 road_lines.shape:  (1, 2, 4)\n"
     ]
    },
    {
     "name": "stderr",
     "output_type": "stream",
     "text": [
      "\n",
      "t:  99%|██████████████████████████▊| 219/221 [00:19<00:00, 12.71it/s, now=None]"
     ]
    },
    {
     "name": "stdout",
     "output_type": "stream",
     "text": [
      "int32\n",
      "1 type(left_line):  <class 'numpy.ndarray'>\n",
      "1 type(right_line):  <class 'numpy.ndarray'>\n",
      "1 left_line.shape:  (1, 1, 4)\n",
      "1 right_line.shape:  (1, 1, 4)\n",
      "1 left_line.ndim:  3\n",
      "1 right_line.ndim:  3\n",
      "2 left_line.shape:  (1, 1, 4)\n",
      "2 right_line.shape:  (1, 1, 4)\n",
      "2 type(road_lines):  <class 'numpy.ndarray'>\n",
      "6 type(road_lines):  <class 'numpy.ndarray'>\n",
      "6 road_lines.shape:  (1, 2, 4)\n",
      "int32\n",
      "1 type(left_line):  <class 'numpy.ndarray'>\n",
      "1 type(right_line):  <class 'numpy.ndarray'>\n",
      "1 left_line.shape:  (1, 1, 4)\n",
      "1 right_line.shape:  (1, 1, 4)\n",
      "1 left_line.ndim:  3\n",
      "1 right_line.ndim:  3\n",
      "2 left_line.shape:  (1, 1, 4)\n",
      "2 right_line.shape:  (1, 1, 4)\n",
      "2 type(road_lines):  <class 'numpy.ndarray'>\n",
      "6 type(road_lines):  <class 'numpy.ndarray'>\n",
      "6 road_lines.shape:  (1, 2, 4)\n"
     ]
    },
    {
     "name": "stderr",
     "output_type": "stream",
     "text": [
      "\n",
      "t: 100%|███████████████████████████| 221/221 [00:19<00:00, 12.48it/s, now=None]"
     ]
    },
    {
     "name": "stdout",
     "output_type": "stream",
     "text": [
      "int32\n",
      "1 type(left_line):  <class 'numpy.ndarray'>\n",
      "1 type(right_line):  <class 'numpy.ndarray'>\n",
      "1 left_line.shape:  (1, 1, 4)\n",
      "1 right_line.shape:  (1, 1, 4)\n",
      "1 left_line.ndim:  3\n",
      "1 right_line.ndim:  3\n",
      "2 left_line.shape:  (1, 1, 4)\n",
      "2 right_line.shape:  (1, 1, 4)\n",
      "2 type(road_lines):  <class 'numpy.ndarray'>\n",
      "6 type(road_lines):  <class 'numpy.ndarray'>\n",
      "6 road_lines.shape:  (1, 2, 4)\n"
     ]
    },
    {
     "name": "stderr",
     "output_type": "stream",
     "text": [
      "\n",
      "                                                                               \r"
     ]
    },
    {
     "name": "stdout",
     "output_type": "stream",
     "text": [
      "Moviepy - Done !\n"
     ]
    },
    {
     "name": "stderr",
     "output_type": "stream",
     "text": [
      "                                                                               \r"
     ]
    },
    {
     "name": "stdout",
     "output_type": "stream",
     "text": [
      "Moviepy - video ready test_videos_output\\solidWhiteRight.mp4\n"
     ]
    },
    {
     "name": "stderr",
     "output_type": "stream",
     "text": [
      "\r",
      "t:   3%|▉                            | 7/221 [02:07<00:21,  9.80it/s, now=None]"
     ]
    },
    {
     "name": "stdout",
     "output_type": "stream",
     "text": [
      "Wall time: 20.6 s\n",
      "Done!\n"
     ]
    }
   ],
   "source": [
    "#Process_Images()\n",
    "\n",
    "process_video('solidWhiteRight.mp4')\n",
    "#process_video('solidYellowLeft.mp4')\n",
    "#process_video('challenge.mp4')\n"
   ]
  },
  {
   "cell_type": "code",
   "execution_count": null,
   "metadata": {},
   "outputs": [],
   "source": []
  }
 ],
 "metadata": {
  "anaconda-cloud": {},
  "kernelspec": {
   "display_name": "Python 3",
   "language": "python",
   "name": "python3"
  },
  "language_info": {
   "codemirror_mode": {
    "name": "ipython",
    "version": 3
   },
   "file_extension": ".py",
   "mimetype": "text/x-python",
   "name": "python",
   "nbconvert_exporter": "python",
   "pygments_lexer": "ipython3",
   "version": "3.6.8"
  }
 },
 "nbformat": 4,
 "nbformat_minor": 1
}
